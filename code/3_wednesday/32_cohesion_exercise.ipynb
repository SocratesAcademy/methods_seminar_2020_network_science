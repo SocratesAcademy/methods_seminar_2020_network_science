{
 "cells": [
  {
   "cell_type": "markdown",
   "metadata": {},
   "source": [
    "### 1st Virtual Methods Seminar: Methods of Computational Social Science\n",
    "## Introduction to Social Network Science with Python\n",
    "# Cohesion - Exercise 3.2\n",
    "Instructors: Haiko Lietz & Olga Zagovora\n",
    "\n",
    "Date: September 23, 2020\n",
    "## Packages"
   ]
  },
  {
   "cell_type": "code",
   "execution_count": null,
   "metadata": {},
   "outputs": [],
   "source": [
    "import sys\n",
    "libs_path = '../../code/libs/'\n",
    "sys.path.append(libs_path)\n",
    "import compsoc as cs"
   ]
  },
  {
   "cell_type": "code",
   "execution_count": null,
   "metadata": {},
   "outputs": [],
   "source": [
    "import matplotlib.pyplot as plt\n",
    "import networkx as nx\n",
    "import pandas as pd\n",
    "import matplotlib.cm as cm"
   ]
  },
  {
   "cell_type": "markdown",
   "metadata": {},
   "source": [
    "## Functions"
   ]
  },
  {
   "cell_type": "code",
   "execution_count": null,
   "metadata": {},
   "outputs": [],
   "source": [
    "def highlights(g, nodes):\n",
    "    d = dict(zip(g.nodes, g.number_of_nodes()*['white']))\n",
    "    for node in nodes:\n",
    "        d.update({node: 'black'})\n",
    "    return d"
   ]
  },
  {
   "cell_type": "markdown",
   "metadata": {},
   "source": [
    "## Introduction\n",
    "In this exercise, we will take another look at the Copenhagen Networks Study collection to detect cores graph theoretically and by filtering. Load the dataset using the `copenhagen_collection()` function:"
   ]
  },
  {
   "cell_type": "code",
   "execution_count": null,
   "metadata": {},
   "outputs": [],
   "source": [
    "users, genders, bluetooth, calls, sms, facebook_friends = cs.copenhagen_collection(path='../../data/copenhagen/')"
   ]
  },
  {
   "cell_type": "markdown",
   "metadata": {},
   "source": [
    "We need just a little bit of preprocessing. For the `bluetooth` data, we sum up the signal strengths and remove signals with zero strength:"
   ]
  },
  {
   "cell_type": "code",
   "execution_count": null,
   "metadata": {},
   "outputs": [],
   "source": [
    "bluetooth = bluetooth[['user_id_from', 'user_id_to', 'strength']].groupby(['user_id_from', 'user_id_to']).sum().reset_index()\n",
    "bluetooth = bluetooth[bluetooth['strength'] > 0]"
   ]
  },
  {
   "cell_type": "markdown",
   "metadata": {},
   "source": [
    "The `facebook_friends` dataframe needs a unit weight so the dataframe meets the data format expectations:"
   ]
  },
  {
   "cell_type": "code",
   "execution_count": null,
   "metadata": {},
   "outputs": [],
   "source": [
    "facebook_friends['weight'] = 1"
   ]
  },
  {
   "cell_type": "markdown",
   "metadata": {},
   "source": [
    "## Exercise 1\n",
    "The **bluetooth** data is a weighted undirected graph. Filter weak **summed signals** to identify the persons that are most strongly co-located. Draw all largest bicomponents of the filtered graph.\n",
    "\n",
    "Hints:\n",
    "- The `nx.biconnected_components()` method returns a list of sets. To transform this list into a union set, find a solution [here](https://stackoverflow.com/questions/31253109/how-can-i-find-the-union-on-a-list-of-sets-in-python).\n",
    "- Extract all bicomponents by extracting a `subgraph()`."
   ]
  },
  {
   "cell_type": "code",
   "execution_count": null,
   "metadata": {},
   "outputs": [],
   "source": []
  },
  {
   "cell_type": "markdown",
   "metadata": {},
   "source": [
    "## Exercise 2\n",
    "Construct a simple (undirected) **facebook friends** graph, remove self-loops (for some strange reason some users are friends of themselves), extract the largest connected component, store a `spring_layout()` in a vertex property variable, and draw the graph.\n",
    "\n",
    "Then identify the network core via $k$-core decomposition. Create a variable $k$ and mark the largest $k$-core using the `highlights()` function (given above, as in the demo).\n",
    "\n",
    "Hint: You can remove self-loops by calling `G.remove_edges_from(nx.selfloop_edges(G))`.\n",
    "\n",
    "For later: Can you also color each node by its core number, using the \"hot\" [colormap](https://matplotlib.org/tutorials/colors/colormaps.html) of matplotlib? That means, nodes should have \"hotter\" colors the more they belong to the core."
   ]
  },
  {
   "cell_type": "code",
   "execution_count": null,
   "metadata": {},
   "outputs": [],
   "source": []
  }
 ],
 "metadata": {
  "kernelspec": {
   "display_name": "Python 3",
   "language": "python",
   "name": "python3"
  },
  "language_info": {
   "codemirror_mode": {
    "name": "ipython",
    "version": 3
   },
   "file_extension": ".py",
   "mimetype": "text/x-python",
   "name": "python",
   "nbconvert_exporter": "python",
   "pygments_lexer": "ipython3",
   "version": "3.8.3"
  }
 },
 "nbformat": 4,
 "nbformat_minor": 4
}
