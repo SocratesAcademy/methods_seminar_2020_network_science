{
 "cells": [
  {
   "cell_type": "markdown",
   "metadata": {},
   "source": [
    "### 1st Virtual Methods Seminar: Methods of Computational Social Science\n",
    "## Introduction to Social Network Science with Python\n",
    "# Brokerage and Closure - Exercise 3.1\n",
    "Instructors: Haiko Lietz & Olga Zagovora\n",
    "\n",
    "Date: September 23, 2020"
   ]
  },
  {
   "cell_type": "markdown",
   "metadata": {},
   "source": [
    "## Exercise 1\n",
    "In the slides for \"Brokerage and Closure\" there are two graphs on page 18. Construct them from scratch in the code cell below. Can you reproduce the constraint scores reported on the same slide?\n",
    "## Solution 1"
   ]
  },
  {
   "cell_type": "code",
   "execution_count": null,
   "metadata": {},
   "outputs": [],
   "source": []
  },
  {
   "cell_type": "markdown",
   "metadata": {},
   "source": [
    "---"
   ]
  },
  {
   "cell_type": "markdown",
   "metadata": {},
   "source": [
    "## Exercise 2\n",
    "One strength of Jupyter Notebooks is that results can easily be reproduced and edited. In the demo notebook, add the scores for weighted graphs to the dataframe (by uncommenting them). Are there any surprise results when you look at the MDS plot?"
   ]
  },
  {
   "cell_type": "markdown",
   "metadata": {},
   "source": [
    "---"
   ]
  },
  {
   "cell_type": "markdown",
   "metadata": {},
   "source": [
    "## Exercise 3\n",
    "Make a renamed duplicate of the demo notebook and edit it: instead of the elite families collection, load the Copenhagen Networks Study collection, chose the network of physical proximity (bluetooth) from the first day, extract the strongest signal for each node pair, and study the largest connected component. Then compute all the unweighted brokerage and closure scores and embed their correlations in a two-dimensional space. Do the metrics cluster as for the elite families collection?\n",
    "\n",
    "Hint: The largest connected component of an undirected Graph $G$ is:"
   ]
  },
  {
   "cell_type": "markdown",
   "metadata": {},
   "source": [
    "`G.subgraph(max(nx.connected_components(nx.G), key=len))`"
   ]
  },
  {
   "cell_type": "markdown",
   "metadata": {},
   "source": [
    "---"
   ]
  },
  {
   "cell_type": "markdown",
   "metadata": {},
   "source": [
    "## Exercise 4\n",
    "The effective size of a node's neighbor network is limited by the node's degree. Therefore, effective size can be normalized by dividing it by degree:\n",
    "\n",
    "    effective_size_norm = effective_size / degree\n",
    "\n",
    "Compute, plot, and think about this measure. What does it mean?\n",
    "\n",
    "Hint: Both effecvtive_size and degree exist as dictionaries in the demo notebook. You need to find a way to divide them. There are multiple ways to do this."
   ]
  }
 ],
 "metadata": {
  "kernelspec": {
   "display_name": "Python 3",
   "language": "python",
   "name": "python3"
  },
  "language_info": {
   "codemirror_mode": {
    "name": "ipython",
    "version": 3
   },
   "file_extension": ".py",
   "mimetype": "text/x-python",
   "name": "python",
   "nbconvert_exporter": "python",
   "pygments_lexer": "ipython3",
   "version": "3.8.3"
  }
 },
 "nbformat": 4,
 "nbformat_minor": 4
}
