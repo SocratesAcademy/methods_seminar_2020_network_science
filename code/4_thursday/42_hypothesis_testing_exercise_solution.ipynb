{
 "cells": [
  {
   "cell_type": "markdown",
   "metadata": {},
   "source": [
    "# Exersice 4.2 (Solution)\n",
    "## QAP & MRQAP\n",
    "---"
   ]
  },
  {
   "cell_type": "markdown",
   "metadata": {},
   "source": [
    "In this exercise you will compute correlations between two networks, and measure significance using permutation test.\\\n",
    "You will work with `directed graphs` as dataframe of edgelists, as well as adjacency matrices as numpy arrays.\\\n",
    "Given the data, *'a social network of the managers of a high-tech company'*, you will learn how to create three types of hypotheses:\\\n",
    "dyadic, mixed monadic-dyadic, and node-level.\\\n",
    "\\\n",
    "At the end of this task, you will know how to interpret regression results as well as the significance from permutation tests.\n",
    "\n",
    "1. Load the Krackhardt dataset (get to know the data!).\n",
    " - Compare data description file with actual data.\n",
    "\n",
    "\n",
    "2. Practice QAP with dyadic hypotheses.\n",
    " - Create dyad-level hypotheses.\n",
    " - Run a correlation test between two variables, and check its significance using permutation test!\n",
    "\n",
    "\n",
    "3. Practice MRQAP with dyadic hypotheses.\n",
    " - Create dyad-level hypotheses.\n",
    " - Build a linear regression model, and check the significance of each ind. variable using permutation test!\n",
    "\n",
    "\n",
    "4. Practice QAP with mixed monadic-dyadic hypotheses.\n",
    " - Create monadic-level and dyad-level hypotheses.\n",
    " - Run a correlation test between two variables, and check its significance using permutation test!\n",
    "\n",
    "\n",
    "5. Practice MRQAP with mixed monadic-dyadic hypotheses.\n",
    " - Create monadic-level and dyad-level hypotheses.\n",
    " - Build a linear regression model, and check the significance of each ind. variable using permutation test!\n",
    "\n",
    "\n",
    "6. Practice MRQAP with node-level hypotheses.\n",
    " - Create node-level (node structure, node attribute) hypotheses.\n",
    " - Build a linear regression model, and check the significance of each ind. variable using permutation test!\n",
    " "
   ]
  },
  {
   "cell_type": "markdown",
   "metadata": {},
   "source": [
    "---\n",
    "## QUIZ\n",
    "*Get to know the data from the '**description file**'!*\\\n",
    "Open the file `data/krackhardt/README.md` and read the description of this dataset.\n",
    "\n",
    " \n",
    "- What type of network do we have? monolayer or multilayer?\n",
    "- Is the network directed or undirected?\n",
    "- How many layers? nodes? and total edges?"
   ]
  },
  {
   "cell_type": "markdown",
   "metadata": {},
   "source": [
    "---\n",
    "## Task #1\n",
    "#### Load the data!\n",
    "Load the multilayer network, and nodes' metadata.\n",
    "\n",
    "---"
   ]
  },
  {
   "cell_type": "markdown",
   "metadata": {},
   "source": [
    "#### Dependencies (libraries)\n",
    "Import here all necessary python packages"
   ]
  },
  {
   "cell_type": "code",
   "execution_count": 1,
   "metadata": {},
   "outputs": [],
   "source": [
    "#### Dependencies\n",
    "import pandas as pd"
   ]
  },
  {
   "cell_type": "code",
   "execution_count": 2,
   "metadata": {},
   "outputs": [],
   "source": [
    "#### Local dependencies\n",
    "# %load_ext autoreload\n",
    "# %autoreload 2\n",
    "    \n",
    "import sys\n",
    "sys.path.append('../libs/')\n",
    "\n",
    "from qap import QAP\n",
    "from mrqap import MRQAP\n",
    "import helper"
   ]
  },
  {
   "cell_type": "markdown",
   "metadata": {},
   "source": [
    "#### Loading network\n",
    "The datasets for this exercise are in `data/krackhardt/`."
   ]
  },
  {
   "cell_type": "markdown",
   "metadata": {},
   "source": [
    "Load nodes' metadata, and store in `nodes` the node ids."
   ]
  },
  {
   "cell_type": "code",
   "execution_count": 3,
   "metadata": {},
   "outputs": [
    {
     "data": {
      "text/html": [
       "<div>\n",
       "<style scoped>\n",
       "    .dataframe tbody tr th:only-of-type {\n",
       "        vertical-align: middle;\n",
       "    }\n",
       "\n",
       "    .dataframe tbody tr th {\n",
       "        vertical-align: top;\n",
       "    }\n",
       "\n",
       "    .dataframe thead th {\n",
       "        text-align: right;\n",
       "    }\n",
       "</style>\n",
       "<table border=\"1\" class=\"dataframe\">\n",
       "  <thead>\n",
       "    <tr style=\"text-align: right;\">\n",
       "      <th></th>\n",
       "      <th>nodeID</th>\n",
       "      <th>nodeAge</th>\n",
       "      <th>nodeTenure</th>\n",
       "      <th>nodeLevel</th>\n",
       "      <th>nodeDepartment</th>\n",
       "    </tr>\n",
       "  </thead>\n",
       "  <tbody>\n",
       "    <tr>\n",
       "      <th>0</th>\n",
       "      <td>1</td>\n",
       "      <td>33</td>\n",
       "      <td>9</td>\n",
       "      <td>3</td>\n",
       "      <td>4</td>\n",
       "    </tr>\n",
       "    <tr>\n",
       "      <th>1</th>\n",
       "      <td>2</td>\n",
       "      <td>42</td>\n",
       "      <td>20</td>\n",
       "      <td>2</td>\n",
       "      <td>4</td>\n",
       "    </tr>\n",
       "    <tr>\n",
       "      <th>2</th>\n",
       "      <td>3</td>\n",
       "      <td>40</td>\n",
       "      <td>13</td>\n",
       "      <td>3</td>\n",
       "      <td>2</td>\n",
       "    </tr>\n",
       "    <tr>\n",
       "      <th>3</th>\n",
       "      <td>4</td>\n",
       "      <td>33</td>\n",
       "      <td>8</td>\n",
       "      <td>3</td>\n",
       "      <td>4</td>\n",
       "    </tr>\n",
       "    <tr>\n",
       "      <th>4</th>\n",
       "      <td>5</td>\n",
       "      <td>32</td>\n",
       "      <td>3</td>\n",
       "      <td>3</td>\n",
       "      <td>2</td>\n",
       "    </tr>\n",
       "  </tbody>\n",
       "</table>\n",
       "</div>"
      ],
      "text/plain": [
       "   nodeID  nodeAge  nodeTenure  nodeLevel  nodeDepartment\n",
       "0       1       33           9          3               4\n",
       "1       2       42          20          2               4\n",
       "2       3       40          13          3               2\n",
       "3       4       33           8          3               4\n",
       "4       5       32           3          3               2"
      ]
     },
     "execution_count": 3,
     "metadata": {},
     "output_type": "execute_result"
    }
   ],
   "source": [
    "# read file containing node attributes\n",
    "nodes_metadata = pd.read_csv(\"../../data/krackhardt/Krackhardt-High-Tech_nodes.txt\", index_col=None, header=0, sep=' ')\n",
    "nodes_metadata.head()"
   ]
  },
  {
   "cell_type": "code",
   "execution_count": 4,
   "metadata": {},
   "outputs": [],
   "source": [
    "nodes = nodes_metadata.nodeID"
   ]
  },
  {
   "cell_type": "markdown",
   "metadata": {},
   "source": [
    "Load the *Krackhardt* multilayer network as a DataFrame, and rename columns accordingly (source, target, layer weight).\\\n",
    "**HINT**: *Check the 'description file' to know what the format of the file is (what each column represent)*"
   ]
  },
  {
   "cell_type": "code",
   "execution_count": 5,
   "metadata": {},
   "outputs": [
    {
     "data": {
      "text/html": [
       "<div>\n",
       "<style scoped>\n",
       "    .dataframe tbody tr th:only-of-type {\n",
       "        vertical-align: middle;\n",
       "    }\n",
       "\n",
       "    .dataframe tbody tr th {\n",
       "        vertical-align: top;\n",
       "    }\n",
       "\n",
       "    .dataframe thead th {\n",
       "        text-align: right;\n",
       "    }\n",
       "</style>\n",
       "<table border=\"1\" class=\"dataframe\">\n",
       "  <thead>\n",
       "    <tr style=\"text-align: right;\">\n",
       "      <th></th>\n",
       "      <th>layer</th>\n",
       "      <th>source</th>\n",
       "      <th>target</th>\n",
       "      <th>weight</th>\n",
       "    </tr>\n",
       "  </thead>\n",
       "  <tbody>\n",
       "    <tr>\n",
       "      <th>0</th>\n",
       "      <td>1</td>\n",
       "      <td>1</td>\n",
       "      <td>2</td>\n",
       "      <td>1</td>\n",
       "    </tr>\n",
       "    <tr>\n",
       "      <th>1</th>\n",
       "      <td>1</td>\n",
       "      <td>1</td>\n",
       "      <td>4</td>\n",
       "      <td>1</td>\n",
       "    </tr>\n",
       "    <tr>\n",
       "      <th>2</th>\n",
       "      <td>1</td>\n",
       "      <td>1</td>\n",
       "      <td>8</td>\n",
       "      <td>1</td>\n",
       "    </tr>\n",
       "    <tr>\n",
       "      <th>3</th>\n",
       "      <td>1</td>\n",
       "      <td>1</td>\n",
       "      <td>16</td>\n",
       "      <td>1</td>\n",
       "    </tr>\n",
       "    <tr>\n",
       "      <th>4</th>\n",
       "      <td>1</td>\n",
       "      <td>1</td>\n",
       "      <td>18</td>\n",
       "      <td>1</td>\n",
       "    </tr>\n",
       "  </tbody>\n",
       "</table>\n",
       "</div>"
      ],
      "text/plain": [
       "   layer  source  target  weight\n",
       "0      1       1       2       1\n",
       "1      1       1       4       1\n",
       "2      1       1       8       1\n",
       "3      1       1      16       1\n",
       "4      1       1      18       1"
      ]
     },
     "execution_count": 5,
     "metadata": {},
     "output_type": "execute_result"
    }
   ],
   "source": [
    "# read file containing multilayer network\n",
    "df_edges = pd.read_csv(\"../../data/krackhardt/Krackhardt-High-Tech_multiplex.edges\", index_col=None, header=None, sep=' ')\n",
    "df_edges.rename(columns={0:'layer', 1:'source', 2:'target', 3:'weight'}, inplace=True) # inplace = True, so the \n",
    "                                                                                       # changes are effective \n",
    "                                                                                       # in the same DataFrame\n",
    "df_edges.head()"
   ]
  },
  {
   "cell_type": "markdown",
   "metadata": {},
   "source": [
    "Load layers' metadata (labels).\\\n",
    "*HINT: The multilayer you just loaded identifies each layer as 1,2,3. But what are those numbers? Let's understand these layers.*"
   ]
  },
  {
   "cell_type": "code",
   "execution_count": 6,
   "metadata": {
    "scrolled": true
   },
   "outputs": [
    {
     "data": {
      "text/html": [
       "<div>\n",
       "<style scoped>\n",
       "    .dataframe tbody tr th:only-of-type {\n",
       "        vertical-align: middle;\n",
       "    }\n",
       "\n",
       "    .dataframe tbody tr th {\n",
       "        vertical-align: top;\n",
       "    }\n",
       "\n",
       "    .dataframe thead th {\n",
       "        text-align: right;\n",
       "    }\n",
       "</style>\n",
       "<table border=\"1\" class=\"dataframe\">\n",
       "  <thead>\n",
       "    <tr style=\"text-align: right;\">\n",
       "      <th></th>\n",
       "      <th>layerID</th>\n",
       "      <th>layerLabel</th>\n",
       "    </tr>\n",
       "  </thead>\n",
       "  <tbody>\n",
       "    <tr>\n",
       "      <th>0</th>\n",
       "      <td>1</td>\n",
       "      <td>advice</td>\n",
       "    </tr>\n",
       "    <tr>\n",
       "      <th>1</th>\n",
       "      <td>2</td>\n",
       "      <td>friendship</td>\n",
       "    </tr>\n",
       "    <tr>\n",
       "      <th>2</th>\n",
       "      <td>3</td>\n",
       "      <td>Reports_to</td>\n",
       "    </tr>\n",
       "  </tbody>\n",
       "</table>\n",
       "</div>"
      ],
      "text/plain": [
       "   layerID  layerLabel\n",
       "0        1      advice\n",
       "1        2  friendship\n",
       "2        3  Reports_to"
      ]
     },
     "execution_count": 6,
     "metadata": {},
     "output_type": "execute_result"
    }
   ],
   "source": [
    "# read file containing layer metadata (labels)\n",
    "layers = pd.read_csv('../../data/krackhardt/Krackhardt-High-Tech_layers.txt', index_col=None, header=0, sep=' ')\n",
    "layers"
   ]
  },
  {
   "cell_type": "markdown",
   "metadata": {},
   "source": [
    "---\n",
    "## QUIZ\n",
    "*Get to know your data from a DataFrame.*\\\n",
    "Using the DataFrames you loaded before, write the necessary code to answer the following questions:\n",
    "1. How many edges does this network have?\n",
    "2. How many unique nodes?\n",
    "3. How many layers?\n",
    "4. What is the sum of edge-weights per layer?\n",
    "\n",
    "Are these numbers matching the numbers reported in the *description file*?\\\n",
    "\\\n",
    "*HINT 1: You can ask for the `shape` of the DataFrame containing the edges (remember, it has rows referring to each edge) and columns (edge-attributes)*\\\n",
    "*HINT 2: You can ask for the `shape` of the DataFrame containing the nodes (remember, it has rows referring to each node) and columns (node-attributes)*\\\n",
    "*HINT 3: The DataFrame containing the edges posses a column referring to the layer id (you actually gave it a particular name). Is there a function in pandas to get the number of unique values from a column? (you can ask Google).*\\\n",
    "*HINT 4: What about using a `groupby` in the DataFrame containing the edges? What should you group-by then? After grouping by, which function should you call to get the summation over the edge weights?*"
   ]
  },
  {
   "cell_type": "code",
   "execution_count": 7,
   "metadata": {},
   "outputs": [
    {
     "name": "stdout",
     "output_type": "stream",
     "text": [
      "Number of edges: 312\n",
      "Number of nodes: 21\n",
      "Number of layers: 3\n",
      "Sum of all edge-weights: 312\n",
      "\n",
      "Sum of edge-weights per layer:\n",
      " layer\n",
      "1    190\n",
      "2    102\n",
      "3     20\n",
      "Name: weight, dtype: int64\n"
     ]
    }
   ],
   "source": [
    "# number of edges\n",
    "m = df_edges.shape[0]\n",
    "print('Number of edges: {}'.format(m))\n",
    "\n",
    "# number of nodes\n",
    "n = df_edges.source.append(df_edges.target).nunique() # alternative 1: through the edges\n",
    "#n = nodes.shape[0]                                    # alternative 2: through the node-metadata DataFrame\n",
    "print('Number of nodes: {}'.format(n))\n",
    "\n",
    "# number of layers\n",
    "l = df_edges.layer.nunique()\n",
    "print('Number of layers: {}'.format(l))\n",
    "\n",
    "# sum of weights per layer, and overall\n",
    "sewl = df_edges.groupby('layer')['weight'].sum()\n",
    "print('Sum of all edge-weights: {}'.format(sewl.sum()))\n",
    "print('\\nSum of edge-weights per layer:\\n {}'.format(sewl))"
   ]
  },
  {
   "cell_type": "markdown",
   "metadata": {},
   "source": [
    "---\n",
    "## Task #2\n",
    "#### Practice QAP with dyadic hypotheses.\n",
    "\n",
    "Find the correlation between two of the available variables (layers).\\\n",
    "How significant is this value?\\\n",
    "How would you interpret this result?\n",
    "\n",
    "---"
   ]
  },
  {
   "cell_type": "markdown",
   "metadata": {},
   "source": [
    "#### Adjacency matrices\n",
    "Extract each layer separately from the multilayer DataFrame.\\\n",
    "\\\n",
    "*HINT 1: Are the networks directed or undirected? Chech it out in the 'description' file.*\\\n",
    "*HINT 2: You need the adjacency matrices of each layer. So, you can either use one of the methods we learnt on Monday on how to convert pandas edgelist to networkx graph, and then to adjacency matrix, or you can simply use the helper function `get_adjacency_from_pandas_weighted_edgelist(...)` from the `helper` library (see the demo notebook).*"
   ]
  },
  {
   "cell_type": "code",
   "execution_count": 8,
   "metadata": {},
   "outputs": [
    {
     "data": {
      "text/plain": [
       "((21, 21), 0, 1, 190)"
      ]
     },
     "execution_count": 8,
     "metadata": {},
     "output_type": "execute_result"
    }
   ],
   "source": [
    "# Advice (layer=1)\n",
    "tmp = df_edges.query(\"layer == 1\")[['source','target','weight']]\n",
    "A = helper.get_adjacency_from_pandas_weighted_edgelist(df=tmp,\n",
    "                                                       nodes_order=nodes,\n",
    "                                                       directed=True)\n",
    "\n",
    "A.shape, A.min(), A.max(), A.sum()"
   ]
  },
  {
   "cell_type": "code",
   "execution_count": 9,
   "metadata": {},
   "outputs": [
    {
     "data": {
      "text/plain": [
       "array([[0, 1, 0, 1, 0, 0, 0, 1, 0, 0, 0, 0, 0, 0, 0, 1, 0, 1, 0, 0, 1],\n",
       "       [0, 0, 0, 0, 0, 1, 1, 0, 0, 0, 0, 0, 0, 0, 0, 0, 0, 0, 0, 0, 1],\n",
       "       [1, 1, 0, 1, 0, 1, 1, 1, 1, 1, 1, 1, 0, 1, 0, 0, 1, 1, 0, 1, 1],\n",
       "       [1, 1, 0, 0, 0, 1, 0, 1, 0, 1, 1, 1, 0, 0, 0, 1, 1, 1, 0, 1, 1],\n",
       "       [1, 1, 0, 0, 0, 1, 1, 1, 0, 1, 1, 0, 1, 1, 0, 1, 1, 1, 1, 1, 1],\n",
       "       [0, 0, 0, 0, 0, 0, 0, 0, 0, 0, 0, 0, 0, 0, 0, 0, 0, 0, 0, 0, 1],\n",
       "       [0, 1, 0, 0, 0, 1, 0, 0, 0, 0, 1, 1, 0, 1, 0, 0, 1, 1, 0, 0, 1],\n",
       "       [0, 1, 0, 1, 0, 1, 1, 0, 0, 1, 1, 0, 0, 0, 0, 0, 0, 1, 0, 0, 1],\n",
       "       [1, 1, 0, 0, 0, 1, 1, 1, 0, 1, 1, 1, 0, 1, 0, 1, 1, 1, 0, 0, 1],\n",
       "       [1, 1, 1, 1, 1, 0, 0, 1, 0, 0, 1, 0, 1, 0, 1, 1, 1, 1, 1, 1, 0],\n",
       "       [1, 1, 0, 0, 0, 0, 1, 0, 0, 0, 0, 0, 0, 0, 0, 0, 0, 0, 0, 0, 0],\n",
       "       [0, 0, 0, 0, 0, 0, 1, 0, 0, 0, 0, 0, 0, 0, 0, 0, 0, 0, 0, 0, 1],\n",
       "       [1, 1, 0, 0, 1, 0, 0, 0, 1, 0, 0, 0, 0, 1, 0, 0, 0, 1, 0, 0, 0],\n",
       "       [0, 1, 0, 0, 0, 0, 1, 0, 0, 0, 0, 0, 0, 0, 0, 0, 0, 1, 0, 0, 1],\n",
       "       [1, 1, 1, 1, 1, 1, 1, 1, 1, 1, 1, 1, 1, 1, 0, 1, 1, 1, 1, 1, 1],\n",
       "       [1, 1, 0, 0, 0, 0, 0, 0, 0, 1, 0, 0, 0, 0, 0, 0, 0, 1, 0, 0, 0],\n",
       "       [1, 1, 0, 1, 0, 0, 1, 0, 0, 0, 0, 0, 0, 0, 0, 0, 0, 0, 0, 0, 1],\n",
       "       [1, 1, 1, 1, 1, 0, 1, 1, 1, 1, 1, 0, 1, 1, 1, 1, 0, 0, 1, 1, 1],\n",
       "       [1, 1, 1, 0, 1, 0, 1, 0, 0, 1, 1, 0, 0, 1, 1, 0, 0, 1, 0, 1, 0],\n",
       "       [1, 1, 0, 0, 0, 1, 0, 1, 0, 0, 1, 1, 0, 1, 1, 1, 1, 1, 0, 0, 1],\n",
       "       [0, 1, 1, 1, 0, 1, 1, 1, 0, 0, 0, 1, 0, 1, 0, 0, 1, 1, 0, 1, 0]])"
      ]
     },
     "execution_count": 9,
     "metadata": {},
     "output_type": "execute_result"
    }
   ],
   "source": [
    "# Let's check how the adjacency matrix looks like.\n",
    "A"
   ]
  },
  {
   "cell_type": "code",
   "execution_count": 10,
   "metadata": {},
   "outputs": [
    {
     "data": {
      "text/plain": [
       "((21, 21), 0, 1, 102)"
      ]
     },
     "execution_count": 10,
     "metadata": {},
     "output_type": "execute_result"
    }
   ],
   "source": [
    "# Friendship (layer=2)\n",
    "tmp = df_edges.query(\"layer == 2\")[['source','target','weight']]\n",
    "F = helper.get_adjacency_from_pandas_weighted_edgelist(df=tmp,\n",
    "                                                       nodes_order=nodes,\n",
    "                                                       directed=True)\n",
    "F.shape, F.min(), F.max(), F.sum()"
   ]
  },
  {
   "cell_type": "markdown",
   "metadata": {},
   "source": [
    "#### QAP: advice vs. friendship"
   ]
  },
  {
   "cell_type": "code",
   "execution_count": 11,
   "metadata": {},
   "outputs": [
    {
     "name": "stdout",
     "output_type": "stream",
     "text": [
      "[2020-09-24 20:35:14] Observed Pearson's correlation: 0.1546\n",
      "[2020-09-24 20:35:16] \n",
      "[2020-09-24 20:35:16] # Permutations: 5000\n",
      "[2020-09-24 20:35:16] Duration (sec.): 2\n",
      "[2020-09-24 20:35:16] \n",
      "[2020-09-24 20:35:16] - Sum all betas: 1.5585909999999723\n",
      "[2020-09-24 20:35:16] - Min betas: -0.235862\n",
      "[2020-09-24 20:35:16] - Max betas: 0.266142\n",
      "[2020-09-24 20:35:16] - Average betas: 0.00031171819999999866\n",
      "[2020-09-24 20:35:16] - Std. Dev. betas: 0.07201095813288967\n",
      "[2020-09-24 20:35:16] \n",
      "[2020-09-24 20:35:16] prop >= 0.1546: 0.0112 P(Large)\n",
      "[2020-09-24 20:35:16] prop <= 0.1546: 0.9888 P(Small)\n"
     ]
    }
   ],
   "source": [
    "# Run QAP\n",
    "qap_obj = QAP(Y=A, X=F, npermutations=5000, seed=12345)\n",
    "qap_obj.qap()\n",
    "qap_obj.summary()"
   ]
  },
  {
   "cell_type": "code",
   "execution_count": 12,
   "metadata": {},
   "outputs": [
    {
     "data": {
      "image/png": "[encoded data removed]",
      "text/plain": [
       "<Figure size 432x288 with 1 Axes>"
      ]
     },
     "metadata": {
      "needs_background": "light"
     },
     "output_type": "display_data"
    }
   ],
   "source": [
    "# Plot distribution of correlation scores (permutation test)\n",
    "qap_obj.plot()"
   ]
  },
  {
   "cell_type": "markdown",
   "metadata": {},
   "source": [
    "---\n",
    "# Task 3\n",
    "#### Practice MRQAP with dyadic hypotheses.\n",
    "Your dependent variable is 'Advice'.\\\n",
    "How significant are the regression coefficients (for friendship and report) with respect to the dependent variable?\\\n",
    "How would you interpret these results?\\\n",
    "\\\n",
    "*HINT 1: Get the adjacency matrix of the layer 'reports_to'*\\\n",
    "*HINT 2: What is Y? and What is X?*\n",
    "\n",
    "---"
   ]
  },
  {
   "cell_type": "code",
   "execution_count": 13,
   "metadata": {},
   "outputs": [
    {
     "data": {
      "text/plain": [
       "((21, 21), 0, 1, 20)"
      ]
     },
     "execution_count": 13,
     "metadata": {},
     "output_type": "execute_result"
    }
   ],
   "source": [
    "# Report (layer=3)\n",
    "tmp = df_edges.query(\"layer == 3\")[['source','target','weight']]\n",
    "R = helper.get_adjacency_from_pandas_weighted_edgelist(df=tmp,\n",
    "                                                       nodes_order=nodes,\n",
    "                                                       directed=True)\n",
    "R.shape, R.min(), R.max(), R.sum()"
   ]
  },
  {
   "cell_type": "code",
   "execution_count": 14,
   "metadata": {},
   "outputs": [],
   "source": [
    "# MRQAP\n",
    "Y = {'advice':A}\n",
    "X = {'friendship':F, 'report':R}\n",
    "mrqap_obj = MRQAP(Y=Y, X=X, npermutations=5000, standarized=True, seed=12345)\n",
    "mrqap_obj.mrqap()"
   ]
  },
  {
   "cell_type": "code",
   "execution_count": 15,
   "metadata": {},
   "outputs": [
    {
     "name": "stdout",
     "output_type": "stream",
     "text": [
      "\n",
      "                         advice ~ friendship + report                         \n",
      "==============================================================================\n",
      "   R-Square  Adj. R-Sqr.   Obs.  Perms.  Duration (sec.)\n",
      "0    0.0632       0.0587  420.0    5000               93\n",
      "\n",
      "                           Summary Permutation Test                           \n",
      "==============================================================================\n",
      "\n",
      "               MIN     MAX  MEDIAN    MEAN     STD    BETA    P(+)    P(-)\n",
      "Intercept        0       0       0       0       0       0       0       1\n",
      "friendship -0.2557  0.2629 -0.0014 -0.0008  0.0729   0.117  0.0536  0.9464\n",
      "report     -0.1658  0.1836 -0.0008       0  0.0544  0.2018       0       1\n"
     ]
    }
   ],
   "source": [
    "# Print MRQAP summary\n",
    "mrqap_obj.summary()"
   ]
  },
  {
   "cell_type": "code",
   "execution_count": 16,
   "metadata": {},
   "outputs": [
    {
     "data": {
      "image/png": "[encoded data removed]",
      "text/plain": [
       "<Figure size 864x216 with 4 Axes>"
      ]
     },
     "metadata": {
      "needs_background": "light"
     },
     "output_type": "display_data"
    }
   ],
   "source": [
    "# Plot distribution of coefficients (permutation test)\n",
    "mrqap_obj.plot()"
   ]
  },
  {
   "cell_type": "markdown",
   "metadata": {},
   "source": [
    "---\n",
    "# Task 4\n",
    "#### Practice QAP with mixed dyadic-monadic hypotheses.\n",
    "\n",
    "*Hypothesis:*\\\n",
    "*People tend to **report** to people who are **older** than themselves.*\n",
    "\n",
    "Find the correlation between 'reports' (dyad) and 'difference in age' (monadic) variables between people.\\\n",
    "How significant is this value?\\\n",
    "How would you interpret this result?\\\n",
    "\\\n",
    "*HINT 1: Use `helper.get_monadic_hypothesis` to obtain a node-by-node matrix using the `nodeAge` attribute.*\\\n",
    "*HINT 2: If 'source' node reports to 'target' node, that means that (according to the hypothesis) 'target' must be older than 'source'.*\\\n",
    "*HINT 3: Your 'comparison_function' must give higher scores to cases when 'age_target > age_source'.*\\\n",
    "*HINT 4: What about doing a substraction? `age_target - age_source`? or `age_source - age_target`?*\n",
    "\n",
    "---"
   ]
  },
  {
   "cell_type": "code",
   "execution_count": 17,
   "metadata": {},
   "outputs": [
    {
     "data": {
      "text/plain": [
       "((21, 21), -35.0, 35.0, 0.0)"
      ]
     },
     "execution_count": 17,
     "metadata": {},
     "output_type": "execute_result"
    }
   ],
   "source": [
    "# Create monadic-hypothesis (target is older than source)\n",
    "O = helper.get_monadic_hypothesis(nodes_metadata, \n",
    "                                  keyid='nodeID', \n",
    "                                  attribute='nodeAge', \n",
    "                                  comparison_fnc=helper.compare_subs_target_source, \n",
    "                                  symmetric=False,\n",
    "                                  keyorder=nodes)\n",
    "\n",
    "O.shape, O.min(), O.max(), O.sum()"
   ]
  },
  {
   "cell_type": "code",
   "execution_count": 18,
   "metadata": {},
   "outputs": [
    {
     "data": {
      "text/html": [
       "<div>\n",
       "<style scoped>\n",
       "    .dataframe tbody tr th:only-of-type {\n",
       "        vertical-align: middle;\n",
       "    }\n",
       "\n",
       "    .dataframe tbody tr th {\n",
       "        vertical-align: top;\n",
       "    }\n",
       "\n",
       "    .dataframe thead th {\n",
       "        text-align: right;\n",
       "    }\n",
       "</style>\n",
       "<table border=\"1\" class=\"dataframe\">\n",
       "  <thead>\n",
       "    <tr style=\"text-align: right;\">\n",
       "      <th></th>\n",
       "      <th>0</th>\n",
       "      <th>1</th>\n",
       "      <th>2</th>\n",
       "      <th>3</th>\n",
       "      <th>4</th>\n",
       "      <th>5</th>\n",
       "      <th>6</th>\n",
       "      <th>7</th>\n",
       "      <th>8</th>\n",
       "      <th>9</th>\n",
       "      <th>...</th>\n",
       "      <th>11</th>\n",
       "      <th>12</th>\n",
       "      <th>13</th>\n",
       "      <th>14</th>\n",
       "      <th>15</th>\n",
       "      <th>16</th>\n",
       "      <th>17</th>\n",
       "      <th>18</th>\n",
       "      <th>19</th>\n",
       "      <th>20</th>\n",
       "    </tr>\n",
       "  </thead>\n",
       "  <tbody>\n",
       "    <tr>\n",
       "      <th>0</th>\n",
       "      <td>0.0</td>\n",
       "      <td>9.0</td>\n",
       "      <td>7.0</td>\n",
       "      <td>0.0</td>\n",
       "      <td>-1.0</td>\n",
       "      <td>26.0</td>\n",
       "      <td>22.0</td>\n",
       "      <td>1.0</td>\n",
       "      <td>29.0</td>\n",
       "      <td>4.0</td>\n",
       "      <td>...</td>\n",
       "      <td>1.0</td>\n",
       "      <td>15.0</td>\n",
       "      <td>10.0</td>\n",
       "      <td>7.0</td>\n",
       "      <td>-6.0</td>\n",
       "      <td>-3.0</td>\n",
       "      <td>0.0</td>\n",
       "      <td>-1.0</td>\n",
       "      <td>5.0</td>\n",
       "      <td>3.0</td>\n",
       "    </tr>\n",
       "    <tr>\n",
       "      <th>1</th>\n",
       "      <td>-9.0</td>\n",
       "      <td>0.0</td>\n",
       "      <td>-2.0</td>\n",
       "      <td>-9.0</td>\n",
       "      <td>-10.0</td>\n",
       "      <td>17.0</td>\n",
       "      <td>13.0</td>\n",
       "      <td>-8.0</td>\n",
       "      <td>20.0</td>\n",
       "      <td>-5.0</td>\n",
       "      <td>...</td>\n",
       "      <td>-8.0</td>\n",
       "      <td>6.0</td>\n",
       "      <td>1.0</td>\n",
       "      <td>-2.0</td>\n",
       "      <td>-15.0</td>\n",
       "      <td>-12.0</td>\n",
       "      <td>-9.0</td>\n",
       "      <td>-10.0</td>\n",
       "      <td>-4.0</td>\n",
       "      <td>-6.0</td>\n",
       "    </tr>\n",
       "    <tr>\n",
       "      <th>2</th>\n",
       "      <td>-7.0</td>\n",
       "      <td>2.0</td>\n",
       "      <td>0.0</td>\n",
       "      <td>-7.0</td>\n",
       "      <td>-8.0</td>\n",
       "      <td>19.0</td>\n",
       "      <td>15.0</td>\n",
       "      <td>-6.0</td>\n",
       "      <td>22.0</td>\n",
       "      <td>-3.0</td>\n",
       "      <td>...</td>\n",
       "      <td>-6.0</td>\n",
       "      <td>8.0</td>\n",
       "      <td>3.0</td>\n",
       "      <td>0.0</td>\n",
       "      <td>-13.0</td>\n",
       "      <td>-10.0</td>\n",
       "      <td>-7.0</td>\n",
       "      <td>-8.0</td>\n",
       "      <td>-2.0</td>\n",
       "      <td>-4.0</td>\n",
       "    </tr>\n",
       "    <tr>\n",
       "      <th>3</th>\n",
       "      <td>0.0</td>\n",
       "      <td>9.0</td>\n",
       "      <td>7.0</td>\n",
       "      <td>0.0</td>\n",
       "      <td>-1.0</td>\n",
       "      <td>26.0</td>\n",
       "      <td>22.0</td>\n",
       "      <td>1.0</td>\n",
       "      <td>29.0</td>\n",
       "      <td>4.0</td>\n",
       "      <td>...</td>\n",
       "      <td>1.0</td>\n",
       "      <td>15.0</td>\n",
       "      <td>10.0</td>\n",
       "      <td>7.0</td>\n",
       "      <td>-6.0</td>\n",
       "      <td>-3.0</td>\n",
       "      <td>0.0</td>\n",
       "      <td>-1.0</td>\n",
       "      <td>5.0</td>\n",
       "      <td>3.0</td>\n",
       "    </tr>\n",
       "    <tr>\n",
       "      <th>4</th>\n",
       "      <td>1.0</td>\n",
       "      <td>10.0</td>\n",
       "      <td>8.0</td>\n",
       "      <td>1.0</td>\n",
       "      <td>0.0</td>\n",
       "      <td>27.0</td>\n",
       "      <td>23.0</td>\n",
       "      <td>2.0</td>\n",
       "      <td>30.0</td>\n",
       "      <td>5.0</td>\n",
       "      <td>...</td>\n",
       "      <td>2.0</td>\n",
       "      <td>16.0</td>\n",
       "      <td>11.0</td>\n",
       "      <td>8.0</td>\n",
       "      <td>-5.0</td>\n",
       "      <td>-2.0</td>\n",
       "      <td>1.0</td>\n",
       "      <td>0.0</td>\n",
       "      <td>6.0</td>\n",
       "      <td>4.0</td>\n",
       "    </tr>\n",
       "  </tbody>\n",
       "</table>\n",
       "<p>5 rows × 21 columns</p>\n",
       "</div>"
      ],
      "text/plain": [
       "    0     1    2    3     4     5     6    7     8    9   ...   11    12  \\\n",
       "0  0.0   9.0  7.0  0.0  -1.0  26.0  22.0  1.0  29.0  4.0  ...  1.0  15.0   \n",
       "1 -9.0   0.0 -2.0 -9.0 -10.0  17.0  13.0 -8.0  20.0 -5.0  ... -8.0   6.0   \n",
       "2 -7.0   2.0  0.0 -7.0  -8.0  19.0  15.0 -6.0  22.0 -3.0  ... -6.0   8.0   \n",
       "3  0.0   9.0  7.0  0.0  -1.0  26.0  22.0  1.0  29.0  4.0  ...  1.0  15.0   \n",
       "4  1.0  10.0  8.0  1.0   0.0  27.0  23.0  2.0  30.0  5.0  ...  2.0  16.0   \n",
       "\n",
       "     13   14    15    16   17    18   19   20  \n",
       "0  10.0  7.0  -6.0  -3.0  0.0  -1.0  5.0  3.0  \n",
       "1   1.0 -2.0 -15.0 -12.0 -9.0 -10.0 -4.0 -6.0  \n",
       "2   3.0  0.0 -13.0 -10.0 -7.0  -8.0 -2.0 -4.0  \n",
       "3  10.0  7.0  -6.0  -3.0  0.0  -1.0  5.0  3.0  \n",
       "4  11.0  8.0  -5.0  -2.0  1.0   0.0  6.0  4.0  \n",
       "\n",
       "[5 rows x 21 columns]"
      ]
     },
     "execution_count": 18,
     "metadata": {},
     "output_type": "execute_result"
    }
   ],
   "source": [
    "# Let's check how the monadic matrix looks like.\n",
    "pd.DataFrame(O).head()"
   ]
  },
  {
   "cell_type": "code",
   "execution_count": 19,
   "metadata": {},
   "outputs": [
    {
     "name": "stdout",
     "output_type": "stream",
     "text": [
      "[2020-09-24 20:36:51] Observed Pearson's correlation: 0.0645\n",
      "[2020-09-24 20:36:52] \n",
      "[2020-09-24 20:36:52] # Permutations: 5000\n",
      "[2020-09-24 20:36:52] Duration (sec.): 2\n",
      "[2020-09-24 20:36:52] \n",
      "[2020-09-24 20:36:52] - Sum all betas: -6.554809999999995\n",
      "[2020-09-24 20:36:52] - Min betas: -0.16629\n",
      "[2020-09-24 20:36:52] - Max betas: 0.249849\n",
      "[2020-09-24 20:36:52] - Average betas: -0.0013109620000000004\n",
      "[2020-09-24 20:36:52] - Std. Dev. betas: 0.07081024792754899\n",
      "[2020-09-24 20:36:52] \n",
      "[2020-09-24 20:36:52] prop >= 0.0645: 0.183 P(Large)\n",
      "[2020-09-24 20:36:52] prop <= 0.0645: 0.817 P(Small)\n"
     ]
    }
   ],
   "source": [
    "# Run QAP\n",
    "qap_obj = QAP(Y=R, X=O, npermutations=5000, seed=12345)\n",
    "qap_obj.qap()\n",
    "qap_obj.summary()"
   ]
  },
  {
   "cell_type": "code",
   "execution_count": 20,
   "metadata": {},
   "outputs": [
    {
     "data": {
      "image/png": "[encoded data removed]",
      "text/plain": [
       "<Figure size 432x288 with 1 Axes>"
      ]
     },
     "metadata": {
      "needs_background": "light"
     },
     "output_type": "display_data"
    }
   ],
   "source": [
    "# Plot distribution of correlation scores (permutation test)\n",
    "qap_obj.plot()"
   ]
  },
  {
   "cell_type": "markdown",
   "metadata": {},
   "source": [
    "---\n",
    "# Task 5\n",
    "#### Practice MRQAP with mixed dyadic-monadic hypotheses.\n",
    "\n",
    "*Hypothesis:*\\\n",
    "*People (regardless of their age) are more likely to **report** to **older people** who belong to the **same department** and are in **different levels** of hierarchy.*\\\n",
    "\\\n",
    "*HINT 1: Be careful! The monadic hypothesis related to 'nodeAge' in this task is different from the one in task 4.*\\\n",
    "*HINT 2: You just need to use another 'comparison_function'. What about `compare_target_value`?*\n",
    "\n",
    "---"
   ]
  },
  {
   "cell_type": "code",
   "execution_count": 21,
   "metadata": {},
   "outputs": [
    {
     "data": {
      "text/plain": [
       "((21, 21), 0.0, 62.0, 16680.0)"
      ]
     },
     "execution_count": 21,
     "metadata": {},
     "output_type": "execute_result"
    }
   ],
   "source": [
    "# Create monadic-hypothesis (the older the target node/person, the more likely to get reports from source node-person)\n",
    "P = helper.get_monadic_hypothesis(nodes_metadata, \n",
    "                                  keyid='nodeID', \n",
    "                                  attribute='nodeAge', \n",
    "                                  comparison_fnc=helper.compare_target_value, \n",
    "                                  symmetric=False,\n",
    "                                  keyorder=nodes)\n",
    "\n",
    "P.shape, P.min(), P.max(), P.sum()"
   ]
  },
  {
   "cell_type": "code",
   "execution_count": 22,
   "metadata": {},
   "outputs": [
    {
     "data": {
      "text/html": [
       "<div>\n",
       "<style scoped>\n",
       "    .dataframe tbody tr th:only-of-type {\n",
       "        vertical-align: middle;\n",
       "    }\n",
       "\n",
       "    .dataframe tbody tr th {\n",
       "        vertical-align: top;\n",
       "    }\n",
       "\n",
       "    .dataframe thead th {\n",
       "        text-align: right;\n",
       "    }\n",
       "</style>\n",
       "<table border=\"1\" class=\"dataframe\">\n",
       "  <thead>\n",
       "    <tr style=\"text-align: right;\">\n",
       "      <th></th>\n",
       "      <th>0</th>\n",
       "      <th>1</th>\n",
       "      <th>2</th>\n",
       "      <th>3</th>\n",
       "      <th>4</th>\n",
       "      <th>5</th>\n",
       "      <th>6</th>\n",
       "      <th>7</th>\n",
       "      <th>8</th>\n",
       "      <th>9</th>\n",
       "      <th>...</th>\n",
       "      <th>11</th>\n",
       "      <th>12</th>\n",
       "      <th>13</th>\n",
       "      <th>14</th>\n",
       "      <th>15</th>\n",
       "      <th>16</th>\n",
       "      <th>17</th>\n",
       "      <th>18</th>\n",
       "      <th>19</th>\n",
       "      <th>20</th>\n",
       "    </tr>\n",
       "  </thead>\n",
       "  <tbody>\n",
       "    <tr>\n",
       "      <th>0</th>\n",
       "      <td>0.0</td>\n",
       "      <td>42.0</td>\n",
       "      <td>40.0</td>\n",
       "      <td>33.0</td>\n",
       "      <td>32.0</td>\n",
       "      <td>59.0</td>\n",
       "      <td>55.0</td>\n",
       "      <td>34.0</td>\n",
       "      <td>62.0</td>\n",
       "      <td>37.0</td>\n",
       "      <td>...</td>\n",
       "      <td>34.0</td>\n",
       "      <td>48.0</td>\n",
       "      <td>43.0</td>\n",
       "      <td>40.0</td>\n",
       "      <td>27.0</td>\n",
       "      <td>30.0</td>\n",
       "      <td>33.0</td>\n",
       "      <td>32.0</td>\n",
       "      <td>38.0</td>\n",
       "      <td>36.0</td>\n",
       "    </tr>\n",
       "    <tr>\n",
       "      <th>1</th>\n",
       "      <td>33.0</td>\n",
       "      <td>0.0</td>\n",
       "      <td>40.0</td>\n",
       "      <td>33.0</td>\n",
       "      <td>32.0</td>\n",
       "      <td>59.0</td>\n",
       "      <td>55.0</td>\n",
       "      <td>34.0</td>\n",
       "      <td>62.0</td>\n",
       "      <td>37.0</td>\n",
       "      <td>...</td>\n",
       "      <td>34.0</td>\n",
       "      <td>48.0</td>\n",
       "      <td>43.0</td>\n",
       "      <td>40.0</td>\n",
       "      <td>27.0</td>\n",
       "      <td>30.0</td>\n",
       "      <td>33.0</td>\n",
       "      <td>32.0</td>\n",
       "      <td>38.0</td>\n",
       "      <td>36.0</td>\n",
       "    </tr>\n",
       "    <tr>\n",
       "      <th>2</th>\n",
       "      <td>33.0</td>\n",
       "      <td>42.0</td>\n",
       "      <td>0.0</td>\n",
       "      <td>33.0</td>\n",
       "      <td>32.0</td>\n",
       "      <td>59.0</td>\n",
       "      <td>55.0</td>\n",
       "      <td>34.0</td>\n",
       "      <td>62.0</td>\n",
       "      <td>37.0</td>\n",
       "      <td>...</td>\n",
       "      <td>34.0</td>\n",
       "      <td>48.0</td>\n",
       "      <td>43.0</td>\n",
       "      <td>40.0</td>\n",
       "      <td>27.0</td>\n",
       "      <td>30.0</td>\n",
       "      <td>33.0</td>\n",
       "      <td>32.0</td>\n",
       "      <td>38.0</td>\n",
       "      <td>36.0</td>\n",
       "    </tr>\n",
       "    <tr>\n",
       "      <th>3</th>\n",
       "      <td>33.0</td>\n",
       "      <td>42.0</td>\n",
       "      <td>40.0</td>\n",
       "      <td>0.0</td>\n",
       "      <td>32.0</td>\n",
       "      <td>59.0</td>\n",
       "      <td>55.0</td>\n",
       "      <td>34.0</td>\n",
       "      <td>62.0</td>\n",
       "      <td>37.0</td>\n",
       "      <td>...</td>\n",
       "      <td>34.0</td>\n",
       "      <td>48.0</td>\n",
       "      <td>43.0</td>\n",
       "      <td>40.0</td>\n",
       "      <td>27.0</td>\n",
       "      <td>30.0</td>\n",
       "      <td>33.0</td>\n",
       "      <td>32.0</td>\n",
       "      <td>38.0</td>\n",
       "      <td>36.0</td>\n",
       "    </tr>\n",
       "    <tr>\n",
       "      <th>4</th>\n",
       "      <td>33.0</td>\n",
       "      <td>42.0</td>\n",
       "      <td>40.0</td>\n",
       "      <td>33.0</td>\n",
       "      <td>0.0</td>\n",
       "      <td>59.0</td>\n",
       "      <td>55.0</td>\n",
       "      <td>34.0</td>\n",
       "      <td>62.0</td>\n",
       "      <td>37.0</td>\n",
       "      <td>...</td>\n",
       "      <td>34.0</td>\n",
       "      <td>48.0</td>\n",
       "      <td>43.0</td>\n",
       "      <td>40.0</td>\n",
       "      <td>27.0</td>\n",
       "      <td>30.0</td>\n",
       "      <td>33.0</td>\n",
       "      <td>32.0</td>\n",
       "      <td>38.0</td>\n",
       "      <td>36.0</td>\n",
       "    </tr>\n",
       "  </tbody>\n",
       "</table>\n",
       "<p>5 rows × 21 columns</p>\n",
       "</div>"
      ],
      "text/plain": [
       "     0     1     2     3     4     5     6     7     8     9   ...    11  \\\n",
       "0   0.0  42.0  40.0  33.0  32.0  59.0  55.0  34.0  62.0  37.0  ...  34.0   \n",
       "1  33.0   0.0  40.0  33.0  32.0  59.0  55.0  34.0  62.0  37.0  ...  34.0   \n",
       "2  33.0  42.0   0.0  33.0  32.0  59.0  55.0  34.0  62.0  37.0  ...  34.0   \n",
       "3  33.0  42.0  40.0   0.0  32.0  59.0  55.0  34.0  62.0  37.0  ...  34.0   \n",
       "4  33.0  42.0  40.0  33.0   0.0  59.0  55.0  34.0  62.0  37.0  ...  34.0   \n",
       "\n",
       "     12    13    14    15    16    17    18    19    20  \n",
       "0  48.0  43.0  40.0  27.0  30.0  33.0  32.0  38.0  36.0  \n",
       "1  48.0  43.0  40.0  27.0  30.0  33.0  32.0  38.0  36.0  \n",
       "2  48.0  43.0  40.0  27.0  30.0  33.0  32.0  38.0  36.0  \n",
       "3  48.0  43.0  40.0  27.0  30.0  33.0  32.0  38.0  36.0  \n",
       "4  48.0  43.0  40.0  27.0  30.0  33.0  32.0  38.0  36.0  \n",
       "\n",
       "[5 rows x 21 columns]"
      ]
     },
     "execution_count": 22,
     "metadata": {},
     "output_type": "execute_result"
    }
   ],
   "source": [
    "# Let's check how the monadic matrix looks like.\n",
    "pd.DataFrame(P).head()"
   ]
  },
  {
   "cell_type": "code",
   "execution_count": 23,
   "metadata": {},
   "outputs": [
    {
     "data": {
      "text/plain": [
       "((21, 21), 0.0, 1.0, 94.0)"
      ]
     },
     "execution_count": 23,
     "metadata": {},
     "output_type": "execute_result"
    }
   ],
   "source": [
    "# Create monadic-hypothesis (same department)\n",
    "D = helper.get_monadic_hypothesis(nodes_metadata, \n",
    "                                  keyid='nodeID', \n",
    "                                  attribute='nodeDepartment', \n",
    "                                  comparison_fnc=helper.compare_same, \n",
    "                                  symmetric=True,\n",
    "                                  keyorder=nodes)\n",
    "\n",
    "D.shape, D.min(), D.max(), D.sum()"
   ]
  },
  {
   "cell_type": "code",
   "execution_count": 24,
   "metadata": {},
   "outputs": [
    {
     "data": {
      "text/plain": [
       "((21, 21), 0.0, 1.0, 168.0)"
      ]
     },
     "execution_count": 24,
     "metadata": {},
     "output_type": "execute_result"
    }
   ],
   "source": [
    "# Create monadic-hypothesis (different level)\n",
    "L = helper.get_monadic_hypothesis(nodes_metadata, \n",
    "                                  keyid='nodeID', \n",
    "                                  attribute='nodeLevel', \n",
    "                                  comparison_fnc=helper.compare_different, \n",
    "                                  symmetric=True,\n",
    "                                  keyorder=nodes)\n",
    "\n",
    "L.shape, L.min(), L.max(), L.sum()"
   ]
  },
  {
   "cell_type": "code",
   "execution_count": 25,
   "metadata": {},
   "outputs": [],
   "source": [
    "# Run MRQAP\n",
    "Y = {'ADV':A}\n",
    "X = {'AGE':P, 'SAME_DEP':D, 'DIFF_LEV':L}\n",
    "mrqap_obj = MRQAP(Y=Y, X=X, npermutations=5000, standarized=True, seed=12345)\n",
    "mrqap_obj.mrqap()"
   ]
  },
  {
   "cell_type": "code",
   "execution_count": 26,
   "metadata": {},
   "outputs": [
    {
     "name": "stdout",
     "output_type": "stream",
     "text": [
      "\n",
      "                       ADV ~ AGE + SAME_DEP + DIFF_LEV                        \n",
      "==============================================================================\n",
      "   R-Square  Adj. R-Sqr.   Obs.  Perms.  Duration (sec.)\n",
      "0    0.0124       0.0052  420.0    5000              108\n",
      "\n",
      "                           Summary Permutation Test                           \n",
      "==============================================================================\n",
      "\n",
      "              MIN     MAX  MEDIAN    MEAN     STD    BETA    P(+)    P(-)\n",
      "Intercept       0       0       0       0       0       0       0       1\n",
      "AGE       -0.2506  0.2988 -0.0045 -0.0016    0.09 -0.0261  0.5936  0.4064\n",
      "SAME_DEP  -0.1812  0.1756  0.0006  0.0007  0.0517   0.047  0.1834  0.8166\n",
      "DIFF_LEV  -0.2335  0.2714 -0.0045 -0.0004  0.0766   0.103  0.1034  0.8966\n"
     ]
    }
   ],
   "source": [
    "# Print summary of MRQAP\n",
    "mrqap_obj.summary()"
   ]
  },
  {
   "cell_type": "code",
   "execution_count": 27,
   "metadata": {},
   "outputs": [
    {
     "data": {
      "image/png": "[encoded data removed]",
      "text/plain": [
       "<Figure size 864x216 with 4 Axes>"
      ]
     },
     "metadata": {
      "needs_background": "light"
     },
     "output_type": "display_data"
    }
   ],
   "source": [
    "# Plot distribution of coefficients (permutation test)\n",
    "mrqap_obj.plot()"
   ]
  },
  {
   "cell_type": "markdown",
   "metadata": {},
   "source": [
    "---\n",
    "# Task 6\n",
    "#### Practice MRQAP with node-level hypotheses.\n",
    "\n",
    "*Hypothesis:*\\\n",
    "*People's **PageRank** in the **reports_to** network can be explained by **tenure** and **level**.*\\\n",
    "\\\n",
    "*HINT 1: Recall that PageRank measures importance of nodes in a network. This is a node-structure property.*\\\n",
    "*HINT 2: Check in `code/libs/helper.py` if there is a function for `ego` that computes `pagerank`.*\\\n",
    "*HINT 3: We are testing a node-level hypothesis. What is the new parameter that `MRQAP` needs?*\\\n",
    "*HINT 4: Where did you store the node-attributes? Check task 1.*\n",
    "\n",
    "What is your guess? How significant results will be?\n",
    "\n",
    "---"
   ]
  },
  {
   "cell_type": "code",
   "execution_count": 28,
   "metadata": {},
   "outputs": [
    {
     "data": {
      "text/plain": [
       "((21,),\n",
       " 0.020177562550443905,\n",
       " 0.3220338983050847,\n",
       " 1.0,\n",
       " array([0.02017756, 0.07163035, 0.02017756, 0.02017756, 0.02017756,\n",
       "        0.02017756, 0.3220339 , 0.02017756, 0.02017756, 0.02017756,\n",
       "        0.02017756, 0.02017756, 0.02017756, 0.14023406, 0.02017756,\n",
       "        0.02017756, 0.02017756, 0.05447942, 0.02017756, 0.02017756,\n",
       "        0.08878128]))"
      ]
     },
     "execution_count": 28,
     "metadata": {},
     "output_type": "execute_result"
    }
   ],
   "source": [
    "# Create node-level (structural) hypothesis: PageRank of node\n",
    "PR = helper.get_ego_hypothesis(adjacency=R, \n",
    "                               ego_fnc=helper.ego_pagerank,\n",
    "                               missing=0)\n",
    "\n",
    "PR.shape, PR.min(), PR.max(), PR.sum(), PR"
   ]
  },
  {
   "cell_type": "code",
   "execution_count": 29,
   "metadata": {},
   "outputs": [
    {
     "data": {
      "text/plain": [
       "((21,),\n",
       " 0,\n",
       " 30,\n",
       " 246,\n",
       " array([ 9, 20, 13,  8,  3, 28, 30, 11,  5,  9, 27,  9,  0, 10,  8,  5, 12,\n",
       "         9,  5, 12, 13]))"
      ]
     },
     "execution_count": 29,
     "metadata": {},
     "output_type": "execute_result"
    }
   ],
   "source": [
    "# Create node-level (attribute) hypothesis: tenure\n",
    "T = nodes_metadata.nodeTenure.values\n",
    "T.shape, T.min(), T.max(), T.sum(), T"
   ]
  },
  {
   "cell_type": "code",
   "execution_count": 30,
   "metadata": {},
   "outputs": [
    {
     "data": {
      "text/plain": [
       "((21,), 1, 3, 57)"
      ]
     },
     "execution_count": 30,
     "metadata": {},
     "output_type": "execute_result"
    }
   ],
   "source": [
    "# Create node-level (attribute) hypothesis: level\n",
    "V = nodes_metadata.nodeLevel.values\n",
    "V.shape, V.min(), V.max(), V.sum()"
   ]
  },
  {
   "cell_type": "code",
   "execution_count": 31,
   "metadata": {
    "scrolled": true
   },
   "outputs": [],
   "source": [
    "# Run MRQAP\n",
    "Y = {'pagerank':PR}\n",
    "X = {'tenure':T, 'level':V}\n",
    "mrqap_obj = MRQAP(Y=Y, X=X, node_regression=True, standarized=True, npermutations=2000, seed=12345)\n",
    "mrqap_obj.mrqap()"
   ]
  },
  {
   "cell_type": "code",
   "execution_count": 32,
   "metadata": {},
   "outputs": [
    {
     "name": "stdout",
     "output_type": "stream",
     "text": [
      "\n",
      "                          pagerank ~ tenure + level                           \n",
      "==============================================================================\n",
      "   R-Square  Adj. R-Sqr.  Obs.  Perms.  Duration (sec.)\n",
      "0    0.8331       0.8135  20.0    2000               35\n",
      "\n",
      "                           Summary Permutation Test                           \n",
      "==============================================================================\n",
      "\n",
      "              MIN     MAX  MEDIAN    MEAN     STD    BETA   P(+)   P(-)\n",
      "Intercept       0       0       0       0       0       0      0      1\n",
      "tenure    -0.5188  0.8504 -0.0378 -0.0004  0.2607  0.1122  0.255  0.745\n",
      "level     -0.7582  0.5942  0.0364 -0.0114  0.2646 -0.8563      1      0\n"
     ]
    }
   ],
   "source": [
    "# Print MRQAP summary \n",
    "mrqap_obj.summary()"
   ]
  },
  {
   "cell_type": "code",
   "execution_count": 33,
   "metadata": {},
   "outputs": [
    {
     "data": {
      "image/png": "[encoded data removed]",
      "text/plain": [
       "<Figure size 864x216 with 4 Axes>"
      ]
     },
     "metadata": {
      "needs_background": "light"
     },
     "output_type": "display_data"
    }
   ],
   "source": [
    "# Plot distribution of coefficients (permutation test)\n",
    "mrqap_obj.plot()"
   ]
  }
 ],
 "metadata": {
  "kernelspec": {
   "display_name": "Python 3",
   "language": "python",
   "name": "python3"
  },
  "language_info": {
   "codemirror_mode": {
    "name": "ipython",
    "version": 3
   },
   "file_extension": ".py",
   "mimetype": "text/x-python",
   "name": "python",
   "nbconvert_exporter": "python",
   "pygments_lexer": "ipython3",
   "version": "3.8.3"
  }
 },
 "nbformat": 4,
 "nbformat_minor": 4
}
