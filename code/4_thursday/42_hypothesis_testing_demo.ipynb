{
 "cells": [
  {
   "cell_type": "markdown",
   "metadata": {},
   "source": [
    "# Hypothesis Testing (Demo)\n",
    "\n",
    "In this section, you will learn how to create hypotheses about edge formation, and how to test them using QAP and MRQAP.\n",
    "\n",
    "---"
   ]
  },
  {
   "cell_type": "code",
   "execution_count": 1,
   "metadata": {},
   "outputs": [],
   "source": [
    "# In this demo we will need an aditional package: fast-pagerank\n",
    "# In case you don't have it installed, \n",
    "# you can install it directly from this notebook.\n",
    "# Uncomment the following two lines:\n",
    "\n",
    "#import sys\n",
    "#!{sys.executable} -m pip install fast-pagerank"
   ]
  },
  {
   "cell_type": "code",
   "execution_count": 2,
   "metadata": {},
   "outputs": [],
   "source": [
    "#### Dependencies\n",
    "import networkx as nx\n",
    "import pandas as pd\n",
    "from scipy.sparse import csr_matrix"
   ]
  },
  {
   "cell_type": "code",
   "execution_count": 3,
   "metadata": {},
   "outputs": [],
   "source": [
    "#### Local dependencies\n",
    "%load_ext autoreload\n",
    "%autoreload 2\n",
    "    \n",
    "import sys\n",
    "sys.path.append('../libs/')\n",
    "\n",
    "import compsoc as cs # library to load and plot our datasets\n",
    "import helper        # library with functions to create hypotheses"
   ]
  },
  {
   "cell_type": "markdown",
   "metadata": {},
   "source": [
    "---\n",
    "## 1. Loading data\n",
    "Florentine families graph: marriage and business ties among Renaissance Florentine families"
   ]
  },
  {
   "cell_type": "code",
   "execution_count": 4,
   "metadata": {},
   "outputs": [],
   "source": [
    "families, parties, relations, domains = cs.elite_families_collection(path=\"../../data/elite_families/\")"
   ]
  },
  {
   "cell_type": "markdown",
   "metadata": {},
   "source": [
    "### Node metadata\n",
    "- What are the nodes? \n",
    "- How are nodes identified? \n",
    "- How are nodes characterized?"
   ]
  },
  {
   "cell_type": "code",
   "execution_count": 5,
   "metadata": {},
   "outputs": [
    {
     "data": {
      "text/html": [
       "<div>\n",
       "<style scoped>\n",
       "    .dataframe tbody tr th:only-of-type {\n",
       "        vertical-align: middle;\n",
       "    }\n",
       "\n",
       "    .dataframe tbody tr th {\n",
       "        vertical-align: top;\n",
       "    }\n",
       "\n",
       "    .dataframe thead th {\n",
       "        text-align: right;\n",
       "    }\n",
       "</style>\n",
       "<table border=\"1\" class=\"dataframe\">\n",
       "  <thead>\n",
       "    <tr style=\"text-align: right;\">\n",
       "      <th></th>\n",
       "      <th>family_id</th>\n",
       "      <th>family</th>\n",
       "      <th>party_id</th>\n",
       "      <th>gross_wealth_mean</th>\n",
       "      <th>date_of_first_prior_mean</th>\n",
       "      <th>block_size</th>\n",
       "      <th>numbers_active_medici</th>\n",
       "      <th>numbers_active_oligarch</th>\n",
       "      <th>numbers_active_neutral</th>\n",
       "      <th>pos_x</th>\n",
       "      <th>pos_y</th>\n",
       "      <th>partisanship_color</th>\n",
       "      <th>status_color</th>\n",
       "    </tr>\n",
       "  </thead>\n",
       "  <tbody>\n",
       "    <tr>\n",
       "      <th>0</th>\n",
       "      <td>0</td>\n",
       "      <td>MEDICI</td>\n",
       "      <td>0</td>\n",
       "      <td>82702</td>\n",
       "      <td>1318</td>\n",
       "      <td>3</td>\n",
       "      <td>7</td>\n",
       "      <td>0</td>\n",
       "      <td>0</td>\n",
       "      <td>-0.0776</td>\n",
       "      <td>0.0391</td>\n",
       "      <td>#387db8</td>\n",
       "      <td>#b6b6b6</td>\n",
       "    </tr>\n",
       "    <tr>\n",
       "      <th>1</th>\n",
       "      <td>1</td>\n",
       "      <td>TORNABUONI</td>\n",
       "      <td>0</td>\n",
       "      <td>42840</td>\n",
       "      <td>1303</td>\n",
       "      <td>7</td>\n",
       "      <td>8</td>\n",
       "      <td>1</td>\n",
       "      <td>1</td>\n",
       "      <td>0.0776</td>\n",
       "      <td>0.1251</td>\n",
       "      <td>#5c82b0</td>\n",
       "      <td>#d4d4d4</td>\n",
       "    </tr>\n",
       "    <tr>\n",
       "      <th>2</th>\n",
       "      <td>2</td>\n",
       "      <td>GUICCIARDINI</td>\n",
       "      <td>0</td>\n",
       "      <td>40617</td>\n",
       "      <td>1289</td>\n",
       "      <td>5</td>\n",
       "      <td>6</td>\n",
       "      <td>0</td>\n",
       "      <td>0</td>\n",
       "      <td>-0.1761</td>\n",
       "      <td>-0.0705</td>\n",
       "      <td>#387db8</td>\n",
       "      <td>#f1f1f1</td>\n",
       "    </tr>\n",
       "    <tr>\n",
       "      <th>3</th>\n",
       "      <td>3</td>\n",
       "      <td>GINORI</td>\n",
       "      <td>0</td>\n",
       "      <td>21167</td>\n",
       "      <td>1344</td>\n",
       "      <td>2</td>\n",
       "      <td>11</td>\n",
       "      <td>0</td>\n",
       "      <td>0</td>\n",
       "      <td>-0.2381</td>\n",
       "      <td>0.1034</td>\n",
       "      <td>#387db8</td>\n",
       "      <td>#818181</td>\n",
       "    </tr>\n",
       "    <tr>\n",
       "      <th>4</th>\n",
       "      <td>4</td>\n",
       "      <td>DIETISALVI</td>\n",
       "      <td>0</td>\n",
       "      <td>13137</td>\n",
       "      <td>1340</td>\n",
       "      <td>2</td>\n",
       "      <td>3</td>\n",
       "      <td>0</td>\n",
       "      <td>0</td>\n",
       "      <td>-0.4000</td>\n",
       "      <td>0.1282</td>\n",
       "      <td>#387db8</td>\n",
       "      <td>#898989</td>\n",
       "    </tr>\n",
       "  </tbody>\n",
       "</table>\n",
       "</div>"
      ],
      "text/plain": [
       "   family_id        family  party_id  gross_wealth_mean  \\\n",
       "0          0        MEDICI         0              82702   \n",
       "1          1    TORNABUONI         0              42840   \n",
       "2          2  GUICCIARDINI         0              40617   \n",
       "3          3        GINORI         0              21167   \n",
       "4          4    DIETISALVI         0              13137   \n",
       "\n",
       "   date_of_first_prior_mean  block_size  numbers_active_medici  \\\n",
       "0                      1318           3                      7   \n",
       "1                      1303           7                      8   \n",
       "2                      1289           5                      6   \n",
       "3                      1344           2                     11   \n",
       "4                      1340           2                      3   \n",
       "\n",
       "   numbers_active_oligarch  numbers_active_neutral   pos_x   pos_y  \\\n",
       "0                        0                       0 -0.0776  0.0391   \n",
       "1                        1                       1  0.0776  0.1251   \n",
       "2                        0                       0 -0.1761 -0.0705   \n",
       "3                        0                       0 -0.2381  0.1034   \n",
       "4                        0                       0 -0.4000  0.1282   \n",
       "\n",
       "  partisanship_color status_color  \n",
       "0            #387db8      #b6b6b6  \n",
       "1            #5c82b0      #d4d4d4  \n",
       "2            #387db8      #f1f1f1  \n",
       "3            #387db8      #818181  \n",
       "4            #387db8      #898989  "
      ]
     },
     "execution_count": 5,
     "metadata": {},
     "output_type": "execute_result"
    }
   ],
   "source": [
    "families.head()"
   ]
  },
  {
   "cell_type": "markdown",
   "metadata": {},
   "source": [
    "### Edge metadata\n",
    "- How are edges identified?\n",
    "- How are edges characterized?\n",
    "- How are layers identified?"
   ]
  },
  {
   "cell_type": "code",
   "execution_count": 6,
   "metadata": {},
   "outputs": [
    {
     "data": {
      "text/html": [
       "<div>\n",
       "<style scoped>\n",
       "    .dataframe tbody tr th:only-of-type {\n",
       "        vertical-align: middle;\n",
       "    }\n",
       "\n",
       "    .dataframe tbody tr th {\n",
       "        vertical-align: top;\n",
       "    }\n",
       "\n",
       "    .dataframe thead th {\n",
       "        text-align: right;\n",
       "    }\n",
       "</style>\n",
       "<table border=\"1\" class=\"dataframe\">\n",
       "  <thead>\n",
       "    <tr style=\"text-align: right;\">\n",
       "      <th></th>\n",
       "      <th>family_id_from</th>\n",
       "      <th>family_id_to</th>\n",
       "      <th>weight</th>\n",
       "      <th>domain_id</th>\n",
       "    </tr>\n",
       "  </thead>\n",
       "  <tbody>\n",
       "    <tr>\n",
       "      <th>0</th>\n",
       "      <td>0</td>\n",
       "      <td>1</td>\n",
       "      <td>1</td>\n",
       "      <td>0</td>\n",
       "    </tr>\n",
       "    <tr>\n",
       "      <th>1</th>\n",
       "      <td>0</td>\n",
       "      <td>23</td>\n",
       "      <td>1</td>\n",
       "      <td>0</td>\n",
       "    </tr>\n",
       "    <tr>\n",
       "      <th>2</th>\n",
       "      <td>2</td>\n",
       "      <td>0</td>\n",
       "      <td>1</td>\n",
       "      <td>0</td>\n",
       "    </tr>\n",
       "    <tr>\n",
       "      <th>3</th>\n",
       "      <td>3</td>\n",
       "      <td>4</td>\n",
       "      <td>1</td>\n",
       "      <td>0</td>\n",
       "    </tr>\n",
       "    <tr>\n",
       "      <th>4</th>\n",
       "      <td>5</td>\n",
       "      <td>3</td>\n",
       "      <td>1</td>\n",
       "      <td>0</td>\n",
       "    </tr>\n",
       "  </tbody>\n",
       "</table>\n",
       "</div>"
      ],
      "text/plain": [
       "   family_id_from  family_id_to  weight  domain_id\n",
       "0               0             1       1          0\n",
       "1               0            23       1          0\n",
       "2               2             0       1          0\n",
       "3               3             4       1          0\n",
       "4               5             3       1          0"
      ]
     },
     "execution_count": 6,
     "metadata": {},
     "output_type": "execute_result"
    }
   ],
   "source": [
    "relations.head()"
   ]
  },
  {
   "cell_type": "markdown",
   "metadata": {},
   "source": [
    "### Layer metadata\n",
    "- What are the layers?"
   ]
  },
  {
   "cell_type": "code",
   "execution_count": 7,
   "metadata": {},
   "outputs": [
    {
     "data": {
      "text/html": [
       "<div>\n",
       "<style scoped>\n",
       "    .dataframe tbody tr th:only-of-type {\n",
       "        vertical-align: middle;\n",
       "    }\n",
       "\n",
       "    .dataframe tbody tr th {\n",
       "        vertical-align: top;\n",
       "    }\n",
       "\n",
       "    .dataframe thead th {\n",
       "        text-align: right;\n",
       "    }\n",
       "</style>\n",
       "<table border=\"1\" class=\"dataframe\">\n",
       "  <thead>\n",
       "    <tr style=\"text-align: right;\">\n",
       "      <th></th>\n",
       "      <th>domain_id</th>\n",
       "      <th>domain</th>\n",
       "    </tr>\n",
       "  </thead>\n",
       "  <tbody>\n",
       "    <tr>\n",
       "      <th>0</th>\n",
       "      <td>0</td>\n",
       "      <td>Marriage</td>\n",
       "    </tr>\n",
       "    <tr>\n",
       "      <th>1</th>\n",
       "      <td>1</td>\n",
       "      <td>Economic</td>\n",
       "    </tr>\n",
       "    <tr>\n",
       "      <th>2</th>\n",
       "      <td>2</td>\n",
       "      <td>Political</td>\n",
       "    </tr>\n",
       "    <tr>\n",
       "      <th>3</th>\n",
       "      <td>3</td>\n",
       "      <td>Friendship</td>\n",
       "    </tr>\n",
       "  </tbody>\n",
       "</table>\n",
       "</div>"
      ],
      "text/plain": [
       "   domain_id      domain\n",
       "0          0    Marriage\n",
       "1          1    Economic\n",
       "2          2   Political\n",
       "3          3  Friendship"
      ]
     },
     "execution_count": 7,
     "metadata": {},
     "output_type": "execute_result"
    }
   ],
   "source": [
    "domains"
   ]
  },
  {
   "cell_type": "markdown",
   "metadata": {},
   "source": [
    "---\n",
    "## 2. Dyadic hypotheses\n",
    "Let's look for correlations between layers (i.e. , tie domains)"
   ]
  },
  {
   "cell_type": "markdown",
   "metadata": {},
   "source": [
    "### QAP - Quadratic Assignment Procedure\n",
    "It performs a permutation test to calculate the significance of the correlation between two networks.\\\n",
    "\\\n",
    "*Hypothesis 2.1:\\\n",
    "Among elite families in Renaissance Florence, **business ties** are embedded in **marital relations**.* \\\n",
    "*i.e., families that are connected via marriage tend to do business together.*"
   ]
  },
  {
   "cell_type": "markdown",
   "metadata": {},
   "source": [
    "#### Building hypotheses (adjacency matrices)"
   ]
  },
  {
   "cell_type": "code",
   "execution_count": 8,
   "metadata": {},
   "outputs": [],
   "source": [
    "# IMPORTANT: Rows and columns in the adjacency matrix must have the same order of nodes!\n",
    "# Thus, we take the order of nodes beforehand.\n",
    "nodes = families.family_id"
   ]
  },
  {
   "cell_type": "markdown",
   "metadata": {},
   "source": [
    "##### B: Business ties\n",
    "Loading layer 'business' into adjacency matrix.\\\n",
    "Business (economy) ties represent domain_id = 1."
   ]
  },
  {
   "cell_type": "code",
   "execution_count": 9,
   "metadata": {
    "scrolled": true
   },
   "outputs": [
    {
     "data": {
      "text/plain": [
       "((33, 33), 0, 1, 36)"
      ]
     },
     "execution_count": 9,
     "metadata": {},
     "output_type": "execute_result"
    }
   ],
   "source": [
    "# alternative 1: select portions of data using column-series==value\n",
    "tmp = relations[relations['domain_id']==1][['family_id_from','family_id_to','weight']] # keep the main columns s,t,w\n",
    "\n",
    "B = helper.get_adjacency_from_pandas_weighted_edgelist(df=tmp,\n",
    "                                                       nodes_order=nodes,\n",
    "                                                       directed=False)\n",
    "B.shape, B.min(), B.max(), B.sum()"
   ]
  },
  {
   "cell_type": "code",
   "execution_count": 10,
   "metadata": {},
   "outputs": [
    {
     "data": {
      "text/html": [
       "<div>\n",
       "<style scoped>\n",
       "    .dataframe tbody tr th:only-of-type {\n",
       "        vertical-align: middle;\n",
       "    }\n",
       "\n",
       "    .dataframe tbody tr th {\n",
       "        vertical-align: top;\n",
       "    }\n",
       "\n",
       "    .dataframe thead th {\n",
       "        text-align: right;\n",
       "    }\n",
       "</style>\n",
       "<table border=\"1\" class=\"dataframe\">\n",
       "  <thead>\n",
       "    <tr style=\"text-align: right;\">\n",
       "      <th></th>\n",
       "      <th>0</th>\n",
       "      <th>1</th>\n",
       "      <th>2</th>\n",
       "      <th>3</th>\n",
       "      <th>4</th>\n",
       "      <th>5</th>\n",
       "      <th>6</th>\n",
       "      <th>7</th>\n",
       "      <th>8</th>\n",
       "      <th>9</th>\n",
       "      <th>...</th>\n",
       "      <th>23</th>\n",
       "      <th>24</th>\n",
       "      <th>25</th>\n",
       "      <th>26</th>\n",
       "      <th>27</th>\n",
       "      <th>28</th>\n",
       "      <th>29</th>\n",
       "      <th>30</th>\n",
       "      <th>31</th>\n",
       "      <th>32</th>\n",
       "    </tr>\n",
       "  </thead>\n",
       "  <tbody>\n",
       "    <tr>\n",
       "      <th>0</th>\n",
       "      <td>0</td>\n",
       "      <td>0</td>\n",
       "      <td>0</td>\n",
       "      <td>1</td>\n",
       "      <td>0</td>\n",
       "      <td>0</td>\n",
       "      <td>0</td>\n",
       "      <td>0</td>\n",
       "      <td>1</td>\n",
       "      <td>0</td>\n",
       "      <td>...</td>\n",
       "      <td>0</td>\n",
       "      <td>0</td>\n",
       "      <td>0</td>\n",
       "      <td>0</td>\n",
       "      <td>0</td>\n",
       "      <td>0</td>\n",
       "      <td>0</td>\n",
       "      <td>0</td>\n",
       "      <td>0</td>\n",
       "      <td>0</td>\n",
       "    </tr>\n",
       "    <tr>\n",
       "      <th>1</th>\n",
       "      <td>0</td>\n",
       "      <td>0</td>\n",
       "      <td>0</td>\n",
       "      <td>0</td>\n",
       "      <td>0</td>\n",
       "      <td>0</td>\n",
       "      <td>0</td>\n",
       "      <td>0</td>\n",
       "      <td>0</td>\n",
       "      <td>0</td>\n",
       "      <td>...</td>\n",
       "      <td>0</td>\n",
       "      <td>0</td>\n",
       "      <td>0</td>\n",
       "      <td>1</td>\n",
       "      <td>0</td>\n",
       "      <td>0</td>\n",
       "      <td>0</td>\n",
       "      <td>0</td>\n",
       "      <td>0</td>\n",
       "      <td>0</td>\n",
       "    </tr>\n",
       "    <tr>\n",
       "      <th>2</th>\n",
       "      <td>0</td>\n",
       "      <td>0</td>\n",
       "      <td>0</td>\n",
       "      <td>0</td>\n",
       "      <td>0</td>\n",
       "      <td>0</td>\n",
       "      <td>0</td>\n",
       "      <td>0</td>\n",
       "      <td>0</td>\n",
       "      <td>0</td>\n",
       "      <td>...</td>\n",
       "      <td>0</td>\n",
       "      <td>0</td>\n",
       "      <td>0</td>\n",
       "      <td>0</td>\n",
       "      <td>0</td>\n",
       "      <td>0</td>\n",
       "      <td>1</td>\n",
       "      <td>0</td>\n",
       "      <td>0</td>\n",
       "      <td>0</td>\n",
       "    </tr>\n",
       "    <tr>\n",
       "      <th>3</th>\n",
       "      <td>1</td>\n",
       "      <td>0</td>\n",
       "      <td>0</td>\n",
       "      <td>0</td>\n",
       "      <td>0</td>\n",
       "      <td>0</td>\n",
       "      <td>0</td>\n",
       "      <td>0</td>\n",
       "      <td>0</td>\n",
       "      <td>0</td>\n",
       "      <td>...</td>\n",
       "      <td>0</td>\n",
       "      <td>0</td>\n",
       "      <td>0</td>\n",
       "      <td>0</td>\n",
       "      <td>0</td>\n",
       "      <td>0</td>\n",
       "      <td>0</td>\n",
       "      <td>0</td>\n",
       "      <td>0</td>\n",
       "      <td>0</td>\n",
       "    </tr>\n",
       "    <tr>\n",
       "      <th>4</th>\n",
       "      <td>0</td>\n",
       "      <td>0</td>\n",
       "      <td>0</td>\n",
       "      <td>0</td>\n",
       "      <td>0</td>\n",
       "      <td>0</td>\n",
       "      <td>0</td>\n",
       "      <td>0</td>\n",
       "      <td>0</td>\n",
       "      <td>0</td>\n",
       "      <td>...</td>\n",
       "      <td>0</td>\n",
       "      <td>0</td>\n",
       "      <td>0</td>\n",
       "      <td>0</td>\n",
       "      <td>0</td>\n",
       "      <td>0</td>\n",
       "      <td>0</td>\n",
       "      <td>0</td>\n",
       "      <td>0</td>\n",
       "      <td>0</td>\n",
       "    </tr>\n",
       "  </tbody>\n",
       "</table>\n",
       "<p>5 rows × 33 columns</p>\n",
       "</div>"
      ],
      "text/plain": [
       "   0   1   2   3   4   5   6   7   8   9   ...  23  24  25  26  27  28  29  \\\n",
       "0   0   0   0   1   0   0   0   0   1   0  ...   0   0   0   0   0   0   0   \n",
       "1   0   0   0   0   0   0   0   0   0   0  ...   0   0   0   1   0   0   0   \n",
       "2   0   0   0   0   0   0   0   0   0   0  ...   0   0   0   0   0   0   1   \n",
       "3   1   0   0   0   0   0   0   0   0   0  ...   0   0   0   0   0   0   0   \n",
       "4   0   0   0   0   0   0   0   0   0   0  ...   0   0   0   0   0   0   0   \n",
       "\n",
       "   30  31  32  \n",
       "0   0   0   0  \n",
       "1   0   0   0  \n",
       "2   0   0   0  \n",
       "3   0   0   0  \n",
       "4   0   0   0  \n",
       "\n",
       "[5 rows x 33 columns]"
      ]
     },
     "execution_count": 10,
     "metadata": {},
     "output_type": "execute_result"
    }
   ],
   "source": [
    "# Let's check how the adjacency matrix looks like.\n",
    "pd.DataFrame(B).head()"
   ]
  },
  {
   "cell_type": "markdown",
   "metadata": {},
   "source": [
    "##### M: Marriage ties\n",
    "Loading layer 'marriage' into adjacency matrix.\\\n",
    "Marriage ties represent domain_id = 0"
   ]
  },
  {
   "cell_type": "code",
   "execution_count": 11,
   "metadata": {
    "scrolled": true
   },
   "outputs": [
    {
     "data": {
      "text/plain": [
       "((33, 33), 0, 1, 58)"
      ]
     },
     "execution_count": 11,
     "metadata": {},
     "output_type": "execute_result"
    }
   ],
   "source": [
    "# alternative 2: select portions of data using .query()\n",
    "tmp = relations.query(\"domain_id == 0\")[['family_id_from','family_id_to','weight']] # keep the main columns s,t,w\n",
    "\n",
    "M = helper.get_adjacency_from_pandas_weighted_edgelist(df=tmp,\n",
    "                                                       nodes_order=nodes,\n",
    "                                                       directed=False)\n",
    "M.shape, M.min(), M.max(), M.sum()"
   ]
  },
  {
   "cell_type": "markdown",
   "metadata": {},
   "source": [
    "##### Running QAP"
   ]
  },
  {
   "cell_type": "code",
   "execution_count": 12,
   "metadata": {},
   "outputs": [],
   "source": [
    "# We need to import the qap library\n",
    "from qap import QAP"
   ]
  },
  {
   "cell_type": "code",
   "execution_count": 13,
   "metadata": {
    "scrolled": true
   },
   "outputs": [
    {
     "name": "stdout",
     "output_type": "stream",
     "text": [
      "[2020-09-24 20:12:53] Observed Pearson's correlation: 0.1838\n",
      "[2020-09-24 20:13:11] \n",
      "[2020-09-24 20:13:11] # Permutations: 50000\n",
      "[2020-09-24 20:13:11] Duration (sec.): 17\n",
      "[2020-09-24 20:13:11] \n",
      "[2020-09-24 20:13:11] - Sum all betas: 6.517781000001342\n",
      "[2020-09-24 20:13:11] - Min betas: -0.04529\n",
      "[2020-09-24 20:13:11] - Max betas: 0.275382\n",
      "[2020-09-24 20:13:11] - Average betas: 0.0001303556199999998\n",
      "[2020-09-24 20:13:11] - Std. Dev. betas: 0.04394286907304249\n",
      "[2020-09-24 20:13:11] \n",
      "[2020-09-24 20:13:11] prop >= 0.1838: 0.00194 P(Large)\n",
      "[2020-09-24 20:13:11] prop <= 0.1838: 0.99806 P(Small)\n"
     ]
    }
   ],
   "source": [
    "# Y: variable (matrix)\n",
    "# X: variable (matrix)\n",
    "qap_obj = QAP(Y=B, X=M, npermutations=50000, seed=12345)\n",
    "qap_obj.qap()\n",
    "qap_obj.summary()"
   ]
  },
  {
   "cell_type": "markdown",
   "metadata": {},
   "source": [
    "**NUMERIC INTERPRETATION**\\\n",
    "We got a correlation of $\\rho=0.1838$, which is positive, then the `Business` ties are positively correlated to the `Marriage` ties by 18%.\\\n",
    "However, with cannot conclude yet, whether this is completly true or not. We need to look at the significance test as well, to verify whether the correlation happened just by chance, or because of an actual dependency.\\\n",
    "In this case, (since $\\rho=0.1838>0$) we use the `p-value` from $P(Large)$, and we can conclude that our $\\text{p-value}=0.001$ is statiscally significant, and we can **reject the NULL hypothesis.**\\\n",
    "\\\n",
    "REMEMBER: Every time we use QAP or MRAP, our NULL hypothesis refers to the **NO** dependency (or correlation) between networks."
   ]
  },
  {
   "cell_type": "markdown",
   "metadata": {},
   "source": [
    "**GRAPHICAL INTERPRETATION**\\\n",
    "The function `.plot()`, plots the distribution of $\\rho$ values computed on every shuffled (permuted) network.\\\n",
    "Then, blue bars represent this distribution: i.e., NULL hypothesis, and orange dotted vertical line represents the actual correlation between the two networks.\\\n",
    "In this example, we see that the orange line is very far from the blue bars. This means that we can reject the NULL hypothesis."
   ]
  },
  {
   "cell_type": "code",
   "execution_count": 14,
   "metadata": {},
   "outputs": [
    {
     "data": {
      "image/png": "[encoded data removed]",
      "text/plain": [
       "<Figure size 432x288 with 1 Axes>"
      ]
     },
     "metadata": {
      "needs_background": "light"
     },
     "output_type": "display_data"
    }
   ],
   "source": [
    "qap_obj.plot()"
   ]
  },
  {
   "cell_type": "markdown",
   "metadata": {},
   "source": [
    "### MRQAP - Multiple (linear) regression QAP\n",
    "It performs a permutation test to calculate the significance of the regression coefficients: `layer1 ~ layer2 + layer 3`\\\n",
    "\\\n",
    "*Hypothesis 2.2:\\\n",
    "**Economic ties** are embedded in **marriage**, **friendship**, and **political** ties.*"
   ]
  },
  {
   "cell_type": "markdown",
   "metadata": {},
   "source": [
    "##### F: Friendship ties\n",
    "Loading layer 'friendship' into adjacency matrix.\\\n",
    "friendship ties represent domain_id = 3"
   ]
  },
  {
   "cell_type": "code",
   "execution_count": 15,
   "metadata": {},
   "outputs": [
    {
     "data": {
      "text/plain": [
       "((33, 33), 0, 1, 14)"
      ]
     },
     "execution_count": 15,
     "metadata": {},
     "output_type": "execute_result"
    }
   ],
   "source": [
    "tmp = relations.query(\"domain_id == 3\")[['family_id_from','family_id_to','weight']]\n",
    "F = helper.get_adjacency_from_pandas_weighted_edgelist(df=tmp,\n",
    "                                                       nodes_order=nodes,\n",
    "                                                       directed=False)\n",
    "F.shape, F.min(), F.max(), F.sum()"
   ]
  },
  {
   "cell_type": "markdown",
   "metadata": {},
   "source": [
    "##### P: Political ties\n",
    "Loading layer 'political' into adjacency matrix.\\\n",
    "political ties represent domain_id = 2"
   ]
  },
  {
   "cell_type": "code",
   "execution_count": 16,
   "metadata": {
    "scrolled": false
   },
   "outputs": [
    {
     "data": {
      "text/plain": [
       "((33, 33), 0, 2)"
      ]
     },
     "execution_count": 16,
     "metadata": {},
     "output_type": "execute_result"
    }
   ],
   "source": [
    "tmp = relations.query(\"domain_id == 2\")[['family_id_from','family_id_to','weight']]\n",
    "P = helper.get_adjacency_from_pandas_weighted_edgelist(df=tmp,\n",
    "                                                       nodes_order=nodes,\n",
    "                                                       directed=False)\n",
    "P.shape, P.min(), P.max()"
   ]
  },
  {
   "cell_type": "markdown",
   "metadata": {},
   "source": [
    "##### Running MRQAP"
   ]
  },
  {
   "cell_type": "code",
   "execution_count": 17,
   "metadata": {},
   "outputs": [],
   "source": [
    "from mrqap import MRQAP"
   ]
  },
  {
   "cell_type": "code",
   "execution_count": 18,
   "metadata": {},
   "outputs": [],
   "source": [
    "# Y and X are dictionaries just to identify the variable names\n",
    "# Y represents the dependent variable\n",
    "# X all independent variables (in dyadic-level all are matrices)\n",
    "Y = {'business':B}\n",
    "X = {'marriage':M, 'friendship':F, 'political':P}\n",
    "mrqap_obj = MRQAP(Y=Y, X=X, npermutations=10000, standarized=True, seed=12345)\n",
    "mrqap_obj.mrqap()"
   ]
  },
  {
   "cell_type": "code",
   "execution_count": 19,
   "metadata": {},
   "outputs": [
    {
     "name": "stdout",
     "output_type": "stream",
     "text": [
      "\n",
      "                 business ~ marriage + friendship + political                 \n",
      "==============================================================================\n",
      "   R-Square  Adj. R-Sqr.    Obs.  Perms.  Duration (sec.)\n",
      "0    0.1046        0.102  1056.0   10000              210\n",
      "\n",
      "                           Summary Permutation Test                           \n",
      "==============================================================================\n",
      "\n",
      "               MIN     MAX  MEDIAN    MEAN     STD    BETA    P(+)    P(-)\n",
      "Intercept       -0      -0       0       0       0       0       0       1\n",
      "marriage   -0.1179  0.2421 -0.0008  0.0001   0.048  0.1518  0.0058  0.9942\n",
      "friendship -0.1171  0.3509 -0.0176  0.0001  0.0471 -0.1453       1       0\n",
      "political  -0.1129  0.2852  -0.016 -0.0005  0.0468   0.268  0.0001  0.9999\n"
     ]
    }
   ],
   "source": [
    "mrqap_obj.summary(verbose=False)"
   ]
  },
  {
   "cell_type": "markdown",
   "metadata": {},
   "source": [
    "**NUMERIC INTERPRETATION**\\\n",
    "In the case of regression, we first need to look at each independent variable (variables we set into the dictionary `X`). In this case marriage, friendship, and political ties. Then we need to see at their $\\beta$ coefficientes under the column `BETA`. Check whether they are positive or negative. If they are positive, the `p-value` that we need is `P(+)`, otherwise we use `P(-)`. Then, for each variable we ask whether the obtained coefficient is statistically significant or not. For example, `marriage` has a $\\beta_{marriage}=0.1518$, and a $\\text{p-value}=0.0058$, then we can conclude that (only for marriage) this beta coefficient is statisticaly significant, therefore, business ties depends on marriage ties. In the case of `friendship`, we see a negative $\\beta_{friendship}=-0.1453$, then we use `P(-)` that is $\\text{p-vlaue}=0$, which is statistically significant. This means that families do not make businesses with friends.\\\n",
    "\\\n",
    "After you look at the regression coefficients (beta values), you should also look at the `Adj. R-Square` value, which represents the adjusted goodness-of-fit of our model $business ~ marriage + friendship + political$, accounting for the number of variables. In this case $0.1046$."
   ]
  },
  {
   "cell_type": "markdown",
   "metadata": {},
   "source": [
    "**GRAPHICAL INTERPRETATION**\\\n",
    "Similar as in the graphical interpretation of QAP, but now we see the distributions of the regression coefficients for each independent variable X.\\\n",
    "Notice that we include the `Intercept` (often labeled as `constant`). It is the expected mean value of $Y$ when all $X=0$. Since we are using standarized variables `standarized=True`, the intercept is always $0$."
   ]
  },
  {
   "cell_type": "code",
   "execution_count": 20,
   "metadata": {},
   "outputs": [
    {
     "data": {
      "image/png": "[encoded data removed]",
      "text/plain": [
       "<Figure size 864x216 with 4 Axes>"
      ]
     },
     "metadata": {
      "needs_background": "light"
     },
     "output_type": "display_data"
    }
   ],
   "source": [
    "mrqap_obj.plot()"
   ]
  },
  {
   "cell_type": "markdown",
   "metadata": {},
   "source": [
    "---\n",
    "## 3. Mixed dyadic-monadic hypotheses\n",
    "Now, let's look for correlations between layers and node attributes!"
   ]
  },
  {
   "cell_type": "markdown",
   "metadata": {},
   "source": [
    "### MRQAP - Multiple (linear) regression quadratic assignment\n",
    "It performs a permutation test to calculate the significance of the regression coefficients: `layer1 ~ layer2 + layer 3 + monadic`\\\n",
    "\\\n",
    "*Hypothesis 3.1:\\\n",
    "**Economic** ties are embedded in **marriage**, **friendship**, **political** ties, and same **party** membership, similar **gross wealth**, and same **status**.*"
   ]
  },
  {
   "cell_type": "markdown",
   "metadata": {},
   "source": [
    "#### Building more hypotheses\n",
    "In section 2 of this demo we created dyadic hypotheses.\\\n",
    "Now, let's create monadic hypothesis (i.e., based on homophily or popularity).\\\n",
    "*For example: Families that belong to the same party, are more likely to connect to each other.*"
   ]
  },
  {
   "cell_type": "code",
   "execution_count": 21,
   "metadata": {
    "scrolled": true
   },
   "outputs": [
    {
     "data": {
      "text/html": [
       "<div>\n",
       "<style scoped>\n",
       "    .dataframe tbody tr th:only-of-type {\n",
       "        vertical-align: middle;\n",
       "    }\n",
       "\n",
       "    .dataframe tbody tr th {\n",
       "        vertical-align: top;\n",
       "    }\n",
       "\n",
       "    .dataframe thead th {\n",
       "        text-align: right;\n",
       "    }\n",
       "</style>\n",
       "<table border=\"1\" class=\"dataframe\">\n",
       "  <thead>\n",
       "    <tr style=\"text-align: right;\">\n",
       "      <th></th>\n",
       "      <th>family_id</th>\n",
       "      <th>family</th>\n",
       "      <th>party_id</th>\n",
       "      <th>gross_wealth_mean</th>\n",
       "      <th>date_of_first_prior_mean</th>\n",
       "      <th>block_size</th>\n",
       "      <th>numbers_active_medici</th>\n",
       "      <th>numbers_active_oligarch</th>\n",
       "      <th>numbers_active_neutral</th>\n",
       "      <th>pos_x</th>\n",
       "      <th>pos_y</th>\n",
       "      <th>partisanship_color</th>\n",
       "      <th>status_color</th>\n",
       "    </tr>\n",
       "  </thead>\n",
       "  <tbody>\n",
       "    <tr>\n",
       "      <th>0</th>\n",
       "      <td>0</td>\n",
       "      <td>MEDICI</td>\n",
       "      <td>0</td>\n",
       "      <td>82702</td>\n",
       "      <td>1318</td>\n",
       "      <td>3</td>\n",
       "      <td>7</td>\n",
       "      <td>0</td>\n",
       "      <td>0</td>\n",
       "      <td>-0.0776</td>\n",
       "      <td>0.0391</td>\n",
       "      <td>#387db8</td>\n",
       "      <td>#b6b6b6</td>\n",
       "    </tr>\n",
       "    <tr>\n",
       "      <th>1</th>\n",
       "      <td>1</td>\n",
       "      <td>TORNABUONI</td>\n",
       "      <td>0</td>\n",
       "      <td>42840</td>\n",
       "      <td>1303</td>\n",
       "      <td>7</td>\n",
       "      <td>8</td>\n",
       "      <td>1</td>\n",
       "      <td>1</td>\n",
       "      <td>0.0776</td>\n",
       "      <td>0.1251</td>\n",
       "      <td>#5c82b0</td>\n",
       "      <td>#d4d4d4</td>\n",
       "    </tr>\n",
       "    <tr>\n",
       "      <th>2</th>\n",
       "      <td>2</td>\n",
       "      <td>GUICCIARDINI</td>\n",
       "      <td>0</td>\n",
       "      <td>40617</td>\n",
       "      <td>1289</td>\n",
       "      <td>5</td>\n",
       "      <td>6</td>\n",
       "      <td>0</td>\n",
       "      <td>0</td>\n",
       "      <td>-0.1761</td>\n",
       "      <td>-0.0705</td>\n",
       "      <td>#387db8</td>\n",
       "      <td>#f1f1f1</td>\n",
       "    </tr>\n",
       "    <tr>\n",
       "      <th>3</th>\n",
       "      <td>3</td>\n",
       "      <td>GINORI</td>\n",
       "      <td>0</td>\n",
       "      <td>21167</td>\n",
       "      <td>1344</td>\n",
       "      <td>2</td>\n",
       "      <td>11</td>\n",
       "      <td>0</td>\n",
       "      <td>0</td>\n",
       "      <td>-0.2381</td>\n",
       "      <td>0.1034</td>\n",
       "      <td>#387db8</td>\n",
       "      <td>#818181</td>\n",
       "    </tr>\n",
       "    <tr>\n",
       "      <th>4</th>\n",
       "      <td>4</td>\n",
       "      <td>DIETISALVI</td>\n",
       "      <td>0</td>\n",
       "      <td>13137</td>\n",
       "      <td>1340</td>\n",
       "      <td>2</td>\n",
       "      <td>3</td>\n",
       "      <td>0</td>\n",
       "      <td>0</td>\n",
       "      <td>-0.4000</td>\n",
       "      <td>0.1282</td>\n",
       "      <td>#387db8</td>\n",
       "      <td>#898989</td>\n",
       "    </tr>\n",
       "  </tbody>\n",
       "</table>\n",
       "</div>"
      ],
      "text/plain": [
       "   family_id        family  party_id  gross_wealth_mean  \\\n",
       "0          0        MEDICI         0              82702   \n",
       "1          1    TORNABUONI         0              42840   \n",
       "2          2  GUICCIARDINI         0              40617   \n",
       "3          3        GINORI         0              21167   \n",
       "4          4    DIETISALVI         0              13137   \n",
       "\n",
       "   date_of_first_prior_mean  block_size  numbers_active_medici  \\\n",
       "0                      1318           3                      7   \n",
       "1                      1303           7                      8   \n",
       "2                      1289           5                      6   \n",
       "3                      1344           2                     11   \n",
       "4                      1340           2                      3   \n",
       "\n",
       "   numbers_active_oligarch  numbers_active_neutral   pos_x   pos_y  \\\n",
       "0                        0                       0 -0.0776  0.0391   \n",
       "1                        1                       1  0.0776  0.1251   \n",
       "2                        0                       0 -0.1761 -0.0705   \n",
       "3                        0                       0 -0.2381  0.1034   \n",
       "4                        0                       0 -0.4000  0.1282   \n",
       "\n",
       "  partisanship_color status_color  \n",
       "0            #387db8      #b6b6b6  \n",
       "1            #5c82b0      #d4d4d4  \n",
       "2            #387db8      #f1f1f1  \n",
       "3            #387db8      #818181  \n",
       "4            #387db8      #898989  "
      ]
     },
     "execution_count": 21,
     "metadata": {},
     "output_type": "execute_result"
    }
   ],
   "source": [
    "# let's recall the nodes' metadata\n",
    "families.head()"
   ]
  },
  {
   "cell_type": "markdown",
   "metadata": {},
   "source": [
    "##### T: Same party members are more likely to make business together.\n",
    "We need a function that compares the party membership of family_a (source) with the party membership of family_b (target).\\\n",
    "This comparison must return a high value (e.g., 1) when the parties of both families are the same, and a low value (e.g., 0) when they are different.\\\n",
    "Thus, we use the function `compare_same` from our `helper` library, which returns extacly that.\\\n",
    "REMEMBER: In a monadic or dyadic hypothesis matrix, `row_ids` refer to source nodes, and `column_ids` to target nodes."
   ]
  },
  {
   "cell_type": "code",
   "execution_count": 22,
   "metadata": {
    "scrolled": true
   },
   "outputs": [
    {
     "data": {
      "text/plain": [
       "((33, 33), 0, 1, 596)"
      ]
     },
     "execution_count": 22,
     "metadata": {},
     "output_type": "execute_result"
    }
   ],
   "source": [
    "# testing homophily on party membership\n",
    "T = helper.get_monadic_hypothesis(families, \n",
    "                                  keyid='family_id', \n",
    "                                  attribute='party_id', \n",
    "                                  comparison_fnc=helper.compare_same, # 1 party_source == party_target, 0 otherwise\n",
    "                                  symmetric=True, # sim(s,t) = sim(t,s) ?\n",
    "                                  keyorder=nodes,\n",
    "                                  dtype=int)\n",
    "\n",
    "T.shape, T.min(), T.max(), T.sum()"
   ]
  },
  {
   "cell_type": "code",
   "execution_count": 23,
   "metadata": {},
   "outputs": [
    {
     "data": {
      "text/html": [
       "<div>\n",
       "<style scoped>\n",
       "    .dataframe tbody tr th:only-of-type {\n",
       "        vertical-align: middle;\n",
       "    }\n",
       "\n",
       "    .dataframe tbody tr th {\n",
       "        vertical-align: top;\n",
       "    }\n",
       "\n",
       "    .dataframe thead th {\n",
       "        text-align: right;\n",
       "    }\n",
       "</style>\n",
       "<table border=\"1\" class=\"dataframe\">\n",
       "  <thead>\n",
       "    <tr style=\"text-align: right;\">\n",
       "      <th></th>\n",
       "      <th>0</th>\n",
       "      <th>1</th>\n",
       "      <th>2</th>\n",
       "      <th>3</th>\n",
       "      <th>4</th>\n",
       "      <th>5</th>\n",
       "      <th>6</th>\n",
       "      <th>7</th>\n",
       "      <th>8</th>\n",
       "      <th>9</th>\n",
       "      <th>...</th>\n",
       "      <th>23</th>\n",
       "      <th>24</th>\n",
       "      <th>25</th>\n",
       "      <th>26</th>\n",
       "      <th>27</th>\n",
       "      <th>28</th>\n",
       "      <th>29</th>\n",
       "      <th>30</th>\n",
       "      <th>31</th>\n",
       "      <th>32</th>\n",
       "    </tr>\n",
       "  </thead>\n",
       "  <tbody>\n",
       "    <tr>\n",
       "      <th>0</th>\n",
       "      <td>0</td>\n",
       "      <td>1</td>\n",
       "      <td>1</td>\n",
       "      <td>1</td>\n",
       "      <td>1</td>\n",
       "      <td>1</td>\n",
       "      <td>1</td>\n",
       "      <td>1</td>\n",
       "      <td>1</td>\n",
       "      <td>1</td>\n",
       "      <td>...</td>\n",
       "      <td>0</td>\n",
       "      <td>0</td>\n",
       "      <td>0</td>\n",
       "      <td>0</td>\n",
       "      <td>0</td>\n",
       "      <td>0</td>\n",
       "      <td>0</td>\n",
       "      <td>0</td>\n",
       "      <td>0</td>\n",
       "      <td>0</td>\n",
       "    </tr>\n",
       "    <tr>\n",
       "      <th>1</th>\n",
       "      <td>1</td>\n",
       "      <td>0</td>\n",
       "      <td>1</td>\n",
       "      <td>1</td>\n",
       "      <td>1</td>\n",
       "      <td>1</td>\n",
       "      <td>1</td>\n",
       "      <td>1</td>\n",
       "      <td>1</td>\n",
       "      <td>1</td>\n",
       "      <td>...</td>\n",
       "      <td>0</td>\n",
       "      <td>0</td>\n",
       "      <td>0</td>\n",
       "      <td>0</td>\n",
       "      <td>0</td>\n",
       "      <td>0</td>\n",
       "      <td>0</td>\n",
       "      <td>0</td>\n",
       "      <td>0</td>\n",
       "      <td>0</td>\n",
       "    </tr>\n",
       "    <tr>\n",
       "      <th>2</th>\n",
       "      <td>1</td>\n",
       "      <td>1</td>\n",
       "      <td>0</td>\n",
       "      <td>1</td>\n",
       "      <td>1</td>\n",
       "      <td>1</td>\n",
       "      <td>1</td>\n",
       "      <td>1</td>\n",
       "      <td>1</td>\n",
       "      <td>1</td>\n",
       "      <td>...</td>\n",
       "      <td>0</td>\n",
       "      <td>0</td>\n",
       "      <td>0</td>\n",
       "      <td>0</td>\n",
       "      <td>0</td>\n",
       "      <td>0</td>\n",
       "      <td>0</td>\n",
       "      <td>0</td>\n",
       "      <td>0</td>\n",
       "      <td>0</td>\n",
       "    </tr>\n",
       "    <tr>\n",
       "      <th>3</th>\n",
       "      <td>1</td>\n",
       "      <td>1</td>\n",
       "      <td>1</td>\n",
       "      <td>0</td>\n",
       "      <td>1</td>\n",
       "      <td>1</td>\n",
       "      <td>1</td>\n",
       "      <td>1</td>\n",
       "      <td>1</td>\n",
       "      <td>1</td>\n",
       "      <td>...</td>\n",
       "      <td>0</td>\n",
       "      <td>0</td>\n",
       "      <td>0</td>\n",
       "      <td>0</td>\n",
       "      <td>0</td>\n",
       "      <td>0</td>\n",
       "      <td>0</td>\n",
       "      <td>0</td>\n",
       "      <td>0</td>\n",
       "      <td>0</td>\n",
       "    </tr>\n",
       "    <tr>\n",
       "      <th>4</th>\n",
       "      <td>1</td>\n",
       "      <td>1</td>\n",
       "      <td>1</td>\n",
       "      <td>1</td>\n",
       "      <td>0</td>\n",
       "      <td>1</td>\n",
       "      <td>1</td>\n",
       "      <td>1</td>\n",
       "      <td>1</td>\n",
       "      <td>1</td>\n",
       "      <td>...</td>\n",
       "      <td>0</td>\n",
       "      <td>0</td>\n",
       "      <td>0</td>\n",
       "      <td>0</td>\n",
       "      <td>0</td>\n",
       "      <td>0</td>\n",
       "      <td>0</td>\n",
       "      <td>0</td>\n",
       "      <td>0</td>\n",
       "      <td>0</td>\n",
       "    </tr>\n",
       "  </tbody>\n",
       "</table>\n",
       "<p>5 rows × 33 columns</p>\n",
       "</div>"
      ],
      "text/plain": [
       "   0   1   2   3   4   5   6   7   8   9   ...  23  24  25  26  27  28  29  \\\n",
       "0   0   1   1   1   1   1   1   1   1   1  ...   0   0   0   0   0   0   0   \n",
       "1   1   0   1   1   1   1   1   1   1   1  ...   0   0   0   0   0   0   0   \n",
       "2   1   1   0   1   1   1   1   1   1   1  ...   0   0   0   0   0   0   0   \n",
       "3   1   1   1   0   1   1   1   1   1   1  ...   0   0   0   0   0   0   0   \n",
       "4   1   1   1   1   0   1   1   1   1   1  ...   0   0   0   0   0   0   0   \n",
       "\n",
       "   30  31  32  \n",
       "0   0   0   0  \n",
       "1   0   0   0  \n",
       "2   0   0   0  \n",
       "3   0   0   0  \n",
       "4   0   0   0  \n",
       "\n",
       "[5 rows x 33 columns]"
      ]
     },
     "execution_count": 23,
     "metadata": {},
     "output_type": "execute_result"
    }
   ],
   "source": [
    "# Let's check how the monadic matrix looks like.\n",
    "pd.DataFrame(T).head()"
   ]
  },
  {
   "cell_type": "markdown",
   "metadata": {},
   "source": [
    "##### G: Families with similar gross_wealth are more likely to make business together.\n",
    "We need a high value when the gross_wealth of family_a is similar to the gross_wealth of family_b, and a low value otherwise.\\\n",
    "In other words, we need a high value when the difference of gross_wealth between the two families is low, and a low value when the difference is high.\\\n",
    "Thus, we calculate the inverse distance of the gross_wealth values between families.\\\n",
    "That is: `1/abs(gross_fam1 - gross_fam2)`.\\\n",
    "We use the function `compare_inverted_distance` from our `helper` library, which returns extacly that.\\\n",
    "If the difference (denominator) is small, then the two families are very likely to connect.\n"
   ]
  },
  {
   "cell_type": "code",
   "execution_count": 24,
   "metadata": {},
   "outputs": [
    {
     "data": {
      "text/plain": [
       "((33, 33), 0.0, 0.027777770061730538, 0.2796795343170124)"
      ]
     },
     "execution_count": 24,
     "metadata": {},
     "output_type": "execute_result"
    }
   ],
   "source": [
    "# testing homophily on gross_wealth\n",
    "G = helper.get_monadic_hypothesis(families, \n",
    "                                  keyid='family_id', \n",
    "                                  attribute='gross_wealth_mean', \n",
    "                                  comparison_fnc=helper.compare_inverted_distance, \n",
    "                                  symmetric=True, # sim(s,t) = sim(t,s) ?\n",
    "                                  keyorder=nodes)\n",
    "\n",
    "G.shape, G.min(), G.max(), G.sum()"
   ]
  },
  {
   "cell_type": "markdown",
   "metadata": {},
   "source": [
    "##### D: Similar status (date_of_first_prior)\n",
    "Same as hypothesis **G (similar gross_weath)**. The difference relies only on the attribute.\\\n",
    "In this case we use `date_of_first_prior_mean` which refers to the status of the family.\\\n",
    "We use the function `compare_inverted_distance` from our `helper` library, which returns a value inversely proportional to the difference of statuses between families a and b."
   ]
  },
  {
   "cell_type": "code",
   "execution_count": 25,
   "metadata": {},
   "outputs": [
    {
     "data": {
      "text/plain": [
       "((33, 33), 0.0, 99999.99999999999, 600091.9912177328)"
      ]
     },
     "execution_count": 25,
     "metadata": {},
     "output_type": "execute_result"
    }
   ],
   "source": [
    "D = helper.get_monadic_hypothesis(families, \n",
    "                                  keyid='family_id', \n",
    "                                  attribute='date_of_first_prior_mean', \n",
    "                                  comparison_fnc=helper.compare_inverted_distance, \n",
    "                                  symmetric=True, # sim(s,t) = sim(t,s) ?\n",
    "                                  keyorder=nodes)\n",
    "\n",
    "D.shape, D.min(), D.max(), D.sum()"
   ]
  },
  {
   "cell_type": "markdown",
   "metadata": {},
   "source": [
    "##### Running MRQAP on mixed dyadic-monadic hypotheses"
   ]
  },
  {
   "cell_type": "code",
   "execution_count": 26,
   "metadata": {},
   "outputs": [],
   "source": [
    "# Just to differentiate dyadic hypothesis from monadic hypothesis\n",
    "# we refer to the former with UPPER case, and to the later with lower case.\n",
    "Y = {'ECON':B}\n",
    "X = {'MARR':M, 'FRIEND':F, 'POLIT':P, 'sa_party':T, 'sim_gross':G, 'sim_status':D}\n",
    "mrqap_obj = MRQAP(Y=Y, X=X, npermutations=10000, standarized=True, seed=12345)\n",
    "mrqap_obj.mrqap()"
   ]
  },
  {
   "cell_type": "code",
   "execution_count": 27,
   "metadata": {},
   "outputs": [
    {
     "name": "stdout",
     "output_type": "stream",
     "text": [
      "\n",
      "       ECON ~ MARR + FRIEND + POLIT + sa_party + sim_gross + sim_status       \n",
      "==============================================================================\n",
      "   R-Square  Adj. R-Sqr.    Obs.  Perms.  Duration (sec.)\n",
      "0    0.1108       0.1057  1056.0   10000              305\n",
      "\n",
      "                           Summary Permutation Test                           \n",
      "==============================================================================\n",
      "\n",
      "               MIN     MAX  MEDIAN    MEAN     STD    BETA    P(+)    P(-)\n",
      "Intercept       -0      -0       0       0       0       0       0       1\n",
      "MARR       -0.1136  0.2496 -0.0049  0.0002  0.0489  0.1387  0.0087  0.9913\n",
      "FRIEND     -0.1149  0.3507 -0.0149  0.0001  0.0472 -0.1445       1       0\n",
      "POLIT       -0.121  0.2956 -0.0141 -0.0005  0.0474  0.2756  0.0001  0.9999\n",
      "sa_party   -0.1978  0.1423  -0.001 -0.0007  0.0462  0.0519  0.1195  0.8805\n",
      "sim_gross  -0.0385  0.3151 -0.0141  0.0006  0.0443  0.0331  0.1025  0.8975\n",
      "sim_status -0.0538  0.2807 -0.0121 -0.0002  0.0434 -0.0479  0.9994  0.0006\n"
     ]
    }
   ],
   "source": [
    "mrqap_obj.summary(verbose=False)"
   ]
  },
  {
   "cell_type": "code",
   "execution_count": 28,
   "metadata": {},
   "outputs": [
    {
     "data": {
      "image/png": "[encoded data removed]",
      "text/plain": [
       "<Figure size 864x432 with 8 Axes>"
      ]
     },
     "metadata": {
      "needs_background": "light"
     },
     "output_type": "display_data"
    }
   ],
   "source": [
    "mrqap_obj.plot()"
   ]
  },
  {
   "cell_type": "markdown",
   "metadata": {},
   "source": [
    "---\n",
    "## 4. Node-Level Hypotheses (ego)\n",
    "Finally, let's test hypothesis on the node-level (node-**structure** vs. node-**attribute**)\\\n",
    "**IMPORTANT:** Note that the variables for the node-level hypothesis are vectors!"
   ]
  },
  {
   "cell_type": "markdown",
   "metadata": {},
   "source": [
    "### MRQAP\n",
    "It performs a permutation test to calculate the significance of the regression coefficients: `node-property ~ node-attribute1 + node-attribute2`\\\n",
    "\\\n",
    "*Hypothesis 4.1:\\\n",
    "The larger the **economic degree** (more business ties), the higher the **gross wealth** and **status** of a family.*"
   ]
  },
  {
   "cell_type": "code",
   "execution_count": 29,
   "metadata": {},
   "outputs": [
    {
     "data": {
      "text/html": [
       "<div>\n",
       "<style scoped>\n",
       "    .dataframe tbody tr th:only-of-type {\n",
       "        vertical-align: middle;\n",
       "    }\n",
       "\n",
       "    .dataframe tbody tr th {\n",
       "        vertical-align: top;\n",
       "    }\n",
       "\n",
       "    .dataframe thead th {\n",
       "        text-align: right;\n",
       "    }\n",
       "</style>\n",
       "<table border=\"1\" class=\"dataframe\">\n",
       "  <thead>\n",
       "    <tr style=\"text-align: right;\">\n",
       "      <th></th>\n",
       "      <th>family_id</th>\n",
       "      <th>family</th>\n",
       "      <th>party_id</th>\n",
       "      <th>gross_wealth_mean</th>\n",
       "      <th>date_of_first_prior_mean</th>\n",
       "      <th>block_size</th>\n",
       "      <th>numbers_active_medici</th>\n",
       "      <th>numbers_active_oligarch</th>\n",
       "      <th>numbers_active_neutral</th>\n",
       "      <th>pos_x</th>\n",
       "      <th>pos_y</th>\n",
       "      <th>partisanship_color</th>\n",
       "      <th>status_color</th>\n",
       "    </tr>\n",
       "  </thead>\n",
       "  <tbody>\n",
       "    <tr>\n",
       "      <th>0</th>\n",
       "      <td>0</td>\n",
       "      <td>MEDICI</td>\n",
       "      <td>0</td>\n",
       "      <td>82702</td>\n",
       "      <td>1318</td>\n",
       "      <td>3</td>\n",
       "      <td>7</td>\n",
       "      <td>0</td>\n",
       "      <td>0</td>\n",
       "      <td>-0.0776</td>\n",
       "      <td>0.0391</td>\n",
       "      <td>#387db8</td>\n",
       "      <td>#b6b6b6</td>\n",
       "    </tr>\n",
       "    <tr>\n",
       "      <th>1</th>\n",
       "      <td>1</td>\n",
       "      <td>TORNABUONI</td>\n",
       "      <td>0</td>\n",
       "      <td>42840</td>\n",
       "      <td>1303</td>\n",
       "      <td>7</td>\n",
       "      <td>8</td>\n",
       "      <td>1</td>\n",
       "      <td>1</td>\n",
       "      <td>0.0776</td>\n",
       "      <td>0.1251</td>\n",
       "      <td>#5c82b0</td>\n",
       "      <td>#d4d4d4</td>\n",
       "    </tr>\n",
       "    <tr>\n",
       "      <th>2</th>\n",
       "      <td>2</td>\n",
       "      <td>GUICCIARDINI</td>\n",
       "      <td>0</td>\n",
       "      <td>40617</td>\n",
       "      <td>1289</td>\n",
       "      <td>5</td>\n",
       "      <td>6</td>\n",
       "      <td>0</td>\n",
       "      <td>0</td>\n",
       "      <td>-0.1761</td>\n",
       "      <td>-0.0705</td>\n",
       "      <td>#387db8</td>\n",
       "      <td>#f1f1f1</td>\n",
       "    </tr>\n",
       "    <tr>\n",
       "      <th>3</th>\n",
       "      <td>3</td>\n",
       "      <td>GINORI</td>\n",
       "      <td>0</td>\n",
       "      <td>21167</td>\n",
       "      <td>1344</td>\n",
       "      <td>2</td>\n",
       "      <td>11</td>\n",
       "      <td>0</td>\n",
       "      <td>0</td>\n",
       "      <td>-0.2381</td>\n",
       "      <td>0.1034</td>\n",
       "      <td>#387db8</td>\n",
       "      <td>#818181</td>\n",
       "    </tr>\n",
       "    <tr>\n",
       "      <th>4</th>\n",
       "      <td>4</td>\n",
       "      <td>DIETISALVI</td>\n",
       "      <td>0</td>\n",
       "      <td>13137</td>\n",
       "      <td>1340</td>\n",
       "      <td>2</td>\n",
       "      <td>3</td>\n",
       "      <td>0</td>\n",
       "      <td>0</td>\n",
       "      <td>-0.4000</td>\n",
       "      <td>0.1282</td>\n",
       "      <td>#387db8</td>\n",
       "      <td>#898989</td>\n",
       "    </tr>\n",
       "  </tbody>\n",
       "</table>\n",
       "</div>"
      ],
      "text/plain": [
       "   family_id        family  party_id  gross_wealth_mean  \\\n",
       "0          0        MEDICI         0              82702   \n",
       "1          1    TORNABUONI         0              42840   \n",
       "2          2  GUICCIARDINI         0              40617   \n",
       "3          3        GINORI         0              21167   \n",
       "4          4    DIETISALVI         0              13137   \n",
       "\n",
       "   date_of_first_prior_mean  block_size  numbers_active_medici  \\\n",
       "0                      1318           3                      7   \n",
       "1                      1303           7                      8   \n",
       "2                      1289           5                      6   \n",
       "3                      1344           2                     11   \n",
       "4                      1340           2                      3   \n",
       "\n",
       "   numbers_active_oligarch  numbers_active_neutral   pos_x   pos_y  \\\n",
       "0                        0                       0 -0.0776  0.0391   \n",
       "1                        1                       1  0.0776  0.1251   \n",
       "2                        0                       0 -0.1761 -0.0705   \n",
       "3                        0                       0 -0.2381  0.1034   \n",
       "4                        0                       0 -0.4000  0.1282   \n",
       "\n",
       "  partisanship_color status_color  \n",
       "0            #387db8      #b6b6b6  \n",
       "1            #5c82b0      #d4d4d4  \n",
       "2            #387db8      #f1f1f1  \n",
       "3            #387db8      #818181  \n",
       "4            #387db8      #898989  "
      ]
     },
     "execution_count": 29,
     "metadata": {},
     "output_type": "execute_result"
    }
   ],
   "source": [
    "# let's recall the nodes' metadata\n",
    "families.head()"
   ]
  },
  {
   "cell_type": "markdown",
   "metadata": {},
   "source": [
    "##### Gr: Gross wealth (node attribute)"
   ]
  },
  {
   "cell_type": "code",
   "execution_count": 30,
   "metadata": {},
   "outputs": [],
   "source": [
    "Gr = families.gross_wealth_mean.values"
   ]
  },
  {
   "cell_type": "code",
   "execution_count": 31,
   "metadata": {},
   "outputs": [
    {
     "data": {
      "text/plain": [
       "array([ 82702,  42840,  40617,  21167,  13137,  18957,   8158,  19887,\n",
       "        12420,  18921,  48364,  48066,  85300,  14529,   5403,  50125,\n",
       "        37118,  14367,  19640,  13047, 135765,  31297,  64626,  49988,\n",
       "        25874,  46875,   5757,  32388,  14054,  46308,  25179,  39365,\n",
       "        19225])"
      ]
     },
     "execution_count": 31,
     "metadata": {},
     "output_type": "execute_result"
    }
   ],
   "source": [
    "# Let's check how the 'node-attribute' vector looks like\n",
    "Gr"
   ]
  },
  {
   "cell_type": "markdown",
   "metadata": {},
   "source": [
    "##### S: Status (node attribute)\n",
    "From the DataFrame containing all node information `families`, we only need 1 column; the column of interest.\\\n",
    "In this case `date_of_first_prior_mean`, referring to the `status` of a family.\\\n",
    "We can get that column with `families.date_of_first_prior_mean` or `families['date_of_first_prior_mean']`.\\\n",
    "If you try that, you will see that the column is a `pandas.Series`. However, the `MRQAP` library needs a vector as a `numpy.array`, so we access the array (from that column) with the attribute `.values`, as follows:"
   ]
  },
  {
   "cell_type": "code",
   "execution_count": 32,
   "metadata": {},
   "outputs": [],
   "source": [
    "S = families.date_of_first_prior_mean.values"
   ]
  },
  {
   "cell_type": "markdown",
   "metadata": {},
   "source": [
    "##### Ed: Economic degree (node structure)\n",
    "The DataFrame containing all node information `families`, only contains node-attribute information.\\\n",
    "But we need structural properties. These properties are nowhere stored, we need to compute them from the adjacency matrix, which posses the structure of the whole network, and therefore it embeds the structure of each node.\\\n",
    "First, we are interested on the economic degree, then we need the economic (business) adjacency matrix.\\\n",
    "Second, we are interested on the degree of each node (i.e., the number of ties each family has in the economic network), then we use the function `ego_degree` from our `helper` library which takes the adjacency matrix, and returns a vector with the degree of every node."
   ]
  },
  {
   "cell_type": "code",
   "execution_count": 33,
   "metadata": {},
   "outputs": [],
   "source": [
    "Ed = helper.get_ego_hypothesis(adjacency=B,                 # business ties\n",
    "                                ego_fnc=helper.ego_degree,  # function to compute ego-node property\n",
    "                                missing=0)                  # how to deal with missing values (0, np.mean, etc.)"
   ]
  },
  {
   "cell_type": "code",
   "execution_count": 34,
   "metadata": {},
   "outputs": [
    {
     "data": {
      "text/plain": [
       "array([3, 1, 2, 1, 0, 0, 0, 0, 1, 0, 1, 1, 2, 3, 1, 3, 3, 0, 0, 2, 0, 0,\n",
       "       0, 2, 0, 2, 2, 1, 3, 2, 0, 0, 0])"
      ]
     },
     "execution_count": 34,
     "metadata": {},
     "output_type": "execute_result"
    }
   ],
   "source": [
    "# Let's check how the 'node-structure' vector looks like\n",
    "Ed"
   ]
  },
  {
   "cell_type": "markdown",
   "metadata": {},
   "source": [
    "##### Running MRQAP on node-level hypotheses: ego_degree ~ wealth + status\n",
    "Note that for node-level hypotheses, MRQAP requires the parameter `node_regression=True`."
   ]
  },
  {
   "cell_type": "code",
   "execution_count": 35,
   "metadata": {
    "scrolled": true
   },
   "outputs": [],
   "source": [
    "Y = {'ego_degree':Ed}\n",
    "X = {'wealth':Gr, 'status':S}\n",
    "mrqap_obj = MRQAP(Y=Y, X=X, npermutations=10000, standarized=True, node_regression=True, seed=12345)\n",
    "mrqap_obj.mrqap()"
   ]
  },
  {
   "cell_type": "code",
   "execution_count": 36,
   "metadata": {},
   "outputs": [
    {
     "name": "stdout",
     "output_type": "stream",
     "text": [
      "\n",
      "                         ego_degree ~ wealth + status                         \n",
      "==============================================================================\n",
      "   R-Square  Adj. R-Sqr.  Obs.  Perms.  Duration (sec.)\n",
      "0    0.1587       0.1007  32.0   10000              160\n",
      "\n",
      "                           Summary Permutation Test                           \n",
      "==============================================================================\n",
      "\n",
      "              MIN     MAX  MEDIAN    MEAN     STD    BETA    P(+)    P(-)\n",
      "Intercept       0       0       0       0       0       0       0       1\n",
      "wealth    -0.5342  0.6643 -0.0096  -0.001  0.1894 -0.1249  0.7244  0.2756\n",
      "status    -0.6205  0.5902 -0.0003  0.0018   0.191  -0.428  0.9897  0.0103\n"
     ]
    }
   ],
   "source": [
    "mrqap_obj.summary(verbose=False)"
   ]
  },
  {
   "cell_type": "code",
   "execution_count": 37,
   "metadata": {},
   "outputs": [
    {
     "data": {
      "image/png": "[encoded data removed]",
      "text/plain": [
       "<Figure size 864x216 with 4 Axes>"
      ]
     },
     "metadata": {
      "needs_background": "light"
     },
     "output_type": "display_data"
    }
   ],
   "source": [
    "mrqap_obj.plot()"
   ]
  },
  {
   "cell_type": "markdown",
   "metadata": {},
   "source": [
    "*Hypothesis 4.2:\\\n",
    "The larger the **economic density** of a node's neighborhood (more business ties among ego's connections),\\\n",
    "the higher the **gross wealth** and more **active oligarchs** in a family.*"
   ]
  },
  {
   "cell_type": "code",
   "execution_count": 38,
   "metadata": {},
   "outputs": [
    {
     "data": {
      "text/html": [
       "<div>\n",
       "<style scoped>\n",
       "    .dataframe tbody tr th:only-of-type {\n",
       "        vertical-align: middle;\n",
       "    }\n",
       "\n",
       "    .dataframe tbody tr th {\n",
       "        vertical-align: top;\n",
       "    }\n",
       "\n",
       "    .dataframe thead th {\n",
       "        text-align: right;\n",
       "    }\n",
       "</style>\n",
       "<table border=\"1\" class=\"dataframe\">\n",
       "  <thead>\n",
       "    <tr style=\"text-align: right;\">\n",
       "      <th></th>\n",
       "      <th>family_id</th>\n",
       "      <th>family</th>\n",
       "      <th>party_id</th>\n",
       "      <th>gross_wealth_mean</th>\n",
       "      <th>date_of_first_prior_mean</th>\n",
       "      <th>block_size</th>\n",
       "      <th>numbers_active_medici</th>\n",
       "      <th>numbers_active_oligarch</th>\n",
       "      <th>numbers_active_neutral</th>\n",
       "      <th>pos_x</th>\n",
       "      <th>pos_y</th>\n",
       "      <th>partisanship_color</th>\n",
       "      <th>status_color</th>\n",
       "    </tr>\n",
       "  </thead>\n",
       "  <tbody>\n",
       "    <tr>\n",
       "      <th>0</th>\n",
       "      <td>0</td>\n",
       "      <td>MEDICI</td>\n",
       "      <td>0</td>\n",
       "      <td>82702</td>\n",
       "      <td>1318</td>\n",
       "      <td>3</td>\n",
       "      <td>7</td>\n",
       "      <td>0</td>\n",
       "      <td>0</td>\n",
       "      <td>-0.0776</td>\n",
       "      <td>0.0391</td>\n",
       "      <td>#387db8</td>\n",
       "      <td>#b6b6b6</td>\n",
       "    </tr>\n",
       "    <tr>\n",
       "      <th>1</th>\n",
       "      <td>1</td>\n",
       "      <td>TORNABUONI</td>\n",
       "      <td>0</td>\n",
       "      <td>42840</td>\n",
       "      <td>1303</td>\n",
       "      <td>7</td>\n",
       "      <td>8</td>\n",
       "      <td>1</td>\n",
       "      <td>1</td>\n",
       "      <td>0.0776</td>\n",
       "      <td>0.1251</td>\n",
       "      <td>#5c82b0</td>\n",
       "      <td>#d4d4d4</td>\n",
       "    </tr>\n",
       "    <tr>\n",
       "      <th>2</th>\n",
       "      <td>2</td>\n",
       "      <td>GUICCIARDINI</td>\n",
       "      <td>0</td>\n",
       "      <td>40617</td>\n",
       "      <td>1289</td>\n",
       "      <td>5</td>\n",
       "      <td>6</td>\n",
       "      <td>0</td>\n",
       "      <td>0</td>\n",
       "      <td>-0.1761</td>\n",
       "      <td>-0.0705</td>\n",
       "      <td>#387db8</td>\n",
       "      <td>#f1f1f1</td>\n",
       "    </tr>\n",
       "    <tr>\n",
       "      <th>3</th>\n",
       "      <td>3</td>\n",
       "      <td>GINORI</td>\n",
       "      <td>0</td>\n",
       "      <td>21167</td>\n",
       "      <td>1344</td>\n",
       "      <td>2</td>\n",
       "      <td>11</td>\n",
       "      <td>0</td>\n",
       "      <td>0</td>\n",
       "      <td>-0.2381</td>\n",
       "      <td>0.1034</td>\n",
       "      <td>#387db8</td>\n",
       "      <td>#818181</td>\n",
       "    </tr>\n",
       "    <tr>\n",
       "      <th>4</th>\n",
       "      <td>4</td>\n",
       "      <td>DIETISALVI</td>\n",
       "      <td>0</td>\n",
       "      <td>13137</td>\n",
       "      <td>1340</td>\n",
       "      <td>2</td>\n",
       "      <td>3</td>\n",
       "      <td>0</td>\n",
       "      <td>0</td>\n",
       "      <td>-0.4000</td>\n",
       "      <td>0.1282</td>\n",
       "      <td>#387db8</td>\n",
       "      <td>#898989</td>\n",
       "    </tr>\n",
       "  </tbody>\n",
       "</table>\n",
       "</div>"
      ],
      "text/plain": [
       "   family_id        family  party_id  gross_wealth_mean  \\\n",
       "0          0        MEDICI         0              82702   \n",
       "1          1    TORNABUONI         0              42840   \n",
       "2          2  GUICCIARDINI         0              40617   \n",
       "3          3        GINORI         0              21167   \n",
       "4          4    DIETISALVI         0              13137   \n",
       "\n",
       "   date_of_first_prior_mean  block_size  numbers_active_medici  \\\n",
       "0                      1318           3                      7   \n",
       "1                      1303           7                      8   \n",
       "2                      1289           5                      6   \n",
       "3                      1344           2                     11   \n",
       "4                      1340           2                      3   \n",
       "\n",
       "   numbers_active_oligarch  numbers_active_neutral   pos_x   pos_y  \\\n",
       "0                        0                       0 -0.0776  0.0391   \n",
       "1                        1                       1  0.0776  0.1251   \n",
       "2                        0                       0 -0.1761 -0.0705   \n",
       "3                        0                       0 -0.2381  0.1034   \n",
       "4                        0                       0 -0.4000  0.1282   \n",
       "\n",
       "  partisanship_color status_color  \n",
       "0            #387db8      #b6b6b6  \n",
       "1            #5c82b0      #d4d4d4  \n",
       "2            #387db8      #f1f1f1  \n",
       "3            #387db8      #818181  \n",
       "4            #387db8      #898989  "
      ]
     },
     "execution_count": 38,
     "metadata": {},
     "output_type": "execute_result"
    }
   ],
   "source": [
    "# let's recall the nodes' metadata\n",
    "families.head()"
   ]
  },
  {
   "cell_type": "markdown",
   "metadata": {},
   "source": [
    "##### Ao: Number of active oligarchs (node attribute)\n",
    "Same as hypothesis **S (status)**,  we simply need to get the `numbers_active_oligarch` for each family."
   ]
  },
  {
   "cell_type": "code",
   "execution_count": 39,
   "metadata": {},
   "outputs": [],
   "source": [
    "Ao = families.numbers_active_oligarch.values"
   ]
  },
  {
   "cell_type": "markdown",
   "metadata": {},
   "source": [
    "##### Ey: Economic density (node structure)\n",
    "Similar to hypothesis **Ed (Economic degree)**, this is a node-structural hypothesis.\\\n",
    "Thus, we need to calculate a node property from the adjacency matrix.\\\n",
    "In thise case the density of the neighborhood of each node.\\\n",
    "We use the function `ego_density_directed` from our `helper` library."
   ]
  },
  {
   "cell_type": "code",
   "execution_count": 40,
   "metadata": {},
   "outputs": [],
   "source": [
    "Ey = helper.get_ego_hypothesis(adjacency=B,                          # business ties\n",
    "                                ego_fnc=helper.ego_density_directed, # function to compute ego-node property\n",
    "                                missing=0)                           # how to deal with missing values (0, np.mean, etc.)"
   ]
  },
  {
   "cell_type": "markdown",
   "metadata": {},
   "source": [
    "##### Running MRQAP on node-level hypotheses: neighbors_density ~ wealth + status\n",
    "**RECALL:** For node-level hypotheses, MRQAP requires the parameter `node_regression=True`."
   ]
  },
  {
   "cell_type": "code",
   "execution_count": 41,
   "metadata": {},
   "outputs": [],
   "source": [
    "Y = {'neig_density':Ey}\n",
    "X = {'oligarch':Ao, 'status':S}\n",
    "mrqap_obj = MRQAP(Y=Y, X=X, npermutations=10000, standarized=True, node_regression=True, seed=12345)\n",
    "mrqap_obj.mrqap()"
   ]
  },
  {
   "cell_type": "code",
   "execution_count": 42,
   "metadata": {},
   "outputs": [
    {
     "name": "stdout",
     "output_type": "stream",
     "text": [
      "\n",
      "                       neig_density ~ oligarch + status                       \n",
      "==============================================================================\n",
      "   R-Square  Adj. R-Sqr.  Obs.  Perms.  Duration (sec.)\n",
      "0    0.3013       0.2531  32.0   10000              165\n",
      "\n",
      "                           Summary Permutation Test                           \n",
      "==============================================================================\n",
      "\n",
      "              MIN     MAX  MEDIAN    MEAN     STD    BETA    P(+)    P(-)\n",
      "Intercept       0       0       0       0       0       0       1       1\n",
      "oligarch  -0.5519  0.7008 -0.0091 -0.0019  0.1921  0.4762  0.0086  0.9914\n",
      "status     -0.572  0.6841 -0.0017  0.0014  0.1927 -0.1499  0.7763  0.2237\n"
     ]
    }
   ],
   "source": [
    "mrqap_obj.summary(verbose=False)"
   ]
  },
  {
   "cell_type": "code",
   "execution_count": 43,
   "metadata": {},
   "outputs": [
    {
     "data": {
      "image/png": "[encoded data removed]",
      "text/plain": [
       "<Figure size 864x216 with 4 Axes>"
      ]
     },
     "metadata": {
      "needs_background": "light"
     },
     "output_type": "display_data"
    }
   ],
   "source": [
    "mrqap_obj.plot()"
   ]
  }
 ],
 "metadata": {
  "kernelspec": {
   "display_name": "Python 3",
   "language": "python",
   "name": "python3"
  },
  "language_info": {
   "codemirror_mode": {
    "name": "ipython",
    "version": 3
   },
   "file_extension": ".py",
   "mimetype": "text/x-python",
   "name": "python",
   "nbconvert_exporter": "python",
   "pygments_lexer": "ipython3",
   "version": "3.8.3"
  }
 },
 "nbformat": 4,
 "nbformat_minor": 4
}
