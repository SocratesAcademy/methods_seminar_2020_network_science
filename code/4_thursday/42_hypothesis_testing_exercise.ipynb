{
 "cells": [
  {
   "cell_type": "markdown",
   "metadata": {},
   "source": [
    "# Exersice 4.2\n",
    "## QAP & MRQAP\n",
    "---"
   ]
  },
  {
   "cell_type": "markdown",
   "metadata": {},
   "source": [
    "In this exercise you will compute correlations between two networks, and measure significance using permutation test.\\\n",
    "You will work with `directed graphs` as dataframe of edgelists, as well as adjacency matrices as numpy arrays.\\\n",
    "Given the data, *'a social network of the managers of a high-tech company'*, you will learn how to create three types of hypotheses:\\\n",
    "dyadic, mixed monadic-dyadic, and node-level.\\\n",
    "\\\n",
    "At the end of this task, you will know how to interpret regression results as well as the significance from permutation tests.\n",
    "\n",
    "1. Load the Krackhardt dataset (get to know the data!).\n",
    " - Compare data description file with actual data.\n",
    "\n",
    "\n",
    "2. Practice QAP with dyadic hypotheses.\n",
    " - Create dyad-level hypotheses.\n",
    " - Run a correlation test between two variables, and check its significance using permutation test!\n",
    "\n",
    "\n",
    "3. Practice MRQAP with dyadic hypotheses.\n",
    " - Create dyad-level hypotheses.\n",
    " - Build a linear regression model, and check the significance of each ind. variable using permutation test!\n",
    "\n",
    "\n",
    "4. Practice QAP with mixed monadic-dyadic hypotheses.\n",
    " - Create monadic-level and dyad-level hypotheses.\n",
    " - Run a correlation test between two variables, and check its significance using permutation test!\n",
    "\n",
    "\n",
    "5. Practice MRQAP with mixed monadic-dyadic hypotheses.\n",
    " - Create monadic-level and dyad-level hypotheses.\n",
    " - Build a linear regression model, and check the significance of each ind. variable using permutation test!\n",
    "\n",
    "\n",
    "6. Practice MRQAP with node-level hypotheses.\n",
    " - Create node-level (node structure, node attribute) hypotheses.\n",
    " - Build a linear regression model, and check the significance of each ind. variable using permutation test!\n",
    " "
   ]
  },
  {
   "cell_type": "markdown",
   "metadata": {},
   "source": [
    "---\n",
    "## QUIZ\n",
    "*Get to know the data from the '**description file**'!*\\\n",
    "Open the file `data/krackhardt/README.md` and read the description of this dataset.\n",
    "\n",
    " \n",
    "- What type of network do we have? monolayer or multilayer?\n",
    "- Is the network directed or undirected?\n",
    "- How many layers? nodes? and total edges?"
   ]
  },
  {
   "cell_type": "markdown",
   "metadata": {},
   "source": [
    "---\n",
    "## Task #1\n",
    "#### Load the data!\n",
    "Load the multilayer network, and nodes' metadata.\n",
    "\n",
    "---"
   ]
  },
  {
   "cell_type": "markdown",
   "metadata": {},
   "source": [
    "#### Dependencies (libraries)\n",
    "Import here all necessary python packages"
   ]
  },
  {
   "cell_type": "code",
   "execution_count": null,
   "metadata": {},
   "outputs": [],
   "source": [
    "#### Dependencies\n",
    "import ... as pd"
   ]
  },
  {
   "cell_type": "code",
   "execution_count": null,
   "metadata": {},
   "outputs": [],
   "source": [
    "#### Local dependencies\n",
    "# %load_ext autoreload\n",
    "# %autoreload 2\n",
    "    \n",
    "import sys\n",
    "sys.path.append('../libs/')\n",
    "\n",
    "from ... import QAP\n",
    "from ... import MRQAP\n",
    "import hel..."
   ]
  },
  {
   "cell_type": "markdown",
   "metadata": {},
   "source": [
    "#### Loading network\n",
    "The datasets for this exercise are in `data/krackhardt/`."
   ]
  },
  {
   "cell_type": "markdown",
   "metadata": {},
   "source": [
    "Load nodes' metadata, and store in `nodes` the node ids."
   ]
  },
  {
   "cell_type": "code",
   "execution_count": null,
   "metadata": {},
   "outputs": [],
   "source": [
    "# read file containing node attributes\n",
    "nodes_metadata = pd.read_csv(\"../../data/krackhardt/<filename>\", index_col=None, header=0, sep=' ')\n",
    "nodes_metadata.head()"
   ]
  },
  {
   "cell_type": "code",
   "execution_count": null,
   "metadata": {},
   "outputs": [],
   "source": [
    "nodes = nodes_metadata.nodeID"
   ]
  },
  {
   "cell_type": "markdown",
   "metadata": {},
   "source": [
    "Load the *Krackhardt* multilayer network as a DataFrame, and rename the columns accordingly.\\\n",
    "Make sure you know which column refers to `source`, `target`, `layer`, and `weight`.\\\n",
    "**HINT**: *Check the 'description file' to know what the format of the file is (what each column represent)*"
   ]
  },
  {
   "cell_type": "code",
   "execution_count": null,
   "metadata": {},
   "outputs": [],
   "source": [
    "# read file containing multilayer network\n",
    "df_edges = pd.read_csv(...)\n",
    "df_edges.rename(columns={0:..., 1:..., 2:..., 3:...}, inplace=True) # inplace = True, so the changes are effective \n",
    "                                                                    # in the same DataFrame\n",
    "df_edges.head()"
   ]
  },
  {
   "cell_type": "markdown",
   "metadata": {},
   "source": [
    "Load layers' metadata (labels).\\\n",
    "*HINT: The multilayer you just loaded identifies each layer as 1,2,3. But what are those numbers? Let's understand these layers.*"
   ]
  },
  {
   "cell_type": "code",
   "execution_count": null,
   "metadata": {
    "scrolled": true
   },
   "outputs": [],
   "source": [
    "# read file containing layer metadata (labels)\n",
    "layers = pd.read_csv(..., index_col=None, header=0, sep=' ')\n",
    "layers"
   ]
  },
  {
   "cell_type": "markdown",
   "metadata": {},
   "source": [
    "---\n",
    "## QUIZ\n",
    "*Get to know your data from a DataFrame.*\\\n",
    "Using the DataFrames you loaded before, write the necessary code to answer the following questions:\n",
    "1. How many edges does this network have?\n",
    "2. How many unique nodes?\n",
    "3. How many layers?\n",
    "4. What is the sum of edge-weights per layer?\n",
    "\n",
    "Are these numbers matching the numbers reported in the *description file*?\\\n",
    "\\\n",
    "*HINT 1: You can ask for the `shape` of the DataFrame containing the edges (remember, it has rows referring to each edge) and columns (edge-attributes)*\\\n",
    "*HINT 2: You can ask for the `shape` of the DataFrame containing the nodes (remember, it has rows referring to each node) and columns (node-attributes)*\\\n",
    "*HINT 3: The DataFrame containing the edges posses a column referring to the layer id (you actually gave it a particular name). Is there a function in pandas to get the number of unique values from a column? (you can ask Google).*\\\n",
    "*HINT 4: What about using a `groupby` in the DataFrame containing the edges? What should you group-by then? After grouping by, which function should you call to get the summation over the edge weights?*"
   ]
  },
  {
   "cell_type": "code",
   "execution_count": null,
   "metadata": {},
   "outputs": [],
   "source": [
    "# number of edges\n",
    "m = ...\n",
    "print('Number of edges: {}'.format(m))\n",
    "\n",
    "# number of nodes\n",
    "n = ...\n",
    "print('Number of nodes: {}'.format(n))\n",
    "\n",
    "# number of layers\n",
    "l = ...\n",
    "print('Number of layers: {}'.format(l))\n",
    "\n",
    "# sum of weights per layer, and overall\n",
    "sewl = ...\n",
    "print('Sum of all edge-weights: {}'.format(sewl.sum()))\n",
    "print('\\nSum of edge-weights per layer:\\n {}'.format(sewl))"
   ]
  },
  {
   "cell_type": "markdown",
   "metadata": {},
   "source": [
    "---\n",
    "## Task #2\n",
    "#### Practice QAP with dyadic hypotheses.\n",
    "\n",
    "Find the correlation between two of the available variables (layers).\\\n",
    "How significant is this value?\\\n",
    "How would you interpret this result?\n",
    "\n",
    "---"
   ]
  },
  {
   "cell_type": "markdown",
   "metadata": {},
   "source": [
    "#### Adjacency matrices\n",
    "Extract each layer separately from the multilayer DataFrame.\\\n",
    "\\\n",
    "*HINT 1: Are the networks directed or undirected? Chech it out in the 'description' file.*\\\n",
    "*HINT 2: You need the adjacency matrices of each layer. So, you can either use one of the methods we learnt on Monday on how to convert pandas edgelist to networkx graph, and then to adjacency matrix, or you can simply use the helper function `get_adjacency_from_pandas_weighted_edgelist(...)` from the `helper` library (see the demo notebook).*"
   ]
  },
  {
   "cell_type": "code",
   "execution_count": null,
   "metadata": {},
   "outputs": [],
   "source": [
    "# Advice (layer=1)\n",
    "tmp = df_edges...[['source','target','weight']]\n",
    "A = helper.get_adjacency_from_pandas_weighted_edgelist(df=...,\n",
    "                                                       nodes_order=...,\n",
    "                                                       directed=...)\n",
    "\n",
    "A.shape, A.min(), A.max(), A.sum()"
   ]
  },
  {
   "cell_type": "code",
   "execution_count": null,
   "metadata": {},
   "outputs": [],
   "source": [
    "# Let's check how the adjacency matrix looks like.\n",
    "A"
   ]
  },
  {
   "cell_type": "code",
   "execution_count": null,
   "metadata": {},
   "outputs": [],
   "source": [
    "# Friendship (layer=2)\n",
    "tmp = ...\n",
    "F = helper.get_adjacency_from_pandas_weighted_edgelist(df=...,\n",
    "                                                       nodes_order=...,\n",
    "                                                       directed=...)\n",
    "F.shape, F.min(), F.max(), F.sum()"
   ]
  },
  {
   "cell_type": "markdown",
   "metadata": {},
   "source": [
    "#### QAP: advice vs. friendship"
   ]
  },
  {
   "cell_type": "code",
   "execution_count": null,
   "metadata": {},
   "outputs": [],
   "source": [
    "# Run QAP\n",
    "qap_obj = QAP(Y=..., X=..., npermutations=..., seed=...)\n",
    "qap_obj...\n",
    "qap_obj..."
   ]
  },
  {
   "cell_type": "code",
   "execution_count": null,
   "metadata": {},
   "outputs": [],
   "source": [
    "# Plot distribution of correlation scores (permutation test)\n",
    "qap_obj..."
   ]
  },
  {
   "cell_type": "markdown",
   "metadata": {},
   "source": [
    "---\n",
    "# Task 3\n",
    "#### Practice MRQAP with dyadic hypotheses.\n",
    "Your dependent variable is 'Advice'.\\\n",
    "How significant are the regression coefficients (for friendship and report) with respect to the dependent variable?\\\n",
    "How would you interpret these results?\\\n",
    "\\\n",
    "*HINT 1: Get the adjacency matrix of the layer 'reports_to'*\\\n",
    "*HINT 2: What is Y? and What is X?*\n",
    "\n",
    "---"
   ]
  },
  {
   "cell_type": "code",
   "execution_count": null,
   "metadata": {},
   "outputs": [],
   "source": [
    "# Report (layer=3)\n",
    "tmp = ...\n",
    "R = ...\n",
    "R.shape, R.min(), R.max(), R.sum()"
   ]
  },
  {
   "cell_type": "code",
   "execution_count": null,
   "metadata": {},
   "outputs": [],
   "source": [
    "# MRQAP\n",
    "Y = {'advice':...}\n",
    "X = {'friendship':..., 'report':...}\n",
    "mrqap_obj = MRQAP(Y=..., X=..., npermutations=..., standarized=..., seed=...)\n",
    "mrqap_obj..."
   ]
  },
  {
   "cell_type": "code",
   "execution_count": null,
   "metadata": {},
   "outputs": [],
   "source": [
    "# Print MRQAP summary\n",
    "mrqap_obj..."
   ]
  },
  {
   "cell_type": "code",
   "execution_count": null,
   "metadata": {},
   "outputs": [],
   "source": [
    "# Plot distribution of coefficients (permutation test)\n",
    "mrqap_obj..."
   ]
  },
  {
   "cell_type": "markdown",
   "metadata": {},
   "source": [
    "---\n",
    "# Task 4\n",
    "#### Practice QAP with mixed dyadic-monadic hypotheses.\n",
    "\n",
    "*Hypothesis:*\\\n",
    "*People tend to **report** to people who are **older** than themselves.*\n",
    "\n",
    "Find the correlation between 'reports' (dyad) and 'difference in age' (monadic) variables between people.\\\n",
    "How significant is this value?\\\n",
    "How would you interpret this result?\\\n",
    "\\\n",
    "*HINT 1: Use `helper.get_monadic_hypothesis` to obtain a node-by-node matrix using the `nodeAge` attribute.*\\\n",
    "*HINT 2: If 'source' node reports to 'target' node, that means that (according to the hypothesis) 'target' must be older than 'source'.*\\\n",
    "*HINT 3: Your 'comparison_function' must give higher scores to cases when 'age_target > age_source'.*\\\n",
    "*HINT 4: What about doing a substraction? `age_target - age_source`? or `age_source - age_target`?*\n",
    "\n",
    "---"
   ]
  },
  {
   "cell_type": "code",
   "execution_count": null,
   "metadata": {},
   "outputs": [],
   "source": [
    "# Create monadic-hypothesis (target is older than source)\n",
    "O = helper.get_monadic_hypothesis(df=..., \n",
    "                                  keyid=..., \n",
    "                                  attribute=..., \n",
    "                                  comparison_fnc=helper...., \n",
    "                                  symmetric=False,\n",
    "                                  keyorder=...)\n",
    "\n",
    "O.shape, O.min(), O.max(), O.sum()"
   ]
  },
  {
   "cell_type": "code",
   "execution_count": null,
   "metadata": {},
   "outputs": [],
   "source": [
    "# Let's check how the monadic matrix looks like.\n",
    "pd.DataFrame(O).head()"
   ]
  },
  {
   "cell_type": "code",
   "execution_count": null,
   "metadata": {},
   "outputs": [],
   "source": [
    "# Run QAP\n",
    "qap_obj = QAP(Y=..., X=..., npermutations=..., seed=...)\n",
    "qap_obj.qap()\n",
    "qap_obj.summary()"
   ]
  },
  {
   "cell_type": "code",
   "execution_count": null,
   "metadata": {},
   "outputs": [],
   "source": [
    "# Plot distribution of correlation scores (permutation test)\n",
    "qap_obj..."
   ]
  },
  {
   "cell_type": "markdown",
   "metadata": {},
   "source": [
    "---\n",
    "# Task 5\n",
    "#### Practice MRQAP with mixed dyadic-monadic hypotheses.\n",
    "\n",
    "*Hypothesis:*\\\n",
    "*People (regardless of their age) are more likely to **report** to **older people** who belong to the **same department** and are in **different levels** of hierarchy.*\\\n",
    "\\\n",
    "*HINT 1: Be careful! The monadic hypothesis related to 'nodeAge' in this task is different from the one in task 4.*\\\n",
    "*HINT 2: You just need to use another 'comparison_function'. What about `compare_target_value`?*\n",
    "\n",
    "---"
   ]
  },
  {
   "cell_type": "code",
   "execution_count": null,
   "metadata": {},
   "outputs": [],
   "source": [
    "# Create monadic-hypothesis (the older the target node/person, the more likely to get reports from source node-person)\n",
    "P = helper.get_monadic_hypothesis(df=..., \n",
    "                                  keyid=..., \n",
    "                                  attribute=..., \n",
    "                                  comparison_fnc=helper...., \n",
    "                                  symmetric=False,\n",
    "                                  keyorder=...)\n",
    "\n",
    "P.shape, P.min(), P.max(), P.sum()"
   ]
  },
  {
   "cell_type": "code",
   "execution_count": null,
   "metadata": {},
   "outputs": [],
   "source": [
    "# Let's check how the monadic matrix looks like.\n",
    "pd.DataFrame(P).head()"
   ]
  },
  {
   "cell_type": "code",
   "execution_count": null,
   "metadata": {},
   "outputs": [],
   "source": [
    "# Create monadic-hypothesis (same department)\n",
    "D = helper.get_monadic_hypothesis(df=..., \n",
    "                                  keyid=..., \n",
    "                                  attribute=..., \n",
    "                                  comparison_fnc=helper..., \n",
    "                                  symmetric=True,\n",
    "                                  keyorder=...)\n",
    "\n",
    "D.shape, D.min(), D.max(), D.sum()"
   ]
  },
  {
   "cell_type": "code",
   "execution_count": null,
   "metadata": {},
   "outputs": [],
   "source": [
    "# Create monadic-hypothesis (different level)\n",
    "L = helper.get_monadic_hypothesis(df=..., \n",
    "                                  keyid=..., \n",
    "                                  attribute=..., \n",
    "                                  comparison_fnc=..., \n",
    "                                  symmetric=True,\n",
    "                                  keyorder=...)\n",
    "\n",
    "L.shape, L.min(), L.max(), L.sum()"
   ]
  },
  {
   "cell_type": "code",
   "execution_count": null,
   "metadata": {},
   "outputs": [],
   "source": [
    "# Run MRQAP\n",
    "Y = ...\n",
    "X = ...\n",
    "mrqap_obj = MRQAP(...)\n",
    "mrqap_obj..."
   ]
  },
  {
   "cell_type": "code",
   "execution_count": null,
   "metadata": {},
   "outputs": [],
   "source": [
    "# Print summary of MRQAP\n",
    "..."
   ]
  },
  {
   "cell_type": "code",
   "execution_count": null,
   "metadata": {},
   "outputs": [],
   "source": [
    "# Plot distribution of coefficients (permutation test)\n",
    "..."
   ]
  },
  {
   "cell_type": "markdown",
   "metadata": {},
   "source": [
    "---\n",
    "# Task 6\n",
    "#### Practice MRQAP with node-level hypotheses.\n",
    "\n",
    "*Hypothesis:*\\\n",
    "*People's **PageRank** in the **reports_to** network can be explained by **tenure** and **level**.*\\\n",
    "\\\n",
    "*HINT 1: Recall that PageRank measures importance of nodes in a network. This is a node-structure property.*\\\n",
    "*HINT 2: Check in `code/libs/helper.py` if there is a function for `ego` that computes `pagerank`.*\\\n",
    "*HINT 3: We are testing a node-level hypothesis. What is the new parameter that `MRQAP` needs?*\\\n",
    "*HINT 4: Where did you store the node-attributes? Check task 1.*\n",
    "\n",
    "What is your guess? How significant results will be?\n",
    "\n",
    "---"
   ]
  },
  {
   "cell_type": "code",
   "execution_count": null,
   "metadata": {},
   "outputs": [],
   "source": [
    "# Create node-level (structural) hypothesis: PageRank of node\n",
    "PR = helper.get_ego_hypothesis(adjacency=..., \n",
    "                               ego_fnc=helper...,\n",
    "                               missing=0)\n",
    "\n",
    "PR.shape, PR.min(), PR.max(), PR.sum(), PR"
   ]
  },
  {
   "cell_type": "code",
   "execution_count": null,
   "metadata": {},
   "outputs": [],
   "source": [
    "# Create node-level (attribute) hypothesis: tenure\n",
    "T = ...\n",
    "T.shape, T.min(), T.max(), T.sum(), T"
   ]
  },
  {
   "cell_type": "code",
   "execution_count": null,
   "metadata": {},
   "outputs": [],
   "source": [
    "# Create node-level (attribute) hypothesis: level\n",
    "V = ...\n",
    "V.shape, V.min(), V.max(), V.sum()"
   ]
  },
  {
   "cell_type": "code",
   "execution_count": null,
   "metadata": {
    "scrolled": true
   },
   "outputs": [],
   "source": [
    "# Run MRQAP\n",
    "Y = ...\n",
    "X = ...\n",
    "mrqap_obj = MRQAP(...)\n",
    "mrqap_obj.mrqap()"
   ]
  },
  {
   "cell_type": "code",
   "execution_count": null,
   "metadata": {},
   "outputs": [],
   "source": [
    "# Print MRQAP summary\n",
    "..."
   ]
  },
  {
   "cell_type": "code",
   "execution_count": null,
   "metadata": {},
   "outputs": [],
   "source": [
    "# Plot distribution of coefficients (permutation test)\n",
    "..."
   ]
  }
 ],
 "metadata": {
  "kernelspec": {
   "display_name": "Python 3",
   "language": "python",
   "name": "python3"
  },
  "language_info": {
   "codemirror_mode": {
    "name": "ipython",
    "version": 3
   },
   "file_extension": ".py",
   "mimetype": "text/x-python",
   "name": "python",
   "nbconvert_exporter": "python",
   "pygments_lexer": "ipython3",
   "version": "3.8.3"
  }
 },
 "nbformat": 4,
 "nbformat_minor": 4
}
