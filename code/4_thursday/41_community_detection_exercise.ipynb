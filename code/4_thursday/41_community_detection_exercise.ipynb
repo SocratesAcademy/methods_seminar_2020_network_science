{
 "cells": [
  {
   "cell_type": "markdown",
   "metadata": {},
   "source": [
    "### 1st Virtual Methods Seminar: Methods of Computational Social Science\n",
    "## Introduction to Social Network Science with Python\n",
    "# Community Detection - Exercise 4.1\n",
    "Instructors: Haiko Lietz & Lisette Espín Noboa\n",
    "\n",
    "Date: September 24, 2020\n",
    "## Packages"
   ]
  },
  {
   "cell_type": "code",
   "execution_count": null,
   "metadata": {},
   "outputs": [],
   "source": [
    "import sys\n",
    "libs_path = '../libs/'\n",
    "sys.path.append(libs_path)\n",
    "import compsoc as cs"
   ]
  },
  {
   "cell_type": "code",
   "execution_count": null,
   "metadata": {},
   "outputs": [],
   "source": [
    "import matplotlib.pyplot as plt\n",
    "import networkx as nx\n",
    "import pandas as pd"
   ]
  },
  {
   "cell_type": "code",
   "execution_count": null,
   "metadata": {},
   "outputs": [],
   "source": [
    "import community as louvain"
   ]
  },
  {
   "cell_type": "markdown",
   "metadata": {},
   "source": [
    "## Introduction\n",
    "In this exercise, we will again look at the Copenhagen Networks Study collection to study community detection. Load the dataset using the `copenhagen_collection()` function:"
   ]
  },
  {
   "cell_type": "code",
   "execution_count": null,
   "metadata": {},
   "outputs": [],
   "source": [
    "users, genders, bluetooth, calls, sms, facebook_friends = cs.copenhagen_collection(path='../../data/copenhagen/')"
   ]
  },
  {
   "cell_type": "markdown",
   "metadata": {},
   "source": [
    "We use the same networks as in the `32_cohesion_exercise notebook`. For the `bluetooth` data, we sum up the signal strengths and remove signals with zero strength:"
   ]
  },
  {
   "cell_type": "code",
   "execution_count": null,
   "metadata": {},
   "outputs": [],
   "source": [
    "bluetooth = bluetooth[['user_id_from', 'user_id_to', 'strength']].groupby(['user_id_from', 'user_id_to']).sum().reset_index()\n",
    "bluetooth = bluetooth[bluetooth['strength'] > 0]"
   ]
  },
  {
   "cell_type": "markdown",
   "metadata": {},
   "source": [
    "The `facebook_friends` dataframe needs a unit weight so the dataframe meets the data format expectations:"
   ]
  },
  {
   "cell_type": "code",
   "execution_count": null,
   "metadata": {},
   "outputs": [],
   "source": [
    "facebook_friends['weight'] = 1"
   ]
  },
  {
   "cell_type": "markdown",
   "metadata": {},
   "source": [
    "## Exercise 1\n",
    "Study this **bluetooth** graph:"
   ]
  },
  {
   "cell_type": "code",
   "execution_count": null,
   "metadata": {},
   "outputs": [],
   "source": [
    "# construct graph\n",
    "G = cs.construct_graph(\n",
    "    directed=False, \n",
    "    multiplex=False, \n",
    "    graph_name='co_proximity', \n",
    "    node_list=users, \n",
    "    edge_list=bluetooth[bluetooth['strength'] > 500]\n",
    ")\n",
    "\n",
    "# extract the largest connected component and create a layout\n",
    "G = G.subgraph(max(nx.connected_components(G), key=len))\n",
    "vp_node_pos_bluetooth = nx.spring_layout(G, seed=0)\n",
    "\n",
    "# draw graph\n",
    "cs.draw_graph(\n",
    "    G, \n",
    "    node_pos=vp_node_pos_bluetooth, \n",
    "    edge_width_factor=.0001, \n",
    "    edge_transparency=.5, \n",
    "    figsize='large'\n",
    ")"
   ]
  },
  {
   "cell_type": "markdown",
   "metadata": {},
   "source": [
    "Explore how to call the different community detection methods and how they behave. Check the effect of edge weights and the resolution parameter if available.\n",
    "## Solution 1"
   ]
  },
  {
   "cell_type": "code",
   "execution_count": null,
   "metadata": {},
   "outputs": [],
   "source": []
  },
  {
   "cell_type": "markdown",
   "metadata": {},
   "source": [
    "## Exercise 2\n",
    "Study the **facebook-friends** graph:"
   ]
  },
  {
   "cell_type": "code",
   "execution_count": null,
   "metadata": {},
   "outputs": [],
   "source": [
    "# construct graph\n",
    "H = cs.construct_graph(\n",
    "    directed=False, \n",
    "    multiplex=False, \n",
    "    graph_name='facebook_friends', \n",
    "    node_list=users, \n",
    "    edge_list=facebook_friends, \n",
    "    node_label='user'\n",
    ")\n",
    "\n",
    "# remove self-loops, extract the largest connected component, and create a layout\n",
    "H.remove_edges_from(nx.selfloop_edges(H))\n",
    "H = H.subgraph(max(nx.connected_components(H), key=len))\n",
    "vp_node_pos_facebook_friends = nx.spring_layout(H, seed=0)\n",
    "\n",
    "# draw graph\n",
    "cs.draw_graph(\n",
    "    H, \n",
    "    node_pos=vp_node_pos_facebook_friends, \n",
    "    edge_width_factor=.25, \n",
    "    figsize='large'\n",
    ")"
   ]
  },
  {
   "cell_type": "markdown",
   "metadata": {},
   "source": [
    "We have already seen that this graph has a marked core/periphery structure. How does Louvain community detection behave on such a graph?\n",
    "## Solution 2"
   ]
  },
  {
   "cell_type": "code",
   "execution_count": null,
   "metadata": {},
   "outputs": [],
   "source": []
  }
 ],
 "metadata": {
  "kernelspec": {
   "display_name": "Python 3",
   "language": "python",
   "name": "python3"
  },
  "language_info": {
   "codemirror_mode": {
    "name": "ipython",
    "version": 3
   },
   "file_extension": ".py",
   "mimetype": "text/x-python",
   "name": "python",
   "nbconvert_exporter": "python",
   "pygments_lexer": "ipython3",
   "version": "3.8.3"
  }
 },
 "nbformat": 4,
 "nbformat_minor": 4
}
