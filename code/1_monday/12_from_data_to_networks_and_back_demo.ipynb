{
 "cells": [
  {
   "cell_type": "markdown",
   "metadata": {},
   "source": [
    "# From Data to Networks and Back (Demo)\n",
    "\n",
    "In this section, you will learn about types of networks, and  how to load/export networks from/to files and other data types.\n",
    "\n",
    "-----\n"
   ]
  },
  {
   "cell_type": "code",
   "execution_count": 1,
   "metadata": {},
   "outputs": [],
   "source": [
    "#### Dependencies\n",
    "import networkx as nx"
   ]
  },
  {
   "cell_type": "markdown",
   "metadata": {},
   "source": [
    "---\n",
    "## 1. Attributed Networks"
   ]
  },
  {
   "cell_type": "markdown",
   "metadata": {},
   "source": [
    "#### Graph attributes"
   ]
  },
  {
   "cell_type": "code",
   "execution_count": 2,
   "metadata": {},
   "outputs": [
    {
     "name": "stdout",
     "output_type": "stream",
     "text": [
      "{}\n",
      "{'name': 'Toy example'}\n"
     ]
    }
   ],
   "source": [
    "G = nx.Graph()\n",
    "\n",
    "# look-up graph attributes (empty)\n",
    "print(G.graph)\n",
    "\n",
    "# adding a graph attribute\n",
    "G.graph['name'] = 'Toy example'\n",
    "print(G.graph)"
   ]
  },
  {
   "cell_type": "markdown",
   "metadata": {},
   "source": [
    "#### Node attributes"
   ]
  },
  {
   "cell_type": "code",
   "execution_count": 3,
   "metadata": {},
   "outputs": [
    {
     "name": "stdout",
     "output_type": "stream",
     "text": [
      "[('a', {}), ('b', {}), ('c', {})]\n"
     ]
    }
   ],
   "source": [
    "# adding some nodes\n",
    "nodes = ['a','b','c']\n",
    "G.add_nodes_from(nodes)\n",
    "\n",
    "# look-up node attributes (empty)\n",
    "print(G.nodes(data=True))"
   ]
  },
  {
   "cell_type": "code",
   "execution_count": 4,
   "metadata": {},
   "outputs": [
    {
     "name": "stdout",
     "output_type": "stream",
     "text": [
      "a {'color': 'orange', 'size': 100}\n",
      "b {'color': 'green', 'size': 50}\n",
      "c {'color': 'blue', 'size': 10}\n"
     ]
    }
   ],
   "source": [
    "# adding multiple attributes to all nodes\n",
    "values = {'a':{'color':'orange','size':100},\n",
    "          'b':{'color':'green','size':50},\n",
    "          'c':{'color':'blue','size':10}}\n",
    "nx.set_node_attributes(G, values)\n",
    "\n",
    "# look-up node attributes\n",
    "for n,obj in G.nodes(data=True):\n",
    "    print(n, obj)"
   ]
  },
  {
   "cell_type": "code",
   "execution_count": 5,
   "metadata": {},
   "outputs": [
    {
     "name": "stdout",
     "output_type": "stream",
     "text": [
      "a {'color': 'orange', 'size': 100, 'textcolor': 'white'}\n",
      "b {'color': 'green', 'size': 50, 'textcolor': 'black'}\n",
      "c {'color': 'blue', 'size': 10, 'textcolor': 'white'}\n"
     ]
    }
   ],
   "source": [
    "# add one attribute to all nodes\n",
    "values = {'a':'white',\n",
    "          'b':'black',\n",
    "          'c':'white'}\n",
    "nx.set_node_attributes(G, values=values, name='textcolor')\n",
    "\n",
    "# look-up node attributes\n",
    "for n,obj in G.nodes(data=True):\n",
    "    print(n, obj)"
   ]
  },
  {
   "cell_type": "markdown",
   "metadata": {},
   "source": [
    "#### Edge attributes"
   ]
  },
  {
   "cell_type": "code",
   "execution_count": 6,
   "metadata": {},
   "outputs": [
    {
     "name": "stdout",
     "output_type": "stream",
     "text": [
      "[('a', 'b', {}), ('a', 'c', {}), ('b', 'c', {})]\n"
     ]
    }
   ],
   "source": [
    "# adding some edges\n",
    "edges = [('a', 'b'), ('b', 'c'), ('a', 'c')]\n",
    "G.add_edges_from(edges)\n",
    "\n",
    "# look-up edge attributes (empty)\n",
    "print(G.edges(data=True))"
   ]
  },
  {
   "cell_type": "code",
   "execution_count": 7,
   "metadata": {},
   "outputs": [
    {
     "name": "stdout",
     "output_type": "stream",
     "text": [
      "a b {'w': 5}\n",
      "a c {'w': 10}\n",
      "b c {'w': 1}\n"
     ]
    }
   ],
   "source": [
    "# adding (multiple) attributes/values to all edges\n",
    "values = {('a','b'):{'w':5},\n",
    "          ('b','c'):{'w':1},\n",
    "          ('c','a'):{'w':10}}\n",
    "nx.set_edge_attributes(G, values)\n",
    "\n",
    "# look-up edge attributes (data=True) \n",
    "for s,t,obj in G.edges(data=True):\n",
    "    print(s,t,obj)"
   ]
  },
  {
   "cell_type": "code",
   "execution_count": 8,
   "metadata": {},
   "outputs": [
    {
     "name": "stdout",
     "output_type": "stream",
     "text": [
      "a b {'w': 5, 'color': 'black'}\n",
      "a c {'w': 10, 'color': 'black'}\n",
      "b c {'w': 1, 'color': 'black'}\n"
     ]
    }
   ],
   "source": [
    "# add one attribute/value to all edges\n",
    "values = {('a','b'):'black',\n",
    "          ('b','c'):'black',\n",
    "          ('c','a'):'black'}\n",
    "nx.set_edge_attributes(G, values=values, name='color')\n",
    "\n",
    "# look-up edge attributes (data=True) \n",
    "for s,t,obj in G.edges(data=True):\n",
    "    print(s,t,obj)"
   ]
  },
  {
   "cell_type": "code",
   "execution_count": 9,
   "metadata": {},
   "outputs": [
    {
     "name": "stdout",
     "output_type": "stream",
     "text": [
      "a b {'w': 5, 'color': 'black'}\n",
      "a c {'w': 10, 'color': 'black'}\n",
      "a d {'w': 0}\n",
      "b c {'w': 1, 'color': 'black'}\n",
      "b d {'w': 0}\n"
     ]
    }
   ],
   "source": [
    "# add the \"same attribute and value\" to some/all edges\n",
    "G.add_edges_from([('a', 'd'), ('b', 'd')], w=0)\n",
    "\n",
    "# look-up edge attributes (data=True) \n",
    "for s,t,obj in G.edges(data=True):\n",
    "    print(s,t,obj)"
   ]
  },
  {
   "cell_type": "markdown",
   "metadata": {},
   "source": [
    "---\n",
    "## 2. Types of Networks"
   ]
  },
  {
   "cell_type": "markdown",
   "metadata": {},
   "source": [
    "#### Undirected Networks\n",
    "Graphs consisting of nodes, and undirected edges."
   ]
  },
  {
   "cell_type": "code",
   "execution_count": 10,
   "metadata": {},
   "outputs": [
    {
     "name": "stdout",
     "output_type": "stream",
     "text": [
      "Name: \n",
      "Type: Graph\n",
      "Number of nodes: 3\n",
      "Number of edges: 2\n",
      "Average degree:   1.3333\n",
      "['a', 'b', 'c']\n",
      "[('a', 'b'), ('b', 'c')]\n"
     ]
    }
   ],
   "source": [
    "# constructor\n",
    "G = nx.Graph()\n",
    "\n",
    "# adding some nodes\n",
    "G.add_node('a')\n",
    "G.add_node('b')\n",
    "G.add_node('c')\n",
    "\n",
    "# adding some edges\n",
    "G.add_edge('a','b')\n",
    "G.add_edge('b','c')\n",
    "G.add_edge('b','a') # as an undirected network, this is redundant.\n",
    "                    # (b,a) won't be added, because (a,b) already exists.\n",
    "\n",
    "# info\n",
    "print(nx.info(G))\n",
    "print(G.nodes())\n",
    "print(G.edges())"
   ]
  },
  {
   "cell_type": "markdown",
   "metadata": {},
   "source": [
    "#### Directed Networks\n",
    "Graphs consisting of nodes, and directed edges."
   ]
  },
  {
   "cell_type": "code",
   "execution_count": 11,
   "metadata": {},
   "outputs": [
    {
     "name": "stdout",
     "output_type": "stream",
     "text": [
      "Name: \n",
      "Type: DiGraph\n",
      "Number of nodes: 3\n",
      "Number of edges: 3\n",
      "Average in degree:   1.0000\n",
      "Average out degree:   1.0000\n",
      "['a', 'b', 'c']\n",
      "[('a', 'b'), ('b', 'c'), ('b', 'a')]\n"
     ]
    }
   ],
   "source": [
    "# constructor\n",
    "G = nx.DiGraph()\n",
    "\n",
    "# adding some edges (and nodes by default)\n",
    "G.add_edge('a','b')\n",
    "G.add_edge('b','c')\n",
    "G.add_edge('b','a') # in this case, (b,a) is NOT redundant and it will be added!\n",
    "\n",
    "# adding some nodes (not necessary if edges are added first)\n",
    "# G.add_node('a')\n",
    "# G.add_node('b')\n",
    "# G.add_node('c')\n",
    "\n",
    "# info\n",
    "print(nx.info(G))\n",
    "print(G.nodes())\n",
    "print(G.edges())"
   ]
  },
  {
   "cell_type": "markdown",
   "metadata": {},
   "source": [
    "#### MultiGraphs\n",
    "Graphs consisting of nodes, and multiple undirected edges between the same pair/tuple of nodes (u,v).\\\n",
    "The key of MultiGraphs lies on the layer ID, referred as \"key\" in networkx.\n",
    "- The \"key\" value of an edge, can be assigned explicitly as a triple: (u,v,k), where u (source) and v (target) are nodes, and k the key or layer ID.\n",
    "- Implicitly, every time the same edge is added, the \"key\" value increases its number sequentially. It starts from 0."
   ]
  },
  {
   "cell_type": "code",
   "execution_count": 12,
   "metadata": {},
   "outputs": [
    {
     "name": "stdout",
     "output_type": "stream",
     "text": [
      "Name: \n",
      "Type: MultiGraph\n",
      "Number of nodes: 2\n",
      "Number of edges: 4\n",
      "Average degree:   4.0000\n",
      "['a', 'b']\n",
      "\n",
      "a b 0 {'distance': 100, 'time': 10}\n",
      "a b 1 {'distance': 100, 'time': 10}\n",
      "a b 2 {'distance': 200, 'time': 20}\n",
      "a b L2 {'distance': 200, 'time': 10}\n"
     ]
    }
   ],
   "source": [
    "# constructor\n",
    "G = nx.MultiGraph()\n",
    "\n",
    "# adding some edges (and nodes by default)\n",
    "# key values added implicitly.\n",
    "G.add_edges_from([('a','b',{'distance':100, \"time\":10})]) # first time (a,b) is added  --> key = 0 (implicit)\n",
    "G.add_edges_from([('a','b',{'distance':100, \"time\":10})]) # second time (a,b) is added  --> key = 1 (implicit)\n",
    "G.add_edges_from([('a','b',{'distance':100, \"time\":10})]) # third time (a,b) is added  --> key = 2 (implicit)\n",
    "\n",
    "# adding some edges (and nodes by default)\n",
    "# key values added explicitly.\n",
    "G.add_edges_from([('b','a',\"L2\",{'distance':200, \"time\":10})]) # since MultiGraph allows for multiple edges,\n",
    "                                                               # and we are explicitly specifying the layer \"L2\",\n",
    "                                                               # the new edge (b,a) will be added in the new layer L2.\n",
    "\n",
    "# adding some edges (and nodes by default)\n",
    "# key values added explicitly.\n",
    "G.add_edges_from([('b','a',2,{'distance':200, \"time\":20})]) # since layer 2 already exists, and (a,b) = (b,a)\n",
    "                                                            # attributes of this edge (in layer 2) will be updated.\n",
    "    \n",
    "# info\n",
    "print(nx.info(G))\n",
    "print(G.nodes())\n",
    "print()\n",
    "\n",
    "# we traverse each edge, and show its metadata (data=True) and its layer ID (keys=True)\n",
    "for u, v, key, weight in G.edges(data=True, keys=True):\n",
    "    print(u,v,key, weight)"
   ]
  },
  {
   "cell_type": "markdown",
   "metadata": {},
   "source": [
    "#### MultiDiGraphs\n",
    "Graphs consisting of nodes, and multiple directed edges between the same pair/tuple of nodes (u,v).\\\n",
    "The key of MultiDiGraphs lies on the layer ID, referred as \"key\" in networkx and the direction of the edge.\\\n",
    "As in the case of MultiGraphs:\n",
    "- The \"key\" value of an edge, can be assigned explicitly as a triple: (u,v,k), where u (source) and v (target) are nodes, and k the key ID.\n",
    "- implicitly, every time the same edge is added, the \"key\" value increases its number sequentially."
   ]
  },
  {
   "cell_type": "code",
   "execution_count": 13,
   "metadata": {},
   "outputs": [
    {
     "name": "stdout",
     "output_type": "stream",
     "text": [
      "Name: \n",
      "Type: MultiDiGraph\n",
      "Number of nodes: 3\n",
      "Number of edges: 4\n",
      "Average in degree:   1.3333\n",
      "Average out degree:   1.3333\n",
      "['a', 'b', 'c']\n",
      "\n",
      "a b 0 {'distance': 100, 'time': 10}\n",
      "b c 0 {'distance': 1}\n",
      "b c 1 {'time': 1}\n",
      "b a L2 {'distance': 200, 'time': 10}\n"
     ]
    }
   ],
   "source": [
    "# constructor\n",
    "G = nx.MultiDiGraph()\n",
    "\n",
    "# adding some edges and attributes (and nodes by default)\n",
    "# key values added implicitly.\n",
    "G.add_edges_from([('a','b',{'distance':100, \"time\":10})]) # first time (a,b) is added  --> key = 0 (implicit)\n",
    "\n",
    "# adding some edges and attributes (and nodes by default)\n",
    "# key values added implicitly.\n",
    "G.add_edges_from([('b','c',{'distance':1})]) # first time (b,c) is added  --> key = 0 (implicit)\n",
    "G.add_edges_from([('b','c',{\"time\":1})])     # second time (b,c) is added  --> key = 1 (implicit)\n",
    "                                             # Note that the attributes \"distance\" and \"time\" for edge (b,c)\n",
    "                                             # were added in two different layers.\n",
    "\n",
    "\n",
    "# adding some edges and attributes (and nodes by default)\n",
    "# key values added explicitly.\n",
    "G.add_edges_from([('b','a',\"L2\",{'distance':200})]) # in this case, (b,a) != (a,b)\n",
    "G.add_edges_from([('b','a',\"L2\",{\"time\":10})])      # in this case, (b,a) != (a,b)\n",
    "\n",
    "# info\n",
    "print(nx.info(G))\n",
    "print(G.nodes())\n",
    "print()\n",
    "for u, v, key, weight in G.edges(data=True, keys=True):\n",
    "    print(u,v,key, weight)"
   ]
  },
  {
   "cell_type": "markdown",
   "metadata": {},
   "source": [
    "#### IMPORTANT:\n",
    "In the case of MultiGraphs and MultiDiGraphs, all attributes of a single edge must be added at once in the same instance of [add_edges_from]. Remember that every time you call the function [add_edges_from], networkx automatically assigns a new layer (key) ID to the edge, unless the layer ID is explicitly specified.\n",
    "    "
   ]
  },
  {
   "cell_type": "markdown",
   "metadata": {},
   "source": [
    "---\n",
    "## 3. Other network representations / data types"
   ]
  },
  {
   "cell_type": "markdown",
   "metadata": {},
   "source": [
    "### Numpy\n",
    "Adjacency matrix as array.\n",
    "\n",
    "*WARNING: When working with numpy arrays, indices (row and column IDs) are always sequential integers starting from 0.*\\\n",
    "*This means that your node labels are gone in the array. You would need to keep track of node label/index id, e.g., in a dictionary.*"
   ]
  },
  {
   "cell_type": "code",
   "execution_count": 14,
   "metadata": {},
   "outputs": [
    {
     "name": "stdout",
     "output_type": "stream",
     "text": [
      "Name: \n",
      "Type: Graph\n",
      "Number of nodes: 3\n",
      "Number of edges: 3\n",
      "Average degree:   2.0000\n"
     ]
    }
   ],
   "source": [
    "import numpy as np\n",
    "\n",
    "A = np.array([[0,1,1],[1,0,1],[1,1,0]])\n",
    "G = nx.Graph(A)                          # alternative 1\n",
    "#G = nx.from_numpy_array(A)              # alternative 2\n",
    "\n",
    "print(nx.info(G))"
   ]
  },
  {
   "cell_type": "markdown",
   "metadata": {},
   "source": [
    "#### Converting a networkx graph to numpy array."
   ]
  },
  {
   "cell_type": "code",
   "execution_count": 15,
   "metadata": {},
   "outputs": [
    {
     "data": {
      "text/plain": [
       "array([[0., 1., 1.],\n",
       "       [1., 0., 1.],\n",
       "       [1., 1., 0.]])"
      ]
     },
     "execution_count": 15,
     "metadata": {},
     "output_type": "execute_result"
    }
   ],
   "source": [
    "nx.to_numpy_array(G)"
   ]
  },
  {
   "cell_type": "code",
   "execution_count": 16,
   "metadata": {},
   "outputs": [
    {
     "data": {
      "text/plain": [
       "array([[0., 1.],\n",
       "       [1., 0.]])"
      ]
     },
     "execution_count": 16,
     "metadata": {},
     "output_type": "execute_result"
    }
   ],
   "source": [
    "nx.to_numpy_array(G, nodelist=[0,1])"
   ]
  },
  {
   "cell_type": "markdown",
   "metadata": {},
   "source": [
    "### Scipy\n",
    "Adjacency matrix as sparce matrix (memory friendly).\n",
    "\n",
    "*WARNING: When working with sparse matrices from scipy, indices (row and column IDs) are always sequential integers starting from 0.*\\\n",
    "*This means that your node labels are gone in the array. You would need to keep track of node label/index id, e.g., in a dictionary.*"
   ]
  },
  {
   "cell_type": "code",
   "execution_count": 17,
   "metadata": {
    "scrolled": true
   },
   "outputs": [
    {
     "name": "stdout",
     "output_type": "stream",
     "text": [
      "Name: \n",
      "Type: Graph\n",
      "Number of nodes: 3\n",
      "Number of edges: 3\n",
      "Average degree:   2.0000\n"
     ]
    }
   ],
   "source": [
    "from scipy.sparse import csr_matrix\n",
    "\n",
    "row = np.array([0, 0, 1, 1, 2, 2])\n",
    "col = np.array([1, 2, 0, 2, 0, 1])\n",
    "data = np.array([1, 1, 1, 1, 1, 1])\n",
    "\n",
    "A = csr_matrix((data, (row, col)), shape=(3, 3))\n",
    "G = nx.Graph(A)                                     # alternative 1\n",
    "#G = nx.from_scipy_sparse_matrix(A)                 # alternative 2\n",
    "\n",
    "print(nx.info(G))"
   ]
  },
  {
   "cell_type": "markdown",
   "metadata": {},
   "source": [
    "#### Converting a networkx graph to a sparse matrix."
   ]
  },
  {
   "cell_type": "code",
   "execution_count": 18,
   "metadata": {},
   "outputs": [
    {
     "data": {
      "text/plain": [
       "<3x3 sparse matrix of type '<class 'numpy.int64'>'\n",
       "\twith 6 stored elements in Compressed Sparse Row format>"
      ]
     },
     "execution_count": 18,
     "metadata": {},
     "output_type": "execute_result"
    }
   ],
   "source": [
    "nx.to_scipy_sparse_matrix(G) #.todense()"
   ]
  },
  {
   "cell_type": "code",
   "execution_count": 19,
   "metadata": {},
   "outputs": [
    {
     "data": {
      "text/plain": [
       "matrix([[0, 1],\n",
       "        [1, 0]])"
      ]
     },
     "execution_count": 19,
     "metadata": {},
     "output_type": "execute_result"
    }
   ],
   "source": [
    "nx.to_scipy_sparse_matrix(G, nodelist=[0,1]).todense()"
   ]
  },
  {
   "cell_type": "markdown",
   "metadata": {},
   "source": [
    "### Pandas\n",
    "\n",
    "Adjacency matrix as DataFrame (for both, undirected and directed)"
   ]
  },
  {
   "cell_type": "code",
   "execution_count": 20,
   "metadata": {},
   "outputs": [
    {
     "name": "stdout",
     "output_type": "stream",
     "text": [
      "   0  1  2\n",
      "0  0  1  1\n",
      "1  1  0  1\n",
      "2  1  1  0\n",
      "\n",
      "Name: \n",
      "Type: Graph\n",
      "Number of nodes: 3\n",
      "Number of edges: 3\n",
      "Average degree:   2.0000\n"
     ]
    }
   ],
   "source": [
    "import pandas as pd\n",
    "\n",
    "# network as dataframe\n",
    "df = pd.DataFrame([[0,1,1],[1,0,1],[1,1,0]])\n",
    "print(df)\n",
    "print('')\n",
    "\n",
    "# dataframe to networkx\n",
    "G = nx.Graph(G)                      # alternative 1\n",
    "#G = nx.from_pandas_adjacency(df)    # alternative 2\n",
    "print(nx.info(G))"
   ]
  },
  {
   "cell_type": "markdown",
   "metadata": {},
   "source": [
    "Edgelist as DataFrame for undirected networks"
   ]
  },
  {
   "cell_type": "code",
   "execution_count": 21,
   "metadata": {
    "scrolled": true
   },
   "outputs": [
    {
     "name": "stdout",
     "output_type": "stream",
     "text": [
      "  source target\n",
      "0      a      b\n",
      "1      b      c\n",
      "2      c      a\n",
      "\n",
      "Name: \n",
      "Type: Graph\n",
      "Number of nodes: 3\n",
      "Number of edges: 3\n",
      "Average degree:   2.0000\n"
     ]
    }
   ],
   "source": [
    "import pandas as pd\n",
    "\n",
    "# undirected network as dataframe\n",
    "# there MUST be at least two columns referring to the source, and target nodes.\n",
    "df = pd.DataFrame({'source':['a','b','c'], \n",
    "                   'target':['b','c','a']})\n",
    "print(df)\n",
    "print('')\n",
    "\n",
    "# dataframe to networkx \n",
    "# the name of the columns referring to the source and target nodes, can be explicitly specified.\n",
    "# Here nx.Graph(df) doesn't work, because it requires df to have at least 3 columns: \n",
    "# source, target, weight (a.k.a. weighted graph or weighted edges).\n",
    "# Then, we simply use the alternative 2 from_pandas_edgelist when edges are unweighted.\n",
    "G = nx.from_pandas_edgelist(df, source='source', target='target')  # alternative 2\n",
    "\n",
    "print(nx.info(G))"
   ]
  },
  {
   "cell_type": "markdown",
   "metadata": {},
   "source": [
    "Edgelist as DataFrame for directed networks"
   ]
  },
  {
   "cell_type": "code",
   "execution_count": 22,
   "metadata": {},
   "outputs": [
    {
     "name": "stdout",
     "output_type": "stream",
     "text": [
      "  source target  w1 w2\n",
      "0      a      b   1  x\n",
      "1      b      a   2  y\n",
      "2      b      c   3  z\n",
      "3      a      c   4  z\n",
      "4      a      d   5  z\n",
      "\n",
      "Name: \n",
      "Type: DiGraph\n",
      "Number of nodes: 4\n",
      "Number of edges: 5\n",
      "Average in degree:   1.2500\n",
      "Average out degree:   1.2500\n",
      "[('a', 'b', {}), ('a', 'c', {}), ('a', 'd', {}), ('b', 'a', {}), ('b', 'c', {})]\n",
      "\n",
      "Name: \n",
      "Type: DiGraph\n",
      "Number of nodes: 4\n",
      "Number of edges: 5\n",
      "Average in degree:   1.2500\n",
      "Average out degree:   1.2500\n",
      "[('a', 'b', {'w1': 1, 'w2': 'x'}), ('a', 'c', {'w1': 4, 'w2': 'z'}), ('a', 'd', {'w1': 5, 'w2': 'z'}), ('b', 'a', {'w1': 2, 'w2': 'y'}), ('b', 'c', {'w1': 3, 'w2': 'z'})]\n",
      "\n"
     ]
    }
   ],
   "source": [
    "import pandas as pd\n",
    "\n",
    "# directed network as dataframe\n",
    "df = pd.DataFrame({'source':['a','b','b','a','a'], \n",
    "                   'target':['b','a','c','c','d'],\n",
    "                   'w1':[1,2,3,4,5],\n",
    "                   'w2':['x','y','z','z','z'],\n",
    "                  })\n",
    "print(df)\n",
    "print('')\n",
    "\n",
    "# dataframe to networkx \n",
    "# Note that source and target column names are not specified below.\n",
    "# Then, the dataframe df MUST have two columns named: source and target.\n",
    "G = nx.from_pandas_edgelist(df, create_using=nx.DiGraph)                         # alternative 2 (incomplete)\n",
    "print(nx.info(G))\n",
    "print(G.edges(data=True)) # what happened with the edge attributes?\n",
    "print()\n",
    "\n",
    "# Then, edge attribute columns must be specified under the 'edge_attr' parameter:\n",
    "G = nx.from_pandas_edgelist(df, create_using=nx.DiGraph, edge_attr=['w1','w2'])   # alternative 2 (correct)\n",
    "print(nx.info(G))\n",
    "print(G.edges(data=True))\n",
    "print()"
   ]
  },
  {
   "cell_type": "code",
   "execution_count": 23,
   "metadata": {
    "scrolled": false
   },
   "outputs": [
    {
     "name": "stdout",
     "output_type": "stream",
     "text": [
      "Name: \n",
      "Type: DiGraph\n",
      "Number of nodes: 4\n",
      "Number of edges: 5\n",
      "Average in degree:   1.2500\n",
      "Average out degree:   1.2500\n",
      "[('a', 'b', {'w1': 1, 'w2': 'x'}), ('a', 'c', {'w1': 4, 'w2': 'z'}), ('a', 'd', {'w1': 5, 'w2': 'z'}), ('b', 'a', {'w1': 2, 'w2': 'y'}), ('b', 'c', {'w1': 3, 'w2': 'z'})]\n"
     ]
    }
   ],
   "source": [
    "G = nx.DiGraph(df)         # alternative 1\n",
    "print(nx.info(G))\n",
    "print(G.edges(data=True))"
   ]
  },
  {
   "cell_type": "markdown",
   "metadata": {},
   "source": [
    "---\n",
    "## 4. Loading famous Social Networks"
   ]
  },
  {
   "cell_type": "markdown",
   "metadata": {},
   "source": [
    "### Zachary’s Karate Club graph\n",
    "Zachary's karate club is a social network of a university karate club, described in the paper \"An Information Flow Model for Conflict and Fission in Small Groups\" by Wayne W. Zachary. The network became a popular example of community structure in networks after its use by Michelle Girvan and Mark Newman in 2002. [[wikipedia]](https://en.wikipedia.org/wiki/Zachary%27s_karate_club)"
   ]
  },
  {
   "cell_type": "code",
   "execution_count": 24,
   "metadata": {
    "scrolled": true
   },
   "outputs": [
    {
     "name": "stdout",
     "output_type": "stream",
     "text": [
      "Name: Zachary's Karate Club\n",
      "Type: Graph\n",
      "Number of nodes: 34\n",
      "Number of edges: 78\n",
      "Average degree:   4.5882\n"
     ]
    }
   ],
   "source": [
    "G = nx.karate_club_graph()\n",
    "print(nx.info(G))"
   ]
  },
  {
   "cell_type": "markdown",
   "metadata": {},
   "source": [
    "### Davis Southern women social network\n",
    "This is a data set of 18 women observed over a nine-month period. During that period, various subsets of these women met in a series of 14 informal social events. The data recored which women met for which events. [[UCI]](https://networkdata.ics.uci.edu/netdata/html/davis.html)"
   ]
  },
  {
   "cell_type": "code",
   "execution_count": 25,
   "metadata": {
    "scrolled": false
   },
   "outputs": [
    {
     "name": "stdout",
     "output_type": "stream",
     "text": [
      "Name: \n",
      "Type: Graph\n",
      "Number of nodes: 32\n",
      "Number of edges: 89\n",
      "Average degree:   5.5625\n"
     ]
    }
   ],
   "source": [
    "G = nx.davis_southern_women_graph()\n",
    "print(nx.info(G))"
   ]
  },
  {
   "cell_type": "markdown",
   "metadata": {},
   "source": [
    "### Florentine families graph\n",
    "This is a data set of marriage and business ties among Renaissance Florentine families. The data is originally from Padgett (1994).\n",
    "\n",
    "As Breiger & Pattison (1986) point out, the original data are symmetrically coded (undirected network). This is acceptable perhaps for marital ties, but is unfortunate for the financial ties (which are almost certainly directed). [[UCI]](http://networkdata.ics.uci.edu/netdata/html/florentine.html)"
   ]
  },
  {
   "cell_type": "code",
   "execution_count": 26,
   "metadata": {
    "scrolled": false
   },
   "outputs": [
    {
     "name": "stdout",
     "output_type": "stream",
     "text": [
      "Name: \n",
      "Type: Graph\n",
      "Number of nodes: 15\n",
      "Number of edges: 20\n",
      "Average degree:   2.6667\n"
     ]
    }
   ],
   "source": [
    "G = nx.florentine_families_graph()\n",
    "print(nx.info(G))"
   ]
  },
  {
   "cell_type": "markdown",
   "metadata": {},
   "source": [
    "### Coappearance network of characters in the novel Les Miserables\n",
    "Network of characters in Victor Hugo’s novel, Les Misérables (1862). Hugo’s novel follows the lives and interactions of numerous characters in France leading up the 1832 June Rebellion in Paris. I read ‘Les Mis’ quite some time ago, and I can only recall the overall storyline and some of the individual character plots. [[prattsi]](https://studentwork.prattsi.org/infovis/visualization/les-miserables-character-network-visualization/)"
   ]
  },
  {
   "cell_type": "code",
   "execution_count": 27,
   "metadata": {
    "scrolled": false
   },
   "outputs": [
    {
     "name": "stdout",
     "output_type": "stream",
     "text": [
      "Name: \n",
      "Type: Graph\n",
      "Number of nodes: 77\n",
      "Number of edges: 254\n",
      "Average degree:   6.5974\n"
     ]
    }
   ],
   "source": [
    "G = nx.les_miserables_graph()\n",
    "print(nx.info(G))"
   ]
  },
  {
   "cell_type": "markdown",
   "metadata": {},
   "source": [
    "---\n",
    "## 5. Import/Export networks"
   ]
  },
  {
   "cell_type": "markdown",
   "metadata": {},
   "source": [
    "First, let's create the folder `results` where we will store all our files."
   ]
  },
  {
   "cell_type": "code",
   "execution_count": 28,
   "metadata": {},
   "outputs": [
    {
     "name": "stdout",
     "output_type": "stream",
     "text": [
      "../../results already exists.\n"
     ]
    }
   ],
   "source": [
    "# Create the folder results (in case you don't have it)\n",
    "import os\n",
    "try:\n",
    "    path = '../../results'\n",
    "    if not os.path.exists(path): # if the folder does not exist\n",
    "        os.makedirs(path)        # it creates it.\n",
    "        print('{} was succesfully created!'.format(path))\n",
    "    else:\n",
    "        print('{} already exists.'.format(path))\n",
    "except Exception as ex:\n",
    "    print(ex)                    # in case of error, this line will show you what happened."
   ]
  },
  {
   "cell_type": "markdown",
   "metadata": {},
   "source": [
    "Now, let's load an existing network."
   ]
  },
  {
   "cell_type": "code",
   "execution_count": 29,
   "metadata": {},
   "outputs": [],
   "source": [
    "# Loading a pre-defined network from networkx\n",
    "G = nx.karate_club_graph()"
   ]
  },
  {
   "cell_type": "markdown",
   "metadata": {},
   "source": [
    "### Adjacency list\n",
    "WARNING: Neither node nor edge attributes can be stored in an adjacency list."
   ]
  },
  {
   "cell_type": "code",
   "execution_count": 30,
   "metadata": {},
   "outputs": [
    {
     "name": "stdout",
     "output_type": "stream",
     "text": [
      "Name: \n",
      "Type: Graph\n",
      "Number of nodes: 34\n",
      "Number of edges: 78\n",
      "Average degree:   4.5882\n"
     ]
    }
   ],
   "source": [
    "fn = \"../../results/karate_club.adjlist\"\n",
    "\n",
    "# write\n",
    "nx.write_adjlist(G, fn)\n",
    "\n",
    "# read\n",
    "g = nx.read_adjlist(fn)\n",
    "print(nx.info(g))"
   ]
  },
  {
   "cell_type": "markdown",
   "metadata": {},
   "source": [
    "### Edge list\n",
    "WARNING *: Node attributes cannot be stored in an edge list."
   ]
  },
  {
   "cell_type": "code",
   "execution_count": 31,
   "metadata": {},
   "outputs": [
    {
     "name": "stdout",
     "output_type": "stream",
     "text": [
      "Name: \n",
      "Type: Graph\n",
      "Number of nodes: 34\n",
      "Number of edges: 78\n",
      "Average degree:   4.5882\n"
     ]
    }
   ],
   "source": [
    "fn = \"../../results/karate_club.edgelist\"\n",
    "\n",
    "# write\n",
    "nx.write_edgelist(G, path=fn, delimiter=',', data=True)\n",
    "\n",
    "# read\n",
    "g = nx.read_edgelist(path=fn, delimiter=',')\n",
    "print(nx.info(g))"
   ]
  },
  {
   "cell_type": "markdown",
   "metadata": {},
   "source": [
    "### DataFrame (CSV or Excel) - Adjacency\n",
    "WARNING *: Node attributes cannot be stored in an adjacency matrix. Only 1 attribute per edge (e.g., cell value --> weight)."
   ]
  },
  {
   "cell_type": "code",
   "execution_count": 32,
   "metadata": {
    "scrolled": true
   },
   "outputs": [
    {
     "name": "stdout",
     "output_type": "stream",
     "text": [
      "Name: \n",
      "Type: Graph\n",
      "Number of nodes: 34\n",
      "Number of edges: 78\n",
      "Average degree:   4.5882\n"
     ]
    }
   ],
   "source": [
    "fn = \"../../results/karate_club.csv\"\n",
    "\n",
    "# write\n",
    "df = nx.to_pandas_adjacency(G)\n",
    "df.to_csv(fn, index=True)\n",
    "\n",
    "# read\n",
    "df = pd.read_csv(fn, index_col=0) # index_col tells pandas that the very first column is teh ID of the row.\n",
    "                                  # specially important when working with adjacency matrices.\n",
    "df.index = df.index.map(str)      # casting index to string\n",
    "g = nx.from_pandas_adjacency(df)\n",
    "print(nx.info(g))"
   ]
  },
  {
   "cell_type": "markdown",
   "metadata": {},
   "source": [
    "### DataFrame (CSV or Excel) - EdgeList\n",
    "WARNING *: Node attributes cannot be stored in an edge list. Edge attributes are automatically added as new columns in the DataFrame."
   ]
  },
  {
   "cell_type": "code",
   "execution_count": 33,
   "metadata": {},
   "outputs": [
    {
     "name": "stdout",
     "output_type": "stream",
     "text": [
      "Name: \n",
      "Type: Graph\n",
      "Number of nodes: 34\n",
      "Number of edges: 78\n",
      "Average degree:   4.5882\n"
     ]
    }
   ],
   "source": [
    "fn = \"../../results/karate_club_edgelist.csv\"\n",
    "\n",
    "# write\n",
    "df = nx.to_pandas_edgelist(G)\n",
    "df.to_csv(fn, index=False)        # no need to add index (row ID). Edge list already add source and target columns.\n",
    "\n",
    "# read\n",
    "df = pd.read_csv(fn)              # index_col is not necessary when working wirh edgelists.\n",
    "g = nx.from_pandas_edgelist(df)\n",
    "print(nx.info(g))"
   ]
  },
  {
   "cell_type": "markdown",
   "metadata": {},
   "source": [
    "### gpickle\n",
    "NOTE: It stores the whole network as it is. It is a compressed file, so it won't use much space in disk.\\\n",
    "Layer info is not lost, and they are handled as edge-keys.\\\n",
    "\\\n",
    "WARNING: Older versions of networkx cannot read newer versions of gpickle."
   ]
  },
  {
   "cell_type": "code",
   "execution_count": 34,
   "metadata": {},
   "outputs": [
    {
     "name": "stdout",
     "output_type": "stream",
     "text": [
      "Name: Zachary's Karate Club\n",
      "Type: Graph\n",
      "Number of nodes: 34\n",
      "Number of edges: 78\n",
      "Average degree:   4.5882\n"
     ]
    }
   ],
   "source": [
    "fn = \"../../results/karate_club.gpickle\"\n",
    "\n",
    "# write\n",
    "nx.write_gpickle(G, fn, protocol=5)\n",
    "\n",
    "# read\n",
    "g = nx.read_gpickle(fn)\n",
    "print(nx.info(g))"
   ]
  },
  {
   "cell_type": "markdown",
   "metadata": {},
   "source": [
    "### GML\n",
    "NOTE: It stores the whole network as it is. It is NOT a compressed file, so it will use more space in disk.\\\n",
    "Layer info is not lost, and they are handled as edge-keys."
   ]
  },
  {
   "cell_type": "code",
   "execution_count": 35,
   "metadata": {},
   "outputs": [
    {
     "name": "stdout",
     "output_type": "stream",
     "text": [
      "Name: Zachary's Karate Club\n",
      "Type: Graph\n",
      "Number of nodes: 34\n",
      "Number of edges: 78\n",
      "Average degree:   4.5882\n"
     ]
    }
   ],
   "source": [
    "fn = \"../../results/karate_club.gml\"\n",
    "\n",
    "# write\n",
    "nx.write_gml(G, fn)\n",
    "\n",
    "# read\n",
    "g = nx.read_gml(fn)\n",
    "print(nx.info(g))"
   ]
  },
  {
   "cell_type": "markdown",
   "metadata": {},
   "source": [
    "### Gephi\n",
    "WARNING: It stores the whole network but MultiGraphs (MultiDiGraphs) are converted into Graphs (DiGraphs).\\\n",
    "         Layer information is handled as edge attributes (ID)."
   ]
  },
  {
   "cell_type": "code",
   "execution_count": 36,
   "metadata": {},
   "outputs": [
    {
     "name": "stdout",
     "output_type": "stream",
     "text": [
      "Name: Zachary's Karate Club\n",
      "Type: Graph\n",
      "Number of nodes: 34\n",
      "Number of edges: 78\n",
      "Average degree:   4.5882\n"
     ]
    }
   ],
   "source": [
    "fn = \"../../results/karate_club.gexf\"\n",
    "\n",
    "# write\n",
    "nx.write_gexf(G, fn)\n",
    "\n",
    "# read\n",
    "g = nx.read_gexf(fn)\n",
    "print(nx.info(g))"
   ]
  },
  {
   "cell_type": "markdown",
   "metadata": {},
   "source": [
    "### Pajek\n",
    "WARNING: MultiGraphs (MultiDiGraphs) are not handled properly.\\\n",
    "         Layer information is lost."
   ]
  },
  {
   "cell_type": "code",
   "execution_count": 37,
   "metadata": {},
   "outputs": [
    {
     "name": "stdout",
     "output_type": "stream",
     "text": [
      "Name: \n",
      "Type: MultiGraph\n",
      "Number of nodes: 34\n",
      "Number of edges: 78\n",
      "Average degree:   4.5882\n"
     ]
    }
   ],
   "source": [
    "fn = \"../../results/karate_club.net\"\n",
    "\n",
    "# write\n",
    "nx.write_pajek(G, fn)\n",
    "\n",
    "# read\n",
    "g = nx.read_pajek(fn)\n",
    "print(nx.info(g))"
   ]
  },
  {
   "cell_type": "markdown",
   "metadata": {},
   "source": [
    "### * Write/Read node attributes only"
   ]
  },
  {
   "cell_type": "code",
   "execution_count": 38,
   "metadata": {
    "scrolled": true
   },
   "outputs": [
    {
     "data": {
      "text/plain": [
       "{'club': 'Mr. Hi'}"
      ]
     },
     "execution_count": 38,
     "metadata": {},
     "output_type": "execute_result"
    }
   ],
   "source": [
    "# retrieving node attributes\n",
    "node_attributes = dict(G.nodes(data=True))\n",
    "node_attributes[0]"
   ]
  },
  {
   "cell_type": "markdown",
   "metadata": {},
   "source": [
    "#### Pickle\n",
    "Compressed file!\\\n",
    "NOTE: File content is not human-readable unless open using 'pickle.load'.\\\n",
    "WARNING: Older versions of pickle or python will not be able to open newer files."
   ]
  },
  {
   "cell_type": "code",
   "execution_count": 39,
   "metadata": {},
   "outputs": [
    {
     "name": "stdout",
     "output_type": "stream",
     "text": [
      "{0: {'club': 'Mr. Hi'}, 1: {'club': 'Mr. Hi'}, 2: {'club': 'Mr. Hi'}, 3: {'club': 'Mr. Hi'}, 4: {'club': 'Mr. Hi'}, 5: {'club': 'Mr. Hi'}, 6: {'club': 'Mr. Hi'}, 7: {'club': 'Mr. Hi'}, 8: {'club': 'Mr. Hi'}, 9: {'club': 'Officer'}, 10: {'club': 'Mr. Hi'}, 11: {'club': 'Mr. Hi'}, 12: {'club': 'Mr. Hi'}, 13: {'club': 'Mr. Hi'}, 14: {'club': 'Officer'}, 15: {'club': 'Officer'}, 16: {'club': 'Mr. Hi'}, 17: {'club': 'Mr. Hi'}, 18: {'club': 'Officer'}, 19: {'club': 'Mr. Hi'}, 20: {'club': 'Officer'}, 21: {'club': 'Mr. Hi'}, 22: {'club': 'Officer'}, 23: {'club': 'Officer'}, 24: {'club': 'Officer'}, 25: {'club': 'Officer'}, 26: {'club': 'Officer'}, 27: {'club': 'Officer'}, 28: {'club': 'Officer'}, 29: {'club': 'Officer'}, 30: {'club': 'Officer'}, 31: {'club': 'Officer'}, 32: {'club': 'Officer'}, 33: {'club': 'Officer'}}\n"
     ]
    }
   ],
   "source": [
    "fn = \"../../results/karate_club_node_attributes.pickle\"\n",
    "\n",
    "# import pickle library\n",
    "import pickle\n",
    "\n",
    "# write (w)\n",
    "with open(fn, 'wb') as f:\n",
    "    pickle.dump(node_attributes, f)\n",
    "    \n",
    "# read (r)\n",
    "obj = None\n",
    "with open(fn, 'rb') as f:\n",
    "    obj = pickle.load(f)\n",
    "print(obj)"
   ]
  },
  {
   "cell_type": "markdown",
   "metadata": {},
   "source": [
    "#### JSON (dictionary as plan text)"
   ]
  },
  {
   "cell_type": "code",
   "execution_count": 40,
   "metadata": {},
   "outputs": [
    {
     "name": "stdout",
     "output_type": "stream",
     "text": [
      "{'0': {'club': 'Mr. Hi'}, '1': {'club': 'Mr. Hi'}, '2': {'club': 'Mr. Hi'}, '3': {'club': 'Mr. Hi'}, '4': {'club': 'Mr. Hi'}, '5': {'club': 'Mr. Hi'}, '6': {'club': 'Mr. Hi'}, '7': {'club': 'Mr. Hi'}, '8': {'club': 'Mr. Hi'}, '9': {'club': 'Officer'}, '10': {'club': 'Mr. Hi'}, '11': {'club': 'Mr. Hi'}, '12': {'club': 'Mr. Hi'}, '13': {'club': 'Mr. Hi'}, '14': {'club': 'Officer'}, '15': {'club': 'Officer'}, '16': {'club': 'Mr. Hi'}, '17': {'club': 'Mr. Hi'}, '18': {'club': 'Officer'}, '19': {'club': 'Mr. Hi'}, '20': {'club': 'Officer'}, '21': {'club': 'Mr. Hi'}, '22': {'club': 'Officer'}, '23': {'club': 'Officer'}, '24': {'club': 'Officer'}, '25': {'club': 'Officer'}, '26': {'club': 'Officer'}, '27': {'club': 'Officer'}, '28': {'club': 'Officer'}, '29': {'club': 'Officer'}, '30': {'club': 'Officer'}, '31': {'club': 'Officer'}, '32': {'club': 'Officer'}, '33': {'club': 'Officer'}}\n"
     ]
    }
   ],
   "source": [
    "fn = \"../../results/karate_club_node_attributes.json\"\n",
    "\n",
    "# import json library\n",
    "import json\n",
    "\n",
    "# write (w)\n",
    "with open(fn, 'w') as f:\n",
    "    json.dump(node_attributes, f)\n",
    "    \n",
    "# read (r)\n",
    "obj = None\n",
    "with open(fn, 'r') as f:\n",
    "    obj = json.load(f)\n",
    "print(obj)"
   ]
  },
  {
   "cell_type": "markdown",
   "metadata": {},
   "source": [
    "#### .CSV file (plain text .txt)"
   ]
  },
  {
   "cell_type": "code",
   "execution_count": 41,
   "metadata": {
    "scrolled": true
   },
   "outputs": [
    {
     "data": {
      "text/html": [
       "<div>\n",
       "<style scoped>\n",
       "    .dataframe tbody tr th:only-of-type {\n",
       "        vertical-align: middle;\n",
       "    }\n",
       "\n",
       "    .dataframe tbody tr th {\n",
       "        vertical-align: top;\n",
       "    }\n",
       "\n",
       "    .dataframe thead th {\n",
       "        text-align: right;\n",
       "    }\n",
       "</style>\n",
       "<table border=\"1\" class=\"dataframe\">\n",
       "  <thead>\n",
       "    <tr style=\"text-align: right;\">\n",
       "      <th></th>\n",
       "      <th>node</th>\n",
       "      <th>club</th>\n",
       "    </tr>\n",
       "  </thead>\n",
       "  <tbody>\n",
       "    <tr>\n",
       "      <th>0</th>\n",
       "      <td>0</td>\n",
       "      <td>Mr. Hi</td>\n",
       "    </tr>\n",
       "    <tr>\n",
       "      <th>1</th>\n",
       "      <td>1</td>\n",
       "      <td>Mr. Hi</td>\n",
       "    </tr>\n",
       "    <tr>\n",
       "      <th>2</th>\n",
       "      <td>2</td>\n",
       "      <td>Mr. Hi</td>\n",
       "    </tr>\n",
       "    <tr>\n",
       "      <th>3</th>\n",
       "      <td>3</td>\n",
       "      <td>Mr. Hi</td>\n",
       "    </tr>\n",
       "    <tr>\n",
       "      <th>4</th>\n",
       "      <td>4</td>\n",
       "      <td>Mr. Hi</td>\n",
       "    </tr>\n",
       "  </tbody>\n",
       "</table>\n",
       "</div>"
      ],
      "text/plain": [
       "   node    club\n",
       "0     0  Mr. Hi\n",
       "1     1  Mr. Hi\n",
       "2     2  Mr. Hi\n",
       "3     3  Mr. Hi\n",
       "4     4  Mr. Hi"
      ]
     },
     "execution_count": 41,
     "metadata": {},
     "output_type": "execute_result"
    }
   ],
   "source": [
    "fn = \"../../results/karate_club_node_attributes.csv\"\n",
    "\n",
    "# import pandas library\n",
    "import pandas as pd\n",
    "\n",
    "# write as columns\n",
    "nodes = list(node_attributes.keys())\n",
    "club = [node_attributes[n]['club'] for n in nodes] # important to traverse nodes to keep the node-order in both lists.\n",
    "#club = [na['club'] for na in node_attributes.values()] # this is an alternative code\n",
    "data = {'node': nodes, 'club': club}\n",
    "df = pd.DataFrame.from_dict(data)\n",
    "df.to_csv(fn, index=False)\n",
    "\n",
    "#node_attributes    \n",
    "df = pd.read_csv(fn)\n",
    "df.head()"
   ]
  }
 ],
 "metadata": {
  "kernelspec": {
   "display_name": "Python 3",
   "language": "python",
   "name": "python3"
  },
  "language_info": {
   "codemirror_mode": {
    "name": "ipython",
    "version": 3
   },
   "file_extension": ".py",
   "mimetype": "text/x-python",
   "name": "python",
   "nbconvert_exporter": "python",
   "pygments_lexer": "ipython3",
   "version": "3.8.3"
  }
 },
 "nbformat": 4,
 "nbformat_minor": 4
}
