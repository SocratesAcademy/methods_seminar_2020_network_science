{
 "cells": [
  {
   "cell_type": "markdown",
   "metadata": {},
   "source": [
    "# Exersice 1.1 (solution)"
   ]
  },
  {
   "attachments": {
    "grafik.png": {
     "image/png": "[encoded data removed]"
    }
   },
   "cell_type": "markdown",
   "metadata": {},
   "source": [
    "![grafik.png](attachment:grafik.png)"
   ]
  },
  {
   "cell_type": "markdown",
   "metadata": {},
   "source": [
    "__Task 1.__\n",
    "\n",
    "Create the above-drawn network using two different data structures in networkx library.\n",
    "\n",
    "Useful hints and functions you can find in the Demo notebook or here https://github.com/gesiscss/methods_seminar_2020_network_science/tree/master/code/0_preparation \n",
    "\n"
   ]
  },
  {
   "cell_type": "code",
   "execution_count": 1,
   "metadata": {},
   "outputs": [],
   "source": [
    "import networkx as nx"
   ]
  },
  {
   "cell_type": "code",
   "execution_count": 2,
   "metadata": {},
   "outputs": [
    {
     "name": "stdout",
     "output_type": "stream",
     "text": [
      "Name: \n",
      "Type: Graph\n",
      "Number of nodes: 6\n",
      "Number of edges: 5\n",
      "Average degree:   1.6667\n",
      "['a', 'b', 'c', 'd', 'e', 'f']\n",
      "[('a', 'b'), ('a', 'c'), ('c', 'd'), ('c', 'e'), ('d', 'f')]\n",
      "Name: \n",
      "Type: Graph\n",
      "Number of nodes: 6\n",
      "Number of edges: 5\n",
      "Average degree:   1.6667\n",
      "['a', 'b', 'c', 'd', 'e', 'f']\n",
      "[('a', 'b'), ('a', 'c'), ('c', 'd'), ('c', 'e'), ('d', 'f')]\n",
      "Name: \n",
      "Type: Graph\n",
      "Number of nodes: 6\n",
      "Number of edges: 5\n",
      "Average degree:   1.6667\n",
      "['a', 'c', 'd', 'b', 'e', 'f']\n",
      "[('a', 'b'), ('a', 'c'), ('c', 'e'), ('c', 'd'), ('d', 'f')]\n"
     ]
    }
   ],
   "source": [
    "#graph from a list of edges.\n",
    "\n",
    "\n",
    "edgelist = [(\"a\", \"b\"), (\"a\", \"c\"), (\"c\", \"d\"), (\"c\",\"e\"), (\"d\",\"f\")]  \n",
    "\n",
    "G = nx.Graph(edgelist)\n",
    "\n",
    "print(nx.info(G))\n",
    "print(G.nodes())\n",
    "print(G.edges())\n",
    "\n",
    "#graph from a dictionary of lists.\n",
    "dol = {\"a\": [\"b\", \"c\"], \"c\":[\"a\",\"d\", \"e\"], \"d\":[\"f\"]}\n",
    "\n",
    "G = nx.Graph(edgelist)\n",
    "\n",
    "print(nx.info(G))\n",
    "print(G.nodes())\n",
    "print(G.edges())\n",
    "\n",
    "dict_of_dict={\"a\": {\"b\": {} ,\"c\": {} }, \"c\":{\"e\":{},\"d\":{}}, \"d\":{ \"f\": {}} }\n",
    "\n",
    "G = nx.Graph(dict_of_dict) \n",
    "print(nx.info(G))\n",
    "print(G.nodes())\n",
    "print(G.edges())"
   ]
  },
  {
   "cell_type": "markdown",
   "metadata": {},
   "source": [
    "__Task 2.__\n",
    "\n",
    "Iterate over all edges and print their names. The output should look like this\n",
    "\n",
    "\"We have the following edges:\n",
    "\n",
    "a b\n",
    "\n",
    "a c\n",
    "\n",
    "...\"\n",
    "\n",
    "_Hint: To iterate along edges use `G.edges()`_"
   ]
  },
  {
   "cell_type": "code",
   "execution_count": 3,
   "metadata": {},
   "outputs": [
    {
     "data": {
      "text/plain": [
       "EdgeView([('a', 'b'), ('a', 'c'), ('c', 'e'), ('c', 'd'), ('d', 'f')])"
      ]
     },
     "execution_count": 3,
     "metadata": {},
     "output_type": "execute_result"
    }
   ],
   "source": [
    "G.edges()"
   ]
  },
  {
   "cell_type": "code",
   "execution_count": 4,
   "metadata": {},
   "outputs": [
    {
     "name": "stdout",
     "output_type": "stream",
     "text": [
      "We have the following edges:\n",
      "a b\n",
      "a c\n",
      "c e\n",
      "c d\n",
      "d f\n"
     ]
    }
   ],
   "source": [
    "print (\"We have the following edges:\")\n",
    "for node in G.edges():\n",
    "    print (node[0], node[1])"
   ]
  },
  {
   "cell_type": "markdown",
   "metadata": {},
   "source": [
    "__Task 3.__\n",
    "\n",
    "Calculate the sum of degrees of all neighbors of the node \"c\". \n",
    "You can use the following steps: \n",
    "1. Find all the neighbors of the node. \n",
    "2. Calculate degrees of the nodes you got prom the previous step. \n",
    "3. Sum it up."
   ]
  },
  {
   "cell_type": "code",
   "execution_count": 5,
   "metadata": {},
   "outputs": [
    {
     "data": {
      "text/plain": [
       "AtlasView({'a': {}, 'e': {}, 'd': {}})"
      ]
     },
     "execution_count": 5,
     "metadata": {},
     "output_type": "execute_result"
    }
   ],
   "source": [
    "G.adj[\"c\"]"
   ]
  },
  {
   "cell_type": "code",
   "execution_count": 6,
   "metadata": {},
   "outputs": [
    {
     "name": "stdout",
     "output_type": "stream",
     "text": [
      "Sum of degrees of neighbors of the node 'c' is 5\n"
     ]
    }
   ],
   "source": [
    "#resulting variable\n",
    "sum_degrees = 0\n",
    "\n",
    "for node in G.adj[\"c\"]:\n",
    "    degree_of_node = G.degree[node]\n",
    "    sum_degrees = sum_degrees + degree_of_node\n",
    "print (\"Sum of degrees of neighbors of the node 'c' is\", sum_degrees)"
   ]
  },
  {
   "cell_type": "markdown",
   "metadata": {},
   "source": [
    "# From the questions"
   ]
  },
  {
   "cell_type": "code",
   "execution_count": 7,
   "metadata": {},
   "outputs": [
    {
     "data": {
      "image/png": "[encoded data removed]",
      "text/plain": [
       "<Figure size 432x288 with 1 Axes>"
      ]
     },
     "metadata": {},
     "output_type": "display_data"
    }
   ],
   "source": [
    "#how to plot the graph\n",
    "import matplotlib as mpl\n",
    "nx.draw(G)"
   ]
  }
 ],
 "metadata": {
  "kernelspec": {
   "display_name": "Python 3",
   "language": "python",
   "name": "python3"
  },
  "language_info": {
   "codemirror_mode": {
    "name": "ipython",
    "version": 3
   },
   "file_extension": ".py",
   "mimetype": "text/x-python",
   "name": "python",
   "nbconvert_exporter": "python",
   "pygments_lexer": "ipython3",
   "version": "3.8.3"
  }
 },
 "nbformat": 4,
 "nbformat_minor": 4
}
