{
 "cells": [
  {
   "cell_type": "markdown",
   "metadata": {},
   "source": [
    "# Exersice 1.2 (solution)\n",
    "## Peter, Paul and Mary network\n",
    "---"
   ]
  },
  {
   "cell_type": "markdown",
   "metadata": {},
   "source": [
    "1. Get familiar with the content of each of the three files listed below.\n",
    " - Are networks directed or undirected?\n",
    " - Are edges weighted or unweighted?\n",
    " - Which python libraries would you need?\n",
    "\n",
    "\n",
    "2. Load the data!\n",
    " - Load the node attributes\n",
    " - Load layer #1 as an adjacency matrix using pandas\n",
    " - Load layer #2 as an edgelist using pandas\n",
    "\n",
    "\n",
    "3. Create a networkx graph from the loaded data.\n",
    " - Create an empty multiple-edge graph G.\n",
    " - Add a graph attribute 'name', with value 'Peter, Paul and Mary'.\n",
    " - Assign node attributes to nodes in G (using data extracted in step 2)\n",
    " - Populate graph G using layer #1 and layer #2 (using data extracted from step 2)\n",
    "    - Make sure that edges in layer #1 have layer ID \"domain1\", and edges in layer #2, \"domain2\".\n",
    " - Print the metadata of the graph, all nodes and all edges.\n",
    "\n",
    "   \n",
    "4. Save the whole network into a single file. Make sure that:\n",
    " - all attributes (for graph, nodes, edges) are saved!\n",
    " - all layers are saved!\n",
    " "
   ]
  },
  {
   "cell_type": "markdown",
   "metadata": {},
   "source": [
    "---\n",
    "## Task #1\n",
    "#### Get familiar with the data and the libraries!\n",
    "Open in your browser (in another window or tab) the files under `data/peter_paul_mary`.\n",
    "Read those files, get to know which attributes the node have, the format of the network information file, etc.\n",
    "\n",
    "---"
   ]
  },
  {
   "cell_type": "markdown",
   "metadata": {},
   "source": [
    "#### Data file paths\n",
    "Check out these files from the \"data\" folder, and get familiar with their format:\\\n",
    "column names, separators, directed edges?, weighted edges?, etc."
   ]
  },
  {
   "cell_type": "code",
   "execution_count": 1,
   "metadata": {},
   "outputs": [],
   "source": [
    "fn_att = \"../../data/peter_paul_mary/peter_paul_mary_attributes.csv\"\n",
    "fn_layer1 = \"../../data/peter_paul_mary/peter_paul_mary_domain1_adjacency.csv\"\n",
    "fn_layer2 = \"../../data/peter_paul_mary/peter_paul_mary_domain2_edgelist.csv\""
   ]
  },
  {
   "cell_type": "markdown",
   "metadata": {},
   "source": [
    "#### Dependencies (libraries)\n",
    "Import here all necessary python packages"
   ]
  },
  {
   "cell_type": "code",
   "execution_count": 2,
   "metadata": {},
   "outputs": [],
   "source": [
    "import networkx as nx\n",
    "import pandas as pd\n",
    "import numpy as np"
   ]
  },
  {
   "cell_type": "markdown",
   "metadata": {},
   "source": [
    "---\n",
    "## Task #2\n",
    "#### Load the data!\n",
    "- Load the node attributes\n",
    "- Load layer #1 as an adjacency matrix using pandas\n",
    "- Load layer #2 as an edgelist using pandas\n",
    "\n",
    "---"
   ]
  },
  {
   "cell_type": "markdown",
   "metadata": {},
   "source": [
    "#### Load node attributes"
   ]
  },
  {
   "cell_type": "code",
   "execution_count": 3,
   "metadata": {},
   "outputs": [
    {
     "data": {
      "text/html": [
       "<div>\n",
       "<style scoped>\n",
       "    .dataframe tbody tr th:only-of-type {\n",
       "        vertical-align: middle;\n",
       "    }\n",
       "\n",
       "    .dataframe tbody tr th {\n",
       "        vertical-align: top;\n",
       "    }\n",
       "\n",
       "    .dataframe thead th {\n",
       "        text-align: right;\n",
       "    }\n",
       "</style>\n",
       "<table border=\"1\" class=\"dataframe\">\n",
       "  <thead>\n",
       "    <tr style=\"text-align: right;\">\n",
       "      <th></th>\n",
       "      <th>name</th>\n",
       "      <th>age</th>\n",
       "    </tr>\n",
       "  </thead>\n",
       "  <tbody>\n",
       "    <tr>\n",
       "      <th>0</th>\n",
       "      <td>Peter</td>\n",
       "      <td>44</td>\n",
       "    </tr>\n",
       "    <tr>\n",
       "      <th>1</th>\n",
       "      <td>Paul</td>\n",
       "      <td>22</td>\n",
       "    </tr>\n",
       "    <tr>\n",
       "      <th>2</th>\n",
       "      <td>Mary</td>\n",
       "      <td>33</td>\n",
       "    </tr>\n",
       "  </tbody>\n",
       "</table>\n",
       "</div>"
      ],
      "text/plain": [
       "    name  age\n",
       "0  Peter   44\n",
       "1   Paul   22\n",
       "2   Mary   33"
      ]
     },
     "execution_count": 3,
     "metadata": {},
     "output_type": "execute_result"
    }
   ],
   "source": [
    "node_attributes = pd.read_csv(fn_att, sep=';', header=0)\n",
    "node_attributes"
   ]
  },
  {
   "cell_type": "markdown",
   "metadata": {},
   "source": [
    "#### Load layer 1 as an adjacency matrix using pandas"
   ]
  },
  {
   "cell_type": "code",
   "execution_count": 4,
   "metadata": {},
   "outputs": [
    {
     "data": {
      "text/html": [
       "<div>\n",
       "<style scoped>\n",
       "    .dataframe tbody tr th:only-of-type {\n",
       "        vertical-align: middle;\n",
       "    }\n",
       "\n",
       "    .dataframe tbody tr th {\n",
       "        vertical-align: top;\n",
       "    }\n",
       "\n",
       "    .dataframe thead th {\n",
       "        text-align: right;\n",
       "    }\n",
       "</style>\n",
       "<table border=\"1\" class=\"dataframe\">\n",
       "  <thead>\n",
       "    <tr style=\"text-align: right;\">\n",
       "      <th></th>\n",
       "      <th>Peter</th>\n",
       "      <th>Paul</th>\n",
       "      <th>Mary</th>\n",
       "    </tr>\n",
       "  </thead>\n",
       "  <tbody>\n",
       "    <tr>\n",
       "      <th>Peter</th>\n",
       "      <td>0</td>\n",
       "      <td>2</td>\n",
       "      <td>1</td>\n",
       "    </tr>\n",
       "    <tr>\n",
       "      <th>Paul</th>\n",
       "      <td>0</td>\n",
       "      <td>0</td>\n",
       "      <td>1</td>\n",
       "    </tr>\n",
       "    <tr>\n",
       "      <th>Mary</th>\n",
       "      <td>0</td>\n",
       "      <td>0</td>\n",
       "      <td>0</td>\n",
       "    </tr>\n",
       "  </tbody>\n",
       "</table>\n",
       "</div>"
      ],
      "text/plain": [
       "       Peter  Paul  Mary\n",
       "Peter      0     2     1\n",
       "Paul       0     0     1\n",
       "Mary       0     0     0"
      ]
     },
     "execution_count": 4,
     "metadata": {},
     "output_type": "execute_result"
    }
   ],
   "source": [
    "df_layer1 = pd.read_csv(fn_layer1, sep=';', header=0, index_col=0)\n",
    "df_layer1"
   ]
  },
  {
   "cell_type": "markdown",
   "metadata": {},
   "source": [
    "#### Load layer 2 as an edge list using pandas"
   ]
  },
  {
   "cell_type": "code",
   "execution_count": 5,
   "metadata": {},
   "outputs": [
    {
     "data": {
      "text/html": [
       "<div>\n",
       "<style scoped>\n",
       "    .dataframe tbody tr th:only-of-type {\n",
       "        vertical-align: middle;\n",
       "    }\n",
       "\n",
       "    .dataframe tbody tr th {\n",
       "        vertical-align: top;\n",
       "    }\n",
       "\n",
       "    .dataframe thead th {\n",
       "        text-align: right;\n",
       "    }\n",
       "</style>\n",
       "<table border=\"1\" class=\"dataframe\">\n",
       "  <thead>\n",
       "    <tr style=\"text-align: right;\">\n",
       "      <th></th>\n",
       "      <th>from</th>\n",
       "      <th>to</th>\n",
       "      <th>weight</th>\n",
       "    </tr>\n",
       "  </thead>\n",
       "  <tbody>\n",
       "    <tr>\n",
       "      <th>0</th>\n",
       "      <td>Paul</td>\n",
       "      <td>Peter</td>\n",
       "      <td>3</td>\n",
       "    </tr>\n",
       "    <tr>\n",
       "      <th>1</th>\n",
       "      <td>Mary</td>\n",
       "      <td>Peter</td>\n",
       "      <td>1</td>\n",
       "    </tr>\n",
       "    <tr>\n",
       "      <th>2</th>\n",
       "      <td>Mary</td>\n",
       "      <td>Paul</td>\n",
       "      <td>1</td>\n",
       "    </tr>\n",
       "  </tbody>\n",
       "</table>\n",
       "</div>"
      ],
      "text/plain": [
       "   from     to  weight\n",
       "0  Paul  Peter       3\n",
       "1  Mary  Peter       1\n",
       "2  Mary   Paul       1"
      ]
     },
     "execution_count": 5,
     "metadata": {},
     "output_type": "execute_result"
    }
   ],
   "source": [
    "df_layer2 = pd.read_csv(fn_layer2, sep=';', header=0)\n",
    "df_layer2"
   ]
  },
  {
   "cell_type": "markdown",
   "metadata": {},
   "source": [
    "---\n",
    "## Task #3\n",
    "#### Create a networkx graph with the loaded data.\n",
    "- Create an empty multiple-edge graph G.\n",
    "- Add a graph attribute 'name', with value 'Peter, Paul and Mary'.\n",
    "- Assign node attributes to nodes in G (using data extracted in step 2)\n",
    "- Populate graph G using layer #1 and layer #2 (using data extracted from step 2)\n",
    "   - Make sure that edges in layer #1 have layer ID \"domain1\", and edges in layer #2, \"domain2\".\n",
    "- Print the metadata of the graph, all nodes and all edges.\n",
    "- Check nodes' metadata. What happened? Can you fix it?\n",
    "\n",
    "---"
   ]
  },
  {
   "cell_type": "markdown",
   "metadata": {},
   "source": [
    "#### Creating a multi-edge graph\n",
    "Instanciate a networkx graph with a name: 'Peter, Paul and Mary'"
   ]
  },
  {
   "cell_type": "code",
   "execution_count": 6,
   "metadata": {},
   "outputs": [
    {
     "name": "stdout",
     "output_type": "stream",
     "text": [
      "Name: Peter, Paul and Mary\n",
      "Type: MultiDiGraph\n",
      "Number of nodes: 0\n",
      "Number of edges: 0\n",
      "\n"
     ]
    }
   ],
   "source": [
    "G = nx.MultiDiGraph(name='Peter, Paul and Mary')\n",
    "print(nx.info(G))"
   ]
  },
  {
   "cell_type": "markdown",
   "metadata": {},
   "source": [
    "#### Adding node attributes\n",
    "*As next step, we cannot add node attributes because the network is empty!\\\n",
    "We need to populate edges first (or nodes) to then assign attributes to the nodes.*"
   ]
  },
  {
   "cell_type": "markdown",
   "metadata": {},
   "source": [
    "#### Adding first layer\n",
    "Load layer 1 into G, and use \"domain1\" as layer (key) ID.\\\n",
    "*HINT 1: Create a networkx graph `g1` by using `nx.from_pandas_adjacency()`.*\\\n",
    "*HINT 2: Read all the edges from `g1` and create an edgelist of the form (source, target, key, weight).*\\\n",
    "*HINT 3: Then pass that edge list into ```G.add_edges_from()```.*"
   ]
  },
  {
   "cell_type": "code",
   "execution_count": 7,
   "metadata": {},
   "outputs": [
    {
     "name": "stdout",
     "output_type": "stream",
     "text": [
      "Name: Peter, Paul and Mary\n",
      "Type: MultiDiGraph\n",
      "Number of nodes: 3\n",
      "Number of edges: 3\n",
      "Average in degree:   1.0000\n",
      "Average out degree:   1.0000\n",
      "['Peter', 'Paul', 'Mary']\n",
      "[('Peter', 'Paul', 'domain1', {'weight': 2}), ('Peter', 'Mary', 'domain1', {'weight': 1}), ('Paul', 'Mary', 'domain1', {'weight': 1})]\n"
     ]
    }
   ],
   "source": [
    "g1 = nx.from_pandas_adjacency(df_layer1, create_using=nx.DiGraph) # directed graph (layer 1)\n",
    "\n",
    "el1 = [ (u,v,'domain1',w) for u,v,w in g1.edges(data=True)]       # edgelist of the form (s,t,k,w)\n",
    "#for u,v,w in g1.edges(data=True):\n",
    "#    el1.append((u,v,'domain1',w))\n",
    "    \n",
    "G.add_edges_from(el1)                                             # adding edges (with metadata) into main graph\n",
    "\n",
    "print(nx.info(G))\n",
    "print(G.nodes())\n",
    "print(G.edges(data=True, keys=True))"
   ]
  },
  {
   "cell_type": "markdown",
   "metadata": {},
   "source": [
    "#### Adding second layer\n",
    "Load layer 2 into G, and use \"domain2\" as layer (key) ID.\\\n",
    "*HINT 1: Same as before, but now you need to create the networkx graph using `nx.from_pandas_edgelist`.*"
   ]
  },
  {
   "cell_type": "code",
   "execution_count": 8,
   "metadata": {
    "scrolled": true
   },
   "outputs": [
    {
     "name": "stdout",
     "output_type": "stream",
     "text": [
      "Name: Peter, Paul and Mary\n",
      "Type: MultiDiGraph\n",
      "Number of nodes: 3\n",
      "Number of edges: 6\n",
      "Average in degree:   2.0000\n",
      "Average out degree:   2.0000\n",
      "['Peter', 'Paul', 'Mary']\n",
      "[('Peter', 'Paul', 'domain1', {'weight': 2}), ('Peter', 'Mary', 'domain1', {'weight': 1}), ('Paul', 'Mary', 'domain1', {'weight': 1}), ('Paul', 'Peter', 'domain2', {'weight': 3}), ('Mary', 'Peter', 'domain2', {'weight': 1}), ('Mary', 'Paul', 'domain2', {'weight': 1})]\n"
     ]
    }
   ],
   "source": [
    "g2 = nx.from_pandas_edgelist(df_layer2, source='from', target='to', edge_attr='weight', create_using=nx.DiGraph)\n",
    "el2 = [ (u,v,'domain2',w) for u,v,w in g2.edges(data=True)] # edgelist of the form (s,t,k,w)\n",
    "G.add_edges_from(el2)                                       # adding edges (with metadata) into main graph \n",
    "\n",
    "print(nx.info(G))\n",
    "print(G.nodes())\n",
    "print(G.edges(data=True, keys=True))"
   ]
  },
  {
   "cell_type": "markdown",
   "metadata": {},
   "source": [
    "#### Adding node attributes\n",
    "Add the attribute 'age' to all nodes.\\\n",
    "*Hint 1: Set 'name' as the index column of the DataFrame ```node_attributes```. Then, convert the DataFrame to dictionary and store it in the 'tmp' variable.*\n",
    "*Hint 2: Check with ```G.nodes(data=True)``` if all nodes have been modified with the new attributes. If not, what would you do to fix it? Where would you move this piece of code?*"
   ]
  },
  {
   "cell_type": "code",
   "execution_count": 9,
   "metadata": {},
   "outputs": [
    {
     "data": {
      "text/plain": [
       "NodeDataView({'Peter': {'age': 44}, 'Paul': {'age': 22}, 'Mary': {'age': 33}})"
      ]
     },
     "execution_count": 9,
     "metadata": {},
     "output_type": "execute_result"
    }
   ],
   "source": [
    "tmp = node_attributes.set_index('name').to_dict()\n",
    "nx.set_node_attributes(G, values=tmp['age'], name='age')\n",
    "G.nodes(data=True)"
   ]
  },
  {
   "cell_type": "markdown",
   "metadata": {},
   "source": [
    "#### Printing all node metadata\n",
    "Traverse all nodes, and print (node, age-value).\\\n",
    "*Hint: You need to pass one parameter to ```G.nodes(?=?)```*"
   ]
  },
  {
   "cell_type": "code",
   "execution_count": 10,
   "metadata": {},
   "outputs": [
    {
     "name": "stdout",
     "output_type": "stream",
     "text": [
      "Peter 44\n",
      "Paul 22\n",
      "Mary 33\n"
     ]
    }
   ],
   "source": [
    "for node, obj in G.nodes(data=True):\n",
    "    print(node,obj['age'])"
   ]
  },
  {
   "cell_type": "markdown",
   "metadata": {},
   "source": [
    "#### Printing all edge metadata\n",
    "Traverse all edges, and print (source, target, layer id, weight-value).\\\n",
    "*Hint: You need to pass two parameters to ```G.edges(?=?, ?=?)```*"
   ]
  },
  {
   "cell_type": "code",
   "execution_count": 11,
   "metadata": {},
   "outputs": [
    {
     "name": "stdout",
     "output_type": "stream",
     "text": [
      "Peter Paul domain1 2\n",
      "Peter Mary domain1 1\n",
      "Paul Mary domain1 1\n",
      "Paul Peter domain2 3\n",
      "Mary Peter domain2 1\n",
      "Mary Paul domain2 1\n"
     ]
    }
   ],
   "source": [
    "for u,v,k,w in G.edges(data=True, keys=True):\n",
    "    print(u,v,k,w['weight'])"
   ]
  },
  {
   "cell_type": "markdown",
   "metadata": {},
   "source": [
    "---\n",
    "## Task #4\n",
    "#### Save the whole network into a single file. Make sure that:\n",
    "Make sure the file you create contains:\n",
    "- all attributes (for graph, nodes, edges) and\n",
    "- all layers.\n",
    "\n",
    "---"
   ]
  },
  {
   "cell_type": "markdown",
   "metadata": {},
   "source": [
    "#### Save the graph into a file\n",
    "*Hint: The file must contain ALL metadata.*"
   ]
  },
  {
   "cell_type": "code",
   "execution_count": 12,
   "metadata": {},
   "outputs": [
    {
     "name": "stdout",
     "output_type": "stream",
     "text": [
      "Name: Peter, Paul and Mary\n",
      "Type: MultiDiGraph\n",
      "Number of nodes: 3\n",
      "Number of edges: 6\n",
      "Average in degree:   2.0000\n",
      "Average out degree:   2.0000\n",
      "\n",
      "[('Peter', {'age': 44}), ('Paul', {'age': 22}), ('Mary', {'age': 33})]\n",
      "\n",
      "[('Peter', 'Paul', 'domain1', {'weight': 2}), ('Peter', 'Mary', 'domain1', {'weight': 1}), ('Paul', 'Mary', 'domain1', {'weight': 1}), ('Paul', 'Peter', 'domain2', {'weight': 3}), ('Mary', 'Peter', 'domain2', {'weight': 1}), ('Mary', 'Paul', 'domain2', {'weight': 1})]\n"
     ]
    }
   ],
   "source": [
    "fn = \"../../results/exercise_12.gpickle\"\n",
    "\n",
    "# write (gpickle or gml)\n",
    "# Notice that if you save the graph as \".gpickle\" or \".gml\" all the structure of the graph is stored as it is.\n",
    "# In this case as a MultiDiGraph, that is:\n",
    "# graph, graph attributes, nodes, node attributes, edges, edge attributes, and layers are stored!\n",
    "# So, if you load the .gpickle (or .gml) file, you can access all edges' info with: g.edges(data=True, kesys=True)\n",
    "\n",
    "# write (gexf) for gephi\n",
    "# However, if you store the network as a \".gexf\" file (for gephi), while all info will also be saved,\n",
    "# the network will be (in this case) just a DiGraph. \n",
    "# The layer information is not lost but it is handled as edge attributes, so if you load the .gexf file, \n",
    "# this line g.edges(data=True, kesys=True) will fail, because layers don't exist (it's a DiGraph).\n",
    "# You can then access the edges' info with: g.edges(data=True)\n",
    "nx.write_gpickle(G, fn)\n",
    "\n",
    "# read\n",
    "g = nx.read_gpickle(fn)\n",
    "print(nx.info(g))\n",
    "print('')\n",
    "\n",
    "# check nodes' info\n",
    "print(g.nodes(data=True))\n",
    "print('')\n",
    "\n",
    "# check edges' info\n",
    "print(g.edges(data=True, keys=True)) # for gpickle and gml files\n",
    "# g.edges(data=True)          # for gexf files"
   ]
  }
 ],
 "metadata": {
  "kernelspec": {
   "display_name": "Python 3",
   "language": "python",
   "name": "python3"
  },
  "language_info": {
   "codemirror_mode": {
    "name": "ipython",
    "version": 3
   },
   "file_extension": ".py",
   "mimetype": "text/x-python",
   "name": "python",
   "nbconvert_exporter": "python",
   "pygments_lexer": "ipython3",
   "version": "3.8.3"
  }
 },
 "nbformat": 4,
 "nbformat_minor": 4
}
