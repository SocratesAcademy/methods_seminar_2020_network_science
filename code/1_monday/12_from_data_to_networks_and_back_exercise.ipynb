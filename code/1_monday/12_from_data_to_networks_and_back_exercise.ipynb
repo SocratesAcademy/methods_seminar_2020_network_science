{
 "cells": [
  {
   "cell_type": "markdown",
   "metadata": {},
   "source": [
    "# Exersice 1.2\n",
    "## Peter, Paul and Mary network\n",
    "---"
   ]
  },
  {
   "cell_type": "markdown",
   "metadata": {},
   "source": [
    "1. Get familiar with the content of each of the three files listed below.\n",
    " - Are networks directed or undirected?\n",
    " - Are edges weighted or unweighted?\n",
    " - Which python libraries would you need?\n",
    "\n",
    "\n",
    "2. Load the data!\n",
    " - Load the node attributes\n",
    " - Load layer #1 as an adjacency matrix using pandas\n",
    " - Load layer #2 as an edgelist using pandas\n",
    "\n",
    "\n",
    "3. Create a networkx graph from the loaded data.\n",
    " - Create an empty multiple-edge graph G.\n",
    " - Add a graph attribute 'name', with value 'Peter, Paul and Mary'.\n",
    " - Assign node attributes to nodes in G (using data extracted in step 2)\n",
    " - Populate graph G using layer #1 and layer #2 (using data extracted from step 2)\n",
    "    - Make sure that edges in layer #1 have layer ID \"domain1\", and edges in layer #2, \"domain2\".\n",
    " - Print the metadata of the graph, all nodes and all edges.\n",
    "\n",
    "   \n",
    "4. Save the whole network into a single file. Make sure that:\n",
    " - all attributes (for graph, nodes, edges) are saved!\n",
    " - all layers are saved!\n",
    " "
   ]
  },
  {
   "cell_type": "markdown",
   "metadata": {},
   "source": [
    "---\n",
    "## Task #1\n",
    "#### Get familiar with the data and the libraries!\n",
    "Open in your browser (in another window or tab) the files under data/peter_paul_mary.\n",
    "Read those files, get to know which attributes node have, the format of the network information file, etc.\n",
    "\n",
    "---"
   ]
  },
  {
   "cell_type": "markdown",
   "metadata": {},
   "source": [
    "#### Data file paths\n",
    "Check out these files from the \"data\" folder, and get familiar with their format:\\\n",
    "column names, separators, directed edges?, weighted edges?, etc."
   ]
  },
  {
   "cell_type": "code",
   "execution_count": null,
   "metadata": {},
   "outputs": [],
   "source": [
    "fn_att = \"../../data/peter_paul_mary/peter_paul_mary_attributes.csv\"\n",
    "fn_layer1 = \"../../data/peter_paul_mary/<filename1>.csv\" # adjacency\n",
    "fn_layer2 = \"../../data/peter_paul_mary/<filename2>.csv\" # edge list"
   ]
  },
  {
   "cell_type": "markdown",
   "metadata": {},
   "source": [
    "#### Dependencies (libraries)\n",
    "Import here all necessary python packages"
   ]
  },
  {
   "cell_type": "code",
   "execution_count": null,
   "metadata": {},
   "outputs": [],
   "source": [
    "import networkx as nx\n",
    "import pandas as pd\n",
    "import numpy as np"
   ]
  },
  {
   "cell_type": "markdown",
   "metadata": {},
   "source": [
    "---\n",
    "## Task #2\n",
    "#### Load the data!\n",
    "- Load the node attributes\n",
    "- Load layer #1 as an adjacency matrix using pandas\n",
    "- Load layer #2 as an edgelist using pandas\n",
    "\n",
    "---"
   ]
  },
  {
   "cell_type": "markdown",
   "metadata": {},
   "source": [
    "#### Load node attributes"
   ]
  },
  {
   "cell_type": "code",
   "execution_count": null,
   "metadata": {},
   "outputs": [],
   "source": [
    "node_attributes = pd.read_csv(..., sep=';', header=0)\n",
    "node_attributes"
   ]
  },
  {
   "cell_type": "markdown",
   "metadata": {},
   "source": [
    "#### Load layer 1 as an adjacency matrix using pandas"
   ]
  },
  {
   "cell_type": "code",
   "execution_count": null,
   "metadata": {},
   "outputs": [],
   "source": [
    "df_layer1 = pd.read_csv(..., sep=..., header=0, index_col=0)\n",
    "df_layer1"
   ]
  },
  {
   "cell_type": "markdown",
   "metadata": {},
   "source": [
    "#### Load layer 2 as an edge list using pandas"
   ]
  },
  {
   "cell_type": "code",
   "execution_count": null,
   "metadata": {},
   "outputs": [],
   "source": [
    "df_layer2 = pd.read_csv(..., sep=';', header=0)\n",
    "df_layer2"
   ]
  },
  {
   "cell_type": "markdown",
   "metadata": {},
   "source": [
    "---\n",
    "## Task #3\n",
    "#### Create a networkx graph with the loaded data.\n",
    "- Create an empty multiple-edge graph G.\n",
    "- Add a graph attribute 'name', with value 'Peter, Paul and Mary'.\n",
    "- Assign node attributes to nodes in G (using data extracted in step 2)\n",
    "- Populate graph G using layer #1 and layer #2 (using data extracted from step 2)\n",
    "   - Make sure that edges in layer #1 have layer ID \"domain1\", and edges in layer #2, \"domain2\".\n",
    "- Print the metadata of the graph, all nodes and all edges.\n",
    "- Check nodes' metadata. What happened? Can you fix it?\n",
    "\n",
    "---"
   ]
  },
  {
   "cell_type": "markdown",
   "metadata": {},
   "source": [
    "#### Creating a multi-edge graph\n",
    "Instanciate a networkx graph with a name: 'Peter, Paul and Mary'"
   ]
  },
  {
   "cell_type": "code",
   "execution_count": null,
   "metadata": {},
   "outputs": [],
   "source": [
    "G = ...\n",
    "print(nx.info(G))"
   ]
  },
  {
   "cell_type": "markdown",
   "metadata": {},
   "source": [
    "#### Adding node attributes\n",
    "Add the attribute 'age' to all nodes.\\\n",
    "*Hint 1: Set 'name' as the index column of the DataFrame ```node_attributes```. Then, convert the DataFrame to dictionary and store it in the 'tmp' variable.*\n",
    "*Hint 2: Check with ```G.nodes(data=True)``` if all nodes have been modified with the new attributes. If not, what would you do to fix it? Where would you move this piece of code?*"
   ]
  },
  {
   "cell_type": "code",
   "execution_count": null,
   "metadata": {},
   "outputs": [],
   "source": [
    "tmp = node_attributes.set_index('name')...\n",
    "nx.set_node_attributes(..., values=..., name=...)\n",
    "G.nodes(...)"
   ]
  },
  {
   "cell_type": "markdown",
   "metadata": {},
   "source": [
    "#### Adding first layer\n",
    "Load layer 1 into G, and use \"domain1\" as layer (key) ID.\\\n",
    "*HINT 1: Create a networkx graph `g1` by using `nx.from_pandas_adjacency()`.*\\\n",
    "*HINT 2: Read all the edges from `g1` and create an edgelist of the form (source, target, key, weight).*\\\n",
    "*HINT 3: Then pass that edge list into ```G.add_edges_from()```.*"
   ]
  },
  {
   "cell_type": "code",
   "execution_count": null,
   "metadata": {},
   "outputs": [],
   "source": [
    "# layer 1 (directed graph is in the form of a pandas adjacency matrix) \n",
    "g1 = ...\n",
    "\n",
    "# edgelist of the form (source,target,key,weight)\n",
    "# don't forget the key (layer id) info\n",
    "el1 = [ (..., ..., ..., ...) for u,v,w in g1.edges(data=True)]       \n",
    "\n",
    "# adding edges (with metadata) into main graph\n",
    "G.add_edges_from(el1)                                             \n",
    "\n",
    "print(nx.info(G))\n",
    "print(G.nodes())\n",
    "print(G.edges(data=True, keys=True))"
   ]
  },
  {
   "cell_type": "markdown",
   "metadata": {},
   "source": [
    "#### Adding second layer\n",
    "Load layer 2 into G, and use \"domain2\" as layer (key) ID.\\\n",
    "*HINT 1: Same as before, but now you need to create the networkx graph using `nx.from_pandas_edgelist`.*"
   ]
  },
  {
   "cell_type": "code",
   "execution_count": null,
   "metadata": {
    "scrolled": true
   },
   "outputs": [],
   "source": [
    "# layer 2 (directed graph is in the form of a pandas edgelist) \n",
    "g2 = ...\n",
    "\n",
    "# edgelist of the form (source,target,key,weight)\n",
    "# don't forget the key (layer id) info\n",
    "el2 = ...\n",
    "\n",
    "# adding edges (with metadata) into main graph \n",
    "G.add_edges_from(el2)                                       \n",
    "\n",
    "print(nx.info(G))\n",
    "print(G.nodes())\n",
    "print(G.edges(data=True, keys=True))"
   ]
  },
  {
   "cell_type": "markdown",
   "metadata": {},
   "source": [
    "#### Printing all node metadata\n",
    "Traverse all nodes, and print (node, age-value).\\\n",
    "*Hint: You need to pass one parameter to ```G.nodes(?=?)```*"
   ]
  },
  {
   "cell_type": "code",
   "execution_count": null,
   "metadata": {},
   "outputs": [],
   "source": [
    "for ... in ...:\n",
    "    ..."
   ]
  },
  {
   "cell_type": "markdown",
   "metadata": {},
   "source": [
    "#### Printing all edge metadata\n",
    "Traverse all edges, and print (source, target, layer id, weight-value).\\\n",
    "*Hint: You need to pass two parameters to ```G.edges(?=?, ?=?)```*"
   ]
  },
  {
   "cell_type": "code",
   "execution_count": null,
   "metadata": {},
   "outputs": [],
   "source": [
    "for ... in ...:\n",
    "    ..."
   ]
  },
  {
   "cell_type": "markdown",
   "metadata": {},
   "source": [
    "---\n",
    "## Task #4\n",
    "#### Save the whole network into a single file. Make sure that:\n",
    "Make sure the file you create contains:\n",
    "- all attributes (for graph, nodes, edges) and\n",
    "- all layers.\n",
    "\n",
    "---"
   ]
  },
  {
   "cell_type": "markdown",
   "metadata": {},
   "source": [
    "#### Save the graph into a file\n",
    "*Hint: The file must contain ALL metadata.*"
   ]
  },
  {
   "cell_type": "code",
   "execution_count": null,
   "metadata": {},
   "outputs": [],
   "source": [
    "fn = \"../../results/exercise_12.<extension>\"\n",
    "\n",
    "# write\n",
    "...\n",
    "\n",
    "# read\n",
    "g = ...\n",
    "print(nx.info(g))\n",
    "print('')\n",
    "\n",
    "# check nodes' info\n",
    "print(...)\n",
    "print('')\n",
    "\n",
    "# check edges' info\n",
    "print(...)"
   ]
  }
 ],
 "metadata": {
  "kernelspec": {
   "display_name": "Python 3",
   "language": "python",
   "name": "python3"
  },
  "language_info": {
   "codemirror_mode": {
    "name": "ipython",
    "version": 3
   },
   "file_extension": ".py",
   "mimetype": "text/x-python",
   "name": "python",
   "nbconvert_exporter": "python",
   "pygments_lexer": "ipython3",
   "version": "3.8.3"
  }
 },
 "nbformat": 4,
 "nbformat_minor": 4
}
