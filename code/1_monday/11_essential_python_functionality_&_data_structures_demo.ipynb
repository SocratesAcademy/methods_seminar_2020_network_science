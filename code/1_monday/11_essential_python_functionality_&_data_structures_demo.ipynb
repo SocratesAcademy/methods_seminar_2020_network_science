{
 "cells": [
  {
   "cell_type": "markdown",
   "metadata": {},
   "source": [
    "# Essential Python Functionality & Data Structures (Demo)"
   ]
  },
  {
   "cell_type": "markdown",
   "metadata": {},
   "source": [
    "In the first part, we would focus on\n",
    "  - lists, \n",
    "  - dictionaries, \n",
    "  - lists of lists, \n",
    "  - dictionaries of dictionaries, \n",
    "  - dictionaries of lists, \n",
    "  - simple functions,\n",
    "  - numpy,\n",
    "  - pandas DataFrames.\n",
    "\n",
    "For basic Python functionality, you should consider working through the material of preparation material https://github.com/gesiscss/methods_seminar_2020_network_science/tree/master/code/0_preparation \n",
    "\n",
    "For advanced level, you can work through this book https://jakevdp.github.io/PythonDataScienceHandbook/ \n",
    "\n",
    "\n",
    "\n",
    "In the second part, we deal with \n",
    " - basic commands to create a network, and to access data about nodes and edges \n",
    " - how networkx \"thinks\" \n",
    "     - dictionary of dictionaries (of dictionaries),\n",
    "     - dictionary of lists,\n",
    "     - list of tuples.\n",
    "     \n",
    "Instructions about networkx library usage you can find here https://networkx.github.io/documentation/stable/tutorial.html  \n"
   ]
  },
  {
   "cell_type": "markdown",
   "metadata": {},
   "source": [
    "# Essential Python Functionality"
   ]
  },
  {
   "cell_type": "markdown",
   "metadata": {},
   "source": [
    "## Lists"
   ]
  },
  {
   "cell_type": "markdown",
   "metadata": {},
   "source": [
    "A list is an ordered, modifiable set of objects. \n",
    "Lists are written as sequences of data, separated by a comma and enclosed in square brackets.\n",
    "\n",
    "Lists are declared by just equating a variable to `[]` or `list()`.\n",
    "\n",
    "More details here\n",
    "- basic level https://github.com/gesiscss/methods_seminar_2020_network_science/blob/master/code/0_preparation/02_lists_tuples.ipynb \n",
    "- advanced level https://jakevdp.github.io/PythonDataScienceHandbook/02.01-understanding-data-types.html#A-Python-List-Is-More-Than-Just-a-List\n"
   ]
  },
  {
   "cell_type": "code",
   "execution_count": 1,
   "metadata": {},
   "outputs": [],
   "source": [
    "list_1 = []\n",
    "\n",
    "# a list with integer objects\n",
    "list_2 = [3, 5, 7, 9]\n",
    "\n",
    "# a list of strings\n",
    "list_3 = ['Monday', 'Tuesday', 'Wednesday',\n",
    "          'Thursday', 'Friday', 'Saturday', 'Sunday']\n",
    "\n",
    "# a list of mixed types\n",
    "list_4 = [2, 5, \"Elephant\", 6, 8.2, True]"
   ]
  },
  {
   "cell_type": "code",
   "execution_count": 2,
   "metadata": {},
   "outputs": [
    {
     "name": "stdout",
     "output_type": "stream",
     "text": [
      "[3, 5, 7, 9]\n"
     ]
    }
   ],
   "source": [
    "print (list_2)"
   ]
  },
  {
   "cell_type": "markdown",
   "metadata": {},
   "source": [
    "### Accessing elements of a list [homework: try it yourself]"
   ]
  },
  {
   "cell_type": "code",
   "execution_count": 3,
   "metadata": {},
   "outputs": [
    {
     "data": {
      "text/plain": [
       "7"
      ]
     },
     "execution_count": 3,
     "metadata": {},
     "output_type": "execute_result"
    }
   ],
   "source": [
    "#careful, numbering starts from 0\n",
    "list_2[2]"
   ]
  },
  {
   "cell_type": "code",
   "execution_count": 4,
   "metadata": {},
   "outputs": [
    {
     "data": {
      "text/plain": [
       "9"
      ]
     },
     "execution_count": 4,
     "metadata": {},
     "output_type": "execute_result"
    }
   ],
   "source": [
    "#getting last item\n",
    "list_2[-1]"
   ]
  },
  {
   "cell_type": "code",
   "execution_count": 5,
   "metadata": {},
   "outputs": [
    {
     "data": {
      "text/plain": [
       "[5, 7]"
      ]
     },
     "execution_count": 5,
     "metadata": {},
     "output_type": "execute_result"
    }
   ],
   "source": [
    "#Slicing a list\n",
    "list_2[1:3]"
   ]
  },
  {
   "cell_type": "code",
   "execution_count": 6,
   "metadata": {},
   "outputs": [
    {
     "data": {
      "text/plain": [
       "[7, 9]"
      ]
     },
     "execution_count": 6,
     "metadata": {},
     "output_type": "execute_result"
    }
   ],
   "source": [
    "#getting two last items\n",
    "list_2[-2:]"
   ]
  },
  {
   "cell_type": "code",
   "execution_count": 7,
   "metadata": {},
   "outputs": [
    {
     "data": {
      "text/plain": [
       "[3, 5]"
      ]
     },
     "execution_count": 7,
     "metadata": {},
     "output_type": "execute_result"
    }
   ],
   "source": [
    "#getting list except two last items\n",
    "list_2[:-2]"
   ]
  },
  {
   "cell_type": "markdown",
   "metadata": {},
   "source": [
    "### Adding and changing items in a list"
   ]
  },
  {
   "cell_type": "code",
   "execution_count": 8,
   "metadata": {},
   "outputs": [
    {
     "name": "stdout",
     "output_type": "stream",
     "text": [
      "['border collie', 'australian cattle dog', 'labrador retriever', 'poodle']\n"
     ]
    }
   ],
   "source": [
    "#to add new item to the end of the list, use the method append()\n",
    "dogs = ['border collie', 'australian cattle dog', 'labrador retriever']\n",
    "dogs.append('poodle')\n",
    "print(dogs)"
   ]
  },
  {
   "cell_type": "code",
   "execution_count": 9,
   "metadata": {},
   "outputs": [
    {
     "name": "stdout",
     "output_type": "stream",
     "text": [
      "['australian shepherd', 'australian cattle dog', 'labrador retriever']\n"
     ]
    }
   ],
   "source": [
    "#to change the element use the element order placed insode of [] \n",
    "dogs = ['border collie', 'australian cattle dog', 'labrador retriever']\n",
    "dogs[0] = 'australian shepherd'\n",
    "print(dogs)"
   ]
  },
  {
   "cell_type": "code",
   "execution_count": 10,
   "metadata": {},
   "outputs": [
    {
     "name": "stdout",
     "output_type": "stream",
     "text": [
      "['border collie', 'poodle', 'australian cattle dog', 'labrador retriever']\n"
     ]
    }
   ],
   "source": [
    "#to insert item ti certain position use method insert(), \n",
    "#where the first parameter would be position and the second is the value itself \n",
    "dogs = ['border collie', 'australian cattle dog', 'labrador retriever']\n",
    "dogs.insert(1, 'poodle')\n",
    "\n",
    "print(dogs)"
   ]
  },
  {
   "cell_type": "markdown",
   "metadata": {},
   "source": [
    "### List Comprehensions"
   ]
  },
  {
   "cell_type": "markdown",
   "metadata": {},
   "source": [
    "One can iterate over items of the list using the following loop `for item in list_name:`"
   ]
  },
  {
   "cell_type": "code",
   "execution_count": 11,
   "metadata": {},
   "outputs": [
    {
     "name": "stdout",
     "output_type": "stream",
     "text": [
      "1\n",
      "2\n",
      "3\n",
      "4\n",
      "5\n",
      "6\n",
      "7\n",
      "8\n",
      "9\n",
      "10\n"
     ]
    }
   ],
   "source": [
    "numbers = [1, 2, 3, 4, 5, 6, 7, 8, 9, 10]\n",
    "\n",
    "for number in numbers:\n",
    "    print(number)"
   ]
  },
  {
   "cell_type": "code",
   "execution_count": 12,
   "metadata": {},
   "outputs": [
    {
     "name": "stdout",
     "output_type": "stream",
     "text": [
      "[1, 4, 9, 16, 25, 36, 49, 64, 81, 100]\n"
     ]
    }
   ],
   "source": [
    "# Here we want to store the first ten square numbers in a list. We will use the following algorithm:\n",
    "\n",
    "#1) Make an empty list that will hold our square numbers.\n",
    "squares = []\n",
    "\n",
    "#2) Go through the first ten numbers, square them, and add them to our list.\n",
    "for number in numbers:\n",
    "    squares.append(number**2)\n",
    "    \n",
    "# Show that our list is correct.\n",
    "print(squares)"
   ]
  },
  {
   "cell_type": "markdown",
   "metadata": {},
   "source": [
    "List comprehensions allow us to collapse the first three lines of code into one line. Here's what it looks like:"
   ]
  },
  {
   "cell_type": "code",
   "execution_count": 13,
   "metadata": {},
   "outputs": [
    {
     "data": {
      "text/plain": [
       "[1, 4, 9, 16, 25, 36, 49, 64, 81, 100]"
      ]
     },
     "execution_count": 13,
     "metadata": {},
     "output_type": "execute_result"
    }
   ],
   "source": [
    "#This will allow us to store the first ten square numbers in a list as in previous example.\n",
    "[number**2 for number in numbers]\n"
   ]
  },
  {
   "cell_type": "markdown",
   "metadata": {},
   "source": [
    "## Tuples"
   ]
  },
  {
   "cell_type": "markdown",
   "metadata": {},
   "source": [
    "Tuples are, basically, lists that can never be changed. Lists can grow as you append and insert items, and they can shrink as you remove items. You can modify any element you want to in a list.\n",
    "\n",
    "More details here https://www.tutorialspoint.com/python/python_tuples.htm "
   ]
  },
  {
   "cell_type": "code",
   "execution_count": 14,
   "metadata": {},
   "outputs": [
    {
     "name": "stdout",
     "output_type": "stream",
     "text": [
      "The first color is: red\n",
      "\n",
      "The available colors are:\n",
      "- red\n",
      "- green\n",
      "- blue\n"
     ]
    }
   ],
   "source": [
    "colors = ('red', 'green', 'blue')\n",
    "print(\"The first color is: \" + colors[0])\n",
    "\n",
    "print(\"\\nThe available colors are:\")\n",
    "for color in colors:\n",
    "    print(\"- \" + color)"
   ]
  },
  {
   "cell_type": "markdown",
   "metadata": {},
   "source": [
    "## List of lists"
   ]
  },
  {
   "cell_type": "markdown",
   "metadata": {},
   "source": [
    "More detail you can find in the Chapter 8 of this material https://github.com/gesiscss/methods_seminar_2020_network_science/blob/master/code/0_preparation/02_lists_tuples.ipynb \n",
    "\n"
   ]
  },
  {
   "cell_type": "code",
   "execution_count": 15,
   "metadata": {},
   "outputs": [
    {
     "name": "stdout",
     "output_type": "stream",
     "text": [
      "[[1, 2, 3], [4, 5, 6], [7, 8, 9]]\n",
      "[[1, 2, 3], [4, 5, 6], [7, 8, 9]]\n",
      "[[1, 2, 3], [4, 5, 6], [7, 8, 9]]\n"
     ]
    }
   ],
   "source": [
    "list_of_lists = [[1, 2, 3],\n",
    "                 [4, 5, 6],\n",
    "                 [7, 8, 9]]\n",
    "print(list_of_lists)\n",
    "\n",
    "#OR\n",
    "\n",
    "list_1 = [1, 2, 3]\n",
    "list_2 = [4, 5, 6]\n",
    "list_3 = [7, 8, 9]\n",
    "\n",
    "list_of_lists = []\n",
    "list_of_lists.append(list_1)\n",
    "list_of_lists.append(list_2)\n",
    "list_of_lists.append(list_3)\n",
    "print(list_of_lists)\n",
    "\n",
    "#OR\n",
    "\n",
    "l = [list_1, list_2, list_3]\n",
    "print(l)"
   ]
  },
  {
   "cell_type": "code",
   "execution_count": 16,
   "metadata": {},
   "outputs": [
    {
     "data": {
      "text/plain": [
       "[4, 5, 6]"
      ]
     },
     "execution_count": 16,
     "metadata": {},
     "output_type": "execute_result"
    }
   ],
   "source": [
    "list_of_lists[1]"
   ]
  },
  {
   "cell_type": "code",
   "execution_count": 17,
   "metadata": {},
   "outputs": [
    {
     "data": {
      "text/plain": [
       "4"
      ]
     },
     "execution_count": 17,
     "metadata": {},
     "output_type": "execute_result"
    }
   ],
   "source": [
    "list_of_lists[1][0]"
   ]
  },
  {
   "cell_type": "markdown",
   "metadata": {},
   "source": [
    "## List of tuples"
   ]
  },
  {
   "cell_type": "markdown",
   "metadata": {},
   "source": [
    "Tuple also can be an element of the list. Then the list will look as follows: "
   ]
  },
  {
   "cell_type": "code",
   "execution_count": 18,
   "metadata": {},
   "outputs": [],
   "source": [
    "list_of_tuples = [(1, 2, 3),\n",
    "                  (4, 5, 6),\n",
    "                  (7, 8, 9)]"
   ]
  },
  {
   "cell_type": "markdown",
   "metadata": {},
   "source": [
    "## Dictionaries"
   ]
  },
  {
   "cell_type": "markdown",
   "metadata": {},
   "source": [
    "Dictionary has the following structure: \n",
    "```dictionary_name = {key_1: value_1, key_2: value_2, key_3: value_3}```\n",
    "Where each key is separated from its value by a colon `:` the items are separated by commas `,`, and the whole thing is enclosed in curly braces `{}`. An empty dictionary without any items is written with just `{}`.\n",
    "\n",
    "Keys are unique within a dictionary, while values may not be. The values of a dictionary can be of any type, but the keys must be of an immutable data type such as strings, numbers, or tuples.\n",
    "\n",
    "To access dictionary elements, you can use the square brackets along with the key to obtain its value.\n",
    "\n",
    "More details are here https://github.com/gesiscss/methods_seminar_2020_network_science/blob/master/code/0_preparation/03_dictionaries.ipynb "
   ]
  },
  {
   "cell_type": "code",
   "execution_count": 19,
   "metadata": {},
   "outputs": [
    {
     "name": "stdout",
     "output_type": "stream",
     "text": [
      "list\n",
      "A collection of values that are not connected, but have an order.\n",
      "dictionary\n",
      "A collection of key-value pairs.\n",
      "function\n",
      "A named set of instructions that defines a set of actions in Python.\n"
     ]
    }
   ],
   "source": [
    "# Create an empty dictionary.\n",
    "python_words = {}\n",
    "\n",
    "# Fill the dictionary, pair by pair.\n",
    "python_words['list'] = 'A collection of values that are not connected, but have an order.'\n",
    "python_words['dictionary'] = 'A collection of key-value pairs.'\n",
    "python_words['function'] = 'A named set of instructions that defines a set of actions in Python.'\n",
    "\n",
    "#Print out the items in the dictionary.\n",
    "#The syntax for key, value in my_dict.items(): does the work of looping through this list of tuples, \n",
    "#and pulling the first and second item from each tuple for us.\n",
    "for word, meaning in python_words.items():\n",
    "    print( word)\n",
    "    print( meaning)"
   ]
  },
  {
   "cell_type": "markdown",
   "metadata": {},
   "source": [
    "To access all the keys of the dictionary, one should use method `keys()`"
   ]
  },
  {
   "cell_type": "code",
   "execution_count": 20,
   "metadata": {},
   "outputs": [
    {
     "data": {
      "text/plain": [
       "dict_keys(['list', 'dictionary', 'function'])"
      ]
     },
     "execution_count": 20,
     "metadata": {},
     "output_type": "execute_result"
    }
   ],
   "source": [
    "python_words.keys()"
   ]
  },
  {
   "cell_type": "markdown",
   "metadata": {},
   "source": [
    "To access all the values of the dictioanry, one should use method `values` "
   ]
  },
  {
   "cell_type": "code",
   "execution_count": 21,
   "metadata": {},
   "outputs": [
    {
     "data": {
      "text/plain": [
       "dict_values(['A collection of values that are not connected, but have an order.', 'A collection of key-value pairs.', 'A named set of instructions that defines a set of actions in Python.'])"
      ]
     },
     "execution_count": 21,
     "metadata": {},
     "output_type": "execute_result"
    }
   ],
   "source": [
    "python_words.values()"
   ]
  },
  {
   "cell_type": "code",
   "execution_count": 22,
   "metadata": {},
   "outputs": [
    {
     "name": "stdout",
     "output_type": "stream",
     "text": [
      "A collection of key-value pairs. Each key can be used to access its corresponding value.\n"
     ]
    }
   ],
   "source": [
    "# Update/replace one of the meanings.\n",
    "python_words['dictionary'] = 'A collection of key-value pairs. Each key can be used to access its corresponding value.'\n",
    "\n",
    "print(python_words['dictionary'])"
   ]
  },
  {
   "cell_type": "markdown",
   "metadata": {},
   "source": [
    "## Dictionary of Lists"
   ]
  },
  {
   "cell_type": "markdown",
   "metadata": {},
   "source": [
    "Lists can be values of the dictionary too. Then the dictionary looks as follows:"
   ]
  },
  {
   "cell_type": "code",
   "execution_count": 23,
   "metadata": {},
   "outputs": [
    {
     "name": "stdout",
     "output_type": "stream",
     "text": [
      "eric\n",
      "[3, 11, 19, 23, 42]\n",
      "maria\n",
      "[2, 4, 5]\n",
      "willie\n",
      "[5, 35, 120]\n"
     ]
    }
   ],
   "source": [
    "favorite_numbers = {'eric': [3, 11, 19, 23, 42],\n",
    "                    'maria': [2, 4, 5],\n",
    "                    'willie': [5, 35, 120],\n",
    "                    }\n",
    "\n",
    "# Display each person's favorite numbers, i.e., key and value of the dictionary.\n",
    "for name in favorite_numbers:\n",
    "    print(name)\n",
    "    print(favorite_numbers[name])  "
   ]
  },
  {
   "cell_type": "markdown",
   "metadata": {},
   "source": [
    "## Dictionary of Dictionaries"
   ]
  },
  {
   "cell_type": "markdown",
   "metadata": {},
   "source": [
    "Dictionary can be placed as values of the dictionary too. Then the dictionary looks as follows:"
   ]
  },
  {
   "cell_type": "code",
   "execution_count": 24,
   "metadata": {},
   "outputs": [
    {
     "name": "stdout",
     "output_type": "stream",
     "text": [
      "willie:\n",
      "dog\n",
      "True\n",
      "\n",
      "walter:\n",
      "cockroach\n",
      "False\n",
      "\n",
      "peso:\n",
      "dog\n",
      "True\n",
      "\n"
     ]
    }
   ],
   "source": [
    "# This program stores information about pets. For each pet,\n",
    "#   we store the kind of animal, the owner's name, and\n",
    "#   the breed.\n",
    "pets = {'willie': {'kind': 'dog', 'vaccinated': True},\n",
    "        'walter': {'kind': 'cockroach','vaccinated': False},\n",
    "        'peso': {'kind': 'dog', 'vaccinated': True},\n",
    "        }\n",
    "\n",
    "# Let's show all the information for each pet.\n",
    "for pet_name in pets.keys():\n",
    "    print(pet_name + \":\")\n",
    "    print(pets[pet_name]['kind'])\n",
    "    print(pets[pet_name]['vaccinated'])\n",
    "    print (\"\")"
   ]
  },
  {
   "cell_type": "markdown",
   "metadata": {},
   "source": [
    "## Simple Functions "
   ]
  },
  {
   "cell_type": "markdown",
   "metadata": {},
   "source": [
    "Function is a set of actions that we group together, and give a name to. \n",
    "\n",
    "More detail can be found here:\n",
    "- https://github.com/gesiscss/methods_seminar_2020_network_science/blob/master/code/0_preparation/05_introducing_functions.ipynb \n",
    "- https://github.com/gesiscss/methods_seminar_2020_network_science/blob/master/code/0_preparation/06_more_functions.ipynb"
   ]
  },
  {
   "cell_type": "code",
   "execution_count": 25,
   "metadata": {},
   "outputs": [],
   "source": [
    "#Simple function (with a parameter that must be specified and a default parameter that need not be specified)\n",
    "# the first parameter in this example has to be specified, the seconf the sird are default\n",
    "def function_name(parameter_1, parameter_2=2, parameter_3=\"three\"):\n",
    "    result= [parameter_1, parameter_2, parameter_3]\n",
    "    return result"
   ]
  },
  {
   "cell_type": "code",
   "execution_count": 26,
   "metadata": {},
   "outputs": [
    {
     "data": {
      "text/plain": [
       "[1, 2, 'three']"
      ]
     },
     "execution_count": 26,
     "metadata": {},
     "output_type": "execute_result"
    }
   ],
   "source": [
    "function_name(1)"
   ]
  },
  {
   "cell_type": "code",
   "execution_count": 27,
   "metadata": {},
   "outputs": [
    {
     "data": {
      "text/plain": [
       "[1, 2, 'three']"
      ]
     },
     "execution_count": 27,
     "metadata": {},
     "output_type": "execute_result"
    }
   ],
   "source": [
    "function_name(parameter_1=1)"
   ]
  },
  {
   "cell_type": "code",
   "execution_count": 28,
   "metadata": {},
   "outputs": [
    {
     "data": {
      "text/plain": [
       "[1, 100, 'five']"
      ]
     },
     "execution_count": 28,
     "metadata": {},
     "output_type": "execute_result"
    }
   ],
   "source": [
    "function_name(parameter_1=1, parameter_2=100, parameter_3=\"five\")"
   ]
  },
  {
   "cell_type": "code",
   "execution_count": 29,
   "metadata": {},
   "outputs": [
    {
     "data": {
      "text/plain": [
       "[1, 100, 'five']"
      ]
     },
     "execution_count": 29,
     "metadata": {},
     "output_type": "execute_result"
    }
   ],
   "source": [
    "function_name(1, 100, \"five\")"
   ]
  },
  {
   "cell_type": "markdown",
   "metadata": {},
   "source": [
    "## Numpy (Advanced material for self study)"
   ]
  },
  {
   "cell_type": "markdown",
   "metadata": {},
   "source": [
    "NumPy’s main object is the homogeneous multidimensional array. It is a table of elements (usually numbers), all of the same type, indexed by a tuple of non-negative integers. In NumPy dimensions are called axes.\n",
    "\n",
    "This material can be useful for network sampling.\n",
    "\n",
    "You can find more details here https://jakevdp.github.io/PythonDataScienceHandbook/02.01-understanding-data-types.html#Fixed-Type-Arrays-in-Python"
   ]
  },
  {
   "cell_type": "code",
   "execution_count": 30,
   "metadata": {},
   "outputs": [
    {
     "data": {
      "text/plain": [
       "array([[1.5, 2. , 3. ],\n",
       "       [4. , 5. , 6. ]])"
      ]
     },
     "execution_count": 30,
     "metadata": {},
     "output_type": "execute_result"
    }
   ],
   "source": [
    "import numpy as np\n",
    "\n",
    "#array creation\n",
    "a = np.array([2,3,4])\n",
    "\n",
    "b = np.array([(1.5,2,3), (4,5,6)])\n",
    "b"
   ]
  },
  {
   "cell_type": "code",
   "execution_count": 31,
   "metadata": {},
   "outputs": [
    {
     "name": "stdout",
     "output_type": "stream",
     "text": [
      "[[0. 0. 0. 0.]\n",
      " [0. 0. 0. 0.]\n",
      " [0. 0. 0. 0.]]\n"
     ]
    },
    {
     "data": {
      "text/plain": [
       "array([[[1, 1, 1, 1],\n",
       "        [1, 1, 1, 1],\n",
       "        [1, 1, 1, 1]],\n",
       "\n",
       "       [[1, 1, 1, 1],\n",
       "        [1, 1, 1, 1],\n",
       "        [1, 1, 1, 1]]], dtype=int16)"
      ]
     },
     "execution_count": 31,
     "metadata": {},
     "output_type": "execute_result"
    }
   ],
   "source": [
    "#useful numpy functions\n",
    "print (np.zeros((3, 4)))\n",
    "\n",
    "np.ones( (2,3,4), dtype=np.int16 ) "
   ]
  },
  {
   "cell_type": "code",
   "execution_count": 32,
   "metadata": {},
   "outputs": [
    {
     "data": {
      "text/plain": [
       "array([0, 1, 2, 3, 4, 5, 6, 7, 8, 9])"
      ]
     },
     "execution_count": 32,
     "metadata": {},
     "output_type": "execute_result"
    }
   ],
   "source": [
    "np.arange(10) "
   ]
  },
  {
   "cell_type": "code",
   "execution_count": 33,
   "metadata": {},
   "outputs": [
    {
     "data": {
      "text/plain": [
       "array([1, 3, 5, 7, 9])"
      ]
     },
     "execution_count": 33,
     "metadata": {},
     "output_type": "execute_result"
    }
   ],
   "source": [
    "np.arange( 1, 10, 2 )"
   ]
  },
  {
   "cell_type": "markdown",
   "metadata": {},
   "source": [
    "### Basic Operations"
   ]
  },
  {
   "cell_type": "code",
   "execution_count": 34,
   "metadata": {},
   "outputs": [
    {
     "data": {
      "text/plain": [
       "array([-3, -2, -1])"
      ]
     },
     "execution_count": 34,
     "metadata": {},
     "output_type": "execute_result"
    }
   ],
   "source": [
    "a = np.array([2,3,4])\n",
    "a - 5"
   ]
  },
  {
   "cell_type": "code",
   "execution_count": 35,
   "metadata": {},
   "outputs": [
    {
     "data": {
      "text/plain": [
       "array([1, 1, 1])"
      ]
     },
     "execution_count": 35,
     "metadata": {},
     "output_type": "execute_result"
    }
   ],
   "source": [
    "b = np.array([1,2,3])\n",
    "a - b"
   ]
  },
  {
   "cell_type": "code",
   "execution_count": 36,
   "metadata": {},
   "outputs": [
    {
     "data": {
      "text/plain": [
       "array([1, 4, 9])"
      ]
     },
     "execution_count": 36,
     "metadata": {},
     "output_type": "execute_result"
    }
   ],
   "source": [
    "b**2"
   ]
  },
  {
   "cell_type": "code",
   "execution_count": 37,
   "metadata": {},
   "outputs": [
    {
     "data": {
      "text/plain": [
       "array([ True, False, False])"
      ]
     },
     "execution_count": 37,
     "metadata": {},
     "output_type": "execute_result"
    }
   ],
   "source": [
    "a < 3"
   ]
  },
  {
   "cell_type": "code",
   "execution_count": 38,
   "metadata": {},
   "outputs": [
    {
     "data": {
      "text/plain": [
       "18"
      ]
     },
     "execution_count": 38,
     "metadata": {},
     "output_type": "execute_result"
    }
   ],
   "source": [
    "a.dot([2,2,2])#  matrix product"
   ]
  },
  {
   "cell_type": "code",
   "execution_count": 39,
   "metadata": {},
   "outputs": [
    {
     "data": {
      "text/plain": [
       "array([ 2,  6, 12])"
      ]
     },
     "execution_count": 39,
     "metadata": {},
     "output_type": "execute_result"
    }
   ],
   "source": [
    "a * b  # elementwise product"
   ]
  },
  {
   "cell_type": "markdown",
   "metadata": {},
   "source": [
    "### Generate random numbers \n",
    "- Floating-point numbers. \n",
    "```np.random.random(size=integer_or_tuple_here)``` Resulting numbers will be in the range ``[0, 1)``.\n",
    "- Floating-point numbers from the range: \n",
    "    - use `np.random.random()` and then rescale `min + value * (max - min)`,\n",
    "    - sample from uniform distribution `np.random.uniform(low=lowest_boundary, high=upper_boundary,size=output_shape)` Result will be in the range ``[low, high)`` or ``[0, 1)`` by default.\n",
    "- Integers from the range of numbers. \n",
    "```np.random.randint(low=lowest_integer, high=largest_integer, size=output_shape)```\n",
    "Result will be in the range `[low, high)` or `[0, low)` if we do not specify `high`.\n",
    "\n",
    "- How to freez random selection"
   ]
  },
  {
   "cell_type": "code",
   "execution_count": 40,
   "metadata": {},
   "outputs": [
    {
     "data": {
      "text/plain": [
       "0.7274775905909047"
      ]
     },
     "execution_count": 40,
     "metadata": {},
     "output_type": "execute_result"
    }
   ],
   "source": [
    "np.random.random()"
   ]
  },
  {
   "cell_type": "code",
   "execution_count": 41,
   "metadata": {},
   "outputs": [
    {
     "data": {
      "text/plain": [
       "array([0.19603167, 0.06497727, 0.00600115, 0.83192902, 0.58310604])"
      ]
     },
     "execution_count": 41,
     "metadata": {},
     "output_type": "execute_result"
    }
   ],
   "source": [
    "np.random.random(5)"
   ]
  },
  {
   "cell_type": "code",
   "execution_count": 42,
   "metadata": {},
   "outputs": [
    {
     "data": {
      "text/plain": [
       "array([[0.5210381 , 0.90254899, 0.43386784, 0.57198343, 0.18302478],\n",
       "       [0.86055413, 0.81644593, 0.28101564, 0.56042096, 0.19873654]])"
      ]
     },
     "execution_count": 42,
     "metadata": {},
     "output_type": "execute_result"
    }
   ],
   "source": [
    "np.random.random( (2,5) )"
   ]
  },
  {
   "cell_type": "code",
   "execution_count": 43,
   "metadata": {},
   "outputs": [
    {
     "data": {
      "text/plain": [
       "3.724763841886875"
      ]
     },
     "execution_count": 43,
     "metadata": {},
     "output_type": "execute_result"
    }
   ],
   "source": [
    "#random float from range\n",
    "#variant one - use `np.random.random()` and then rescale `min + value * (max - min)`\n",
    "3 + np.random.random()*(10 - 3)"
   ]
  },
  {
   "cell_type": "code",
   "execution_count": 44,
   "metadata": {},
   "outputs": [
    {
     "data": {
      "text/plain": [
       "5.177797544957522"
      ]
     },
     "execution_count": 44,
     "metadata": {},
     "output_type": "execute_result"
    }
   ],
   "source": [
    "#sample from uniform distribution\n",
    "np.random.uniform(5,10)"
   ]
  },
  {
   "cell_type": "code",
   "execution_count": 45,
   "metadata": {},
   "outputs": [
    {
     "data": {
      "text/plain": [
       "array([1, 0, 0, 1, 0, 0, 1, 0, 0, 1])"
      ]
     },
     "execution_count": 45,
     "metadata": {},
     "output_type": "execute_result"
    }
   ],
   "source": [
    "#random integer\n",
    "np.random.randint(2, size=10)"
   ]
  },
  {
   "cell_type": "code",
   "execution_count": 46,
   "metadata": {},
   "outputs": [
    {
     "data": {
      "text/plain": [
       "array([[9, 6, 1, 0, 6],\n",
       "       [1, 3, 4, 6, 0]])"
      ]
     },
     "execution_count": 46,
     "metadata": {},
     "output_type": "execute_result"
    }
   ],
   "source": [
    "#random integers stored in 2x5 array \n",
    "np.random.randint(10, size=(2,5))"
   ]
  },
  {
   "cell_type": "code",
   "execution_count": 47,
   "metadata": {},
   "outputs": [
    {
     "name": "stdout",
     "output_type": "stream",
     "text": [
      "[0.67227856 0.4880784  0.82549517]\n",
      "[0.67227856 0.4880784  0.82549517 0.03144639 0.80804996]\n"
     ]
    }
   ],
   "source": [
    "#use seed to always get the same random values\n",
    "np.random.seed(99) #\n",
    "print (np.random.random(3))\n",
    "np.random.seed(99)\n",
    "print (np.random.random(5))"
   ]
  },
  {
   "cell_type": "markdown",
   "metadata": {},
   "source": [
    "## DataFrames"
   ]
  },
  {
   "cell_type": "markdown",
   "metadata": {},
   "source": [
    "__DataFrames__ are two-dimensional, size-mutable tabular data. Data structure contains labeled axes (rows and columns). Arithmetic operations can be align on both row and column labels. \n",
    "\n",
    "\n",
    "For more information read here https://pandas.pydata.org/pandas-docs/stable/user_guide/indexing.html "
   ]
  },
  {
   "cell_type": "code",
   "execution_count": 48,
   "metadata": {},
   "outputs": [
    {
     "data": {
      "text/html": [
       "<div>\n",
       "<style scoped>\n",
       "    .dataframe tbody tr th:only-of-type {\n",
       "        vertical-align: middle;\n",
       "    }\n",
       "\n",
       "    .dataframe tbody tr th {\n",
       "        vertical-align: top;\n",
       "    }\n",
       "\n",
       "    .dataframe thead th {\n",
       "        text-align: right;\n",
       "    }\n",
       "</style>\n",
       "<table border=\"1\" class=\"dataframe\">\n",
       "  <thead>\n",
       "    <tr style=\"text-align: right;\">\n",
       "      <th></th>\n",
       "      <th>A</th>\n",
       "      <th>B</th>\n",
       "      <th>C</th>\n",
       "      <th>D</th>\n",
       "    </tr>\n",
       "  </thead>\n",
       "  <tbody>\n",
       "    <tr>\n",
       "      <th>0</th>\n",
       "      <td>0.565617</td>\n",
       "      <td>0.297622</td>\n",
       "      <td>0.046696</td>\n",
       "      <td>0.990627</td>\n",
       "    </tr>\n",
       "    <tr>\n",
       "      <th>1</th>\n",
       "      <td>0.006826</td>\n",
       "      <td>0.769793</td>\n",
       "      <td>0.746767</td>\n",
       "      <td>0.377439</td>\n",
       "    </tr>\n",
       "    <tr>\n",
       "      <th>2</th>\n",
       "      <td>0.494147</td>\n",
       "      <td>0.928948</td>\n",
       "      <td>0.395454</td>\n",
       "      <td>0.973956</td>\n",
       "    </tr>\n",
       "    <tr>\n",
       "      <th>3</th>\n",
       "      <td>0.524415</td>\n",
       "      <td>0.093613</td>\n",
       "      <td>0.813308</td>\n",
       "      <td>0.211687</td>\n",
       "    </tr>\n",
       "    <tr>\n",
       "      <th>4</th>\n",
       "      <td>0.554346</td>\n",
       "      <td>0.292269</td>\n",
       "      <td>0.816142</td>\n",
       "      <td>0.828043</td>\n",
       "    </tr>\n",
       "  </tbody>\n",
       "</table>\n",
       "</div>"
      ],
      "text/plain": [
       "          A         B         C         D\n",
       "0  0.565617  0.297622  0.046696  0.990627\n",
       "1  0.006826  0.769793  0.746767  0.377439\n",
       "2  0.494147  0.928948  0.395454  0.973956\n",
       "3  0.524415  0.093613  0.813308  0.211687\n",
       "4  0.554346  0.292269  0.816142  0.828043"
      ]
     },
     "execution_count": 48,
     "metadata": {},
     "output_type": "execute_result"
    }
   ],
   "source": [
    "import pandas as pd \n",
    "import numpy as np\n",
    "\n",
    "df=pd.DataFrame(np.random.random( (5,4) ), index=range(5), columns=[\"A\",\"B\",\"C\",\"D\"])\n",
    "df"
   ]
  },
  {
   "cell_type": "markdown",
   "metadata": {},
   "source": [
    "### Accessing columns"
   ]
  },
  {
   "cell_type": "code",
   "execution_count": 49,
   "metadata": {},
   "outputs": [
    {
     "data": {
      "text/plain": [
       "0    0.565617\n",
       "1    0.006826\n",
       "2    0.494147\n",
       "3    0.524415\n",
       "4    0.554346\n",
       "Name: A, dtype: float64"
      ]
     },
     "execution_count": 49,
     "metadata": {},
     "output_type": "execute_result"
    }
   ],
   "source": [
    "#to access the column you should use [] with the name of the column between them\n",
    "df[\"A\"]"
   ]
  },
  {
   "cell_type": "code",
   "execution_count": 50,
   "metadata": {},
   "outputs": [
    {
     "data": {
      "text/html": [
       "<div>\n",
       "<style scoped>\n",
       "    .dataframe tbody tr th:only-of-type {\n",
       "        vertical-align: middle;\n",
       "    }\n",
       "\n",
       "    .dataframe tbody tr th {\n",
       "        vertical-align: top;\n",
       "    }\n",
       "\n",
       "    .dataframe thead th {\n",
       "        text-align: right;\n",
       "    }\n",
       "</style>\n",
       "<table border=\"1\" class=\"dataframe\">\n",
       "  <thead>\n",
       "    <tr style=\"text-align: right;\">\n",
       "      <th></th>\n",
       "      <th>A</th>\n",
       "      <th>B</th>\n",
       "    </tr>\n",
       "  </thead>\n",
       "  <tbody>\n",
       "    <tr>\n",
       "      <th>0</th>\n",
       "      <td>0.565617</td>\n",
       "      <td>0.297622</td>\n",
       "    </tr>\n",
       "    <tr>\n",
       "      <th>1</th>\n",
       "      <td>0.006826</td>\n",
       "      <td>0.769793</td>\n",
       "    </tr>\n",
       "    <tr>\n",
       "      <th>2</th>\n",
       "      <td>0.494147</td>\n",
       "      <td>0.928948</td>\n",
       "    </tr>\n",
       "    <tr>\n",
       "      <th>3</th>\n",
       "      <td>0.524415</td>\n",
       "      <td>0.093613</td>\n",
       "    </tr>\n",
       "    <tr>\n",
       "      <th>4</th>\n",
       "      <td>0.554346</td>\n",
       "      <td>0.292269</td>\n",
       "    </tr>\n",
       "  </tbody>\n",
       "</table>\n",
       "</div>"
      ],
      "text/plain": [
       "          A         B\n",
       "0  0.565617  0.297622\n",
       "1  0.006826  0.769793\n",
       "2  0.494147  0.928948\n",
       "3  0.524415  0.093613\n",
       "4  0.554346  0.292269"
      ]
     },
     "execution_count": 50,
     "metadata": {},
     "output_type": "execute_result"
    }
   ],
   "source": [
    "#to acess more than one column use [[]]\n",
    "df[[\"A\",\"B\"]]"
   ]
  },
  {
   "cell_type": "code",
   "execution_count": 51,
   "metadata": {},
   "outputs": [
    {
     "data": {
      "text/plain": [
       "0.9289483920955792"
      ]
     },
     "execution_count": 51,
     "metadata": {},
     "output_type": "execute_result"
    }
   ],
   "source": [
    "#to access elemnt of the column use `df[column_name][row_index]`\n",
    "df[\"B\"][2] "
   ]
  },
  {
   "cell_type": "markdown",
   "metadata": {},
   "source": [
    "Access row and column with .loc  `df.loc[row_index,column_name]`\n",
    "\n",
    "This variant is prefereable and faster than `df[column_name][row_index]`"
   ]
  },
  {
   "cell_type": "code",
   "execution_count": 52,
   "metadata": {},
   "outputs": [
    {
     "data": {
      "text/plain": [
       "C    0.395454\n",
       "D    0.973956\n",
       "Name: 2, dtype: float64"
      ]
     },
     "execution_count": 52,
     "metadata": {},
     "output_type": "execute_result"
    }
   ],
   "source": [
    "df.loc[2,[\"C\",\"D\"]]"
   ]
  },
  {
   "cell_type": "code",
   "execution_count": 53,
   "metadata": {},
   "outputs": [
    {
     "data": {
      "text/html": [
       "<div>\n",
       "<style scoped>\n",
       "    .dataframe tbody tr th:only-of-type {\n",
       "        vertical-align: middle;\n",
       "    }\n",
       "\n",
       "    .dataframe tbody tr th {\n",
       "        vertical-align: top;\n",
       "    }\n",
       "\n",
       "    .dataframe thead th {\n",
       "        text-align: right;\n",
       "    }\n",
       "</style>\n",
       "<table border=\"1\" class=\"dataframe\">\n",
       "  <thead>\n",
       "    <tr style=\"text-align: right;\">\n",
       "      <th></th>\n",
       "      <th>A</th>\n",
       "      <th>B</th>\n",
       "      <th>C</th>\n",
       "    </tr>\n",
       "  </thead>\n",
       "  <tbody>\n",
       "    <tr>\n",
       "      <th>0</th>\n",
       "      <td>0.565617</td>\n",
       "      <td>0.297622</td>\n",
       "      <td>0.046696</td>\n",
       "    </tr>\n",
       "    <tr>\n",
       "      <th>1</th>\n",
       "      <td>0.006826</td>\n",
       "      <td>0.769793</td>\n",
       "      <td>0.746767</td>\n",
       "    </tr>\n",
       "    <tr>\n",
       "      <th>2</th>\n",
       "      <td>0.494147</td>\n",
       "      <td>0.928948</td>\n",
       "      <td>0.395454</td>\n",
       "    </tr>\n",
       "  </tbody>\n",
       "</table>\n",
       "</div>"
      ],
      "text/plain": [
       "          A         B         C\n",
       "0  0.565617  0.297622  0.046696\n",
       "1  0.006826  0.769793  0.746767\n",
       "2  0.494147  0.928948  0.395454"
      ]
     },
     "execution_count": 53,
     "metadata": {},
     "output_type": "execute_result"
    }
   ],
   "source": [
    "df.loc[:2,:\"C\"]"
   ]
  },
  {
   "cell_type": "code",
   "execution_count": 54,
   "metadata": {},
   "outputs": [
    {
     "data": {
      "text/html": [
       "<div>\n",
       "<style scoped>\n",
       "    .dataframe tbody tr th:only-of-type {\n",
       "        vertical-align: middle;\n",
       "    }\n",
       "\n",
       "    .dataframe tbody tr th {\n",
       "        vertical-align: top;\n",
       "    }\n",
       "\n",
       "    .dataframe thead th {\n",
       "        text-align: right;\n",
       "    }\n",
       "</style>\n",
       "<table border=\"1\" class=\"dataframe\">\n",
       "  <thead>\n",
       "    <tr style=\"text-align: right;\">\n",
       "      <th></th>\n",
       "      <th>A</th>\n",
       "      <th>B</th>\n",
       "      <th>C</th>\n",
       "      <th>D</th>\n",
       "    </tr>\n",
       "  </thead>\n",
       "  <tbody>\n",
       "    <tr>\n",
       "      <th>0</th>\n",
       "      <td>dog</td>\n",
       "      <td>0.297622</td>\n",
       "      <td>0.046696</td>\n",
       "      <td>0.990627</td>\n",
       "    </tr>\n",
       "    <tr>\n",
       "      <th>1</th>\n",
       "      <td>cat</td>\n",
       "      <td>0.769793</td>\n",
       "      <td>0.746767</td>\n",
       "      <td>0.377439</td>\n",
       "    </tr>\n",
       "    <tr>\n",
       "      <th>2</th>\n",
       "      <td>dog</td>\n",
       "      <td>0.928948</td>\n",
       "      <td>0.395454</td>\n",
       "      <td>0.973956</td>\n",
       "    </tr>\n",
       "    <tr>\n",
       "      <th>3</th>\n",
       "      <td>cat</td>\n",
       "      <td>0.093613</td>\n",
       "      <td>0.813308</td>\n",
       "      <td>0.211687</td>\n",
       "    </tr>\n",
       "    <tr>\n",
       "      <th>4</th>\n",
       "      <td>cat</td>\n",
       "      <td>0.292269</td>\n",
       "      <td>0.816142</td>\n",
       "      <td>0.828043</td>\n",
       "    </tr>\n",
       "  </tbody>\n",
       "</table>\n",
       "</div>"
      ],
      "text/plain": [
       "     A         B         C         D\n",
       "0  dog  0.297622  0.046696  0.990627\n",
       "1  cat  0.769793  0.746767  0.377439\n",
       "2  dog  0.928948  0.395454  0.973956\n",
       "3  cat  0.093613  0.813308  0.211687\n",
       "4  cat  0.292269  0.816142  0.828043"
      ]
     },
     "execution_count": 54,
     "metadata": {},
     "output_type": "execute_result"
    }
   ],
   "source": [
    "df.loc[:,\"A\"] = [\"dog\", \"cat\", \"dog\",\"cat\",\"cat\"]\n",
    "df"
   ]
  },
  {
   "cell_type": "markdown",
   "metadata": {},
   "source": [
    "### Groupby "
   ]
  },
  {
   "cell_type": "markdown",
   "metadata": {},
   "source": [
    "Method `groupby()` is used to  group the data by column or row, or by several columns and rows. After function `groupby()` is called, you should add a function applied to the grouped data. In the following examples we will show functions `sum()`and `mean()`.\n",
    "\n",
    "For more details \n",
    "- https://pandas.pydata.org/pandas-docs/stable/reference/api/pandas.DataFrame.groupby.html \n",
    "- https://pandas.pydata.org/pandas-docs/stable/user_guide/groupby.html "
   ]
  },
  {
   "cell_type": "code",
   "execution_count": 55,
   "metadata": {},
   "outputs": [
    {
     "data": {
      "text/html": [
       "<div>\n",
       "<style scoped>\n",
       "    .dataframe tbody tr th:only-of-type {\n",
       "        vertical-align: middle;\n",
       "    }\n",
       "\n",
       "    .dataframe tbody tr th {\n",
       "        vertical-align: top;\n",
       "    }\n",
       "\n",
       "    .dataframe thead th {\n",
       "        text-align: right;\n",
       "    }\n",
       "</style>\n",
       "<table border=\"1\" class=\"dataframe\">\n",
       "  <thead>\n",
       "    <tr style=\"text-align: right;\">\n",
       "      <th></th>\n",
       "      <th>B</th>\n",
       "      <th>C</th>\n",
       "      <th>D</th>\n",
       "    </tr>\n",
       "    <tr>\n",
       "      <th>A</th>\n",
       "      <th></th>\n",
       "      <th></th>\n",
       "      <th></th>\n",
       "    </tr>\n",
       "  </thead>\n",
       "  <tbody>\n",
       "    <tr>\n",
       "      <th>cat</th>\n",
       "      <td>1.155675</td>\n",
       "      <td>2.376218</td>\n",
       "      <td>1.417168</td>\n",
       "    </tr>\n",
       "    <tr>\n",
       "      <th>dog</th>\n",
       "      <td>1.226571</td>\n",
       "      <td>0.442150</td>\n",
       "      <td>1.964584</td>\n",
       "    </tr>\n",
       "  </tbody>\n",
       "</table>\n",
       "</div>"
      ],
      "text/plain": [
       "            B         C         D\n",
       "A                                \n",
       "cat  1.155675  2.376218  1.417168\n",
       "dog  1.226571  0.442150  1.964584"
      ]
     },
     "execution_count": 55,
     "metadata": {},
     "output_type": "execute_result"
    }
   ],
   "source": [
    "df.groupby([\"A\"]).sum()"
   ]
  },
  {
   "cell_type": "code",
   "execution_count": 56,
   "metadata": {},
   "outputs": [
    {
     "data": {
      "text/html": [
       "<div>\n",
       "<style scoped>\n",
       "    .dataframe tbody tr th:only-of-type {\n",
       "        vertical-align: middle;\n",
       "    }\n",
       "\n",
       "    .dataframe tbody tr th {\n",
       "        vertical-align: top;\n",
       "    }\n",
       "\n",
       "    .dataframe thead th {\n",
       "        text-align: right;\n",
       "    }\n",
       "</style>\n",
       "<table border=\"1\" class=\"dataframe\">\n",
       "  <thead>\n",
       "    <tr style=\"text-align: right;\">\n",
       "      <th></th>\n",
       "      <th>B</th>\n",
       "      <th>C</th>\n",
       "      <th>D</th>\n",
       "    </tr>\n",
       "    <tr>\n",
       "      <th>A</th>\n",
       "      <th></th>\n",
       "      <th></th>\n",
       "      <th></th>\n",
       "    </tr>\n",
       "  </thead>\n",
       "  <tbody>\n",
       "    <tr>\n",
       "      <th>cat</th>\n",
       "      <td>0.385225</td>\n",
       "      <td>0.792073</td>\n",
       "      <td>0.472389</td>\n",
       "    </tr>\n",
       "    <tr>\n",
       "      <th>dog</th>\n",
       "      <td>0.613285</td>\n",
       "      <td>0.221075</td>\n",
       "      <td>0.982292</td>\n",
       "    </tr>\n",
       "  </tbody>\n",
       "</table>\n",
       "</div>"
      ],
      "text/plain": [
       "            B         C         D\n",
       "A                                \n",
       "cat  0.385225  0.792073  0.472389\n",
       "dog  0.613285  0.221075  0.982292"
      ]
     },
     "execution_count": 56,
     "metadata": {},
     "output_type": "execute_result"
    }
   ],
   "source": [
    "df.groupby([\"A\"]).mean()"
   ]
  },
  {
   "cell_type": "markdown",
   "metadata": {},
   "source": [
    "The list of usefull aggregation functions. \n",
    "\n",
    "| __Function__ | __Description__|\n",
    "| --- | --- |\n",
    "| __mean()__ | Compute mean of groups |\n",
    "| __sum()__ |Compute sum of group values |\n",
    "| __size()__ |Compute group sizes\n",
    "| __count()__ | Compute count of group |\n",
    "| __std()__ | Standard deviation of groups |\n",
    "| __var()__ | Compute variance of groups |\n",
    "| __sem()__ | Standard error of the mean of groups |\n",
    "| __describe()__ | Generates descriptive statistics |\n",
    "| __first()__ | Compute first of group values |\n",
    "| __last()__ | Compute last of group values |\n",
    "| __nth()__ | Take nth value, or a subset if n is a list |\n",
    "| __min()__ | Compute min of group values |\n",
    "| __max()__ | Compute max of group values |"
   ]
  },
  {
   "cell_type": "markdown",
   "metadata": {},
   "source": [
    "### Join DataFrames"
   ]
  },
  {
   "cell_type": "markdown",
   "metadata": {},
   "source": [
    "Function `merge`is used to join two DataFrames. It has the following structure: \n",
    "\n",
    "`pd.merge(left_DataFrame_name, right_DataFrame_name, how=\"type_of_merge\", on=\"column_name_to_join_on\", ...)`\n",
    "\n",
    "where `how` can be one out of `\"left\",\"right\",\"outer\",\"inner\"`, _default_ is `\"inner\"`\n",
    "\n",
    "More details here: \n",
    "- https://pandas.pydata.org/pandas-docs/stable/reference/api/pandas.merge.html\n",
    "- https://pandas.pydata.org/pandas-docs/stable/user_guide/merging.html"
   ]
  },
  {
   "cell_type": "code",
   "execution_count": 57,
   "metadata": {},
   "outputs": [
    {
     "data": {
      "text/html": [
       "<div>\n",
       "<style scoped>\n",
       "    .dataframe tbody tr th:only-of-type {\n",
       "        vertical-align: middle;\n",
       "    }\n",
       "\n",
       "    .dataframe tbody tr th {\n",
       "        vertical-align: top;\n",
       "    }\n",
       "\n",
       "    .dataframe thead th {\n",
       "        text-align: right;\n",
       "    }\n",
       "</style>\n",
       "<table border=\"1\" class=\"dataframe\">\n",
       "  <thead>\n",
       "    <tr style=\"text-align: right;\">\n",
       "      <th></th>\n",
       "      <th>A</th>\n",
       "      <th>E</th>\n",
       "      <th>F</th>\n",
       "    </tr>\n",
       "  </thead>\n",
       "  <tbody>\n",
       "    <tr>\n",
       "      <th>0</th>\n",
       "      <td>dog</td>\n",
       "      <td>0.644835</td>\n",
       "      <td>0.095182</td>\n",
       "    </tr>\n",
       "    <tr>\n",
       "      <th>1</th>\n",
       "      <td>cat</td>\n",
       "      <td>0.096865</td>\n",
       "      <td>0.144011</td>\n",
       "    </tr>\n",
       "    <tr>\n",
       "      <th>2</th>\n",
       "      <td>duck</td>\n",
       "      <td>0.476656</td>\n",
       "      <td>0.077614</td>\n",
       "    </tr>\n",
       "    <tr>\n",
       "      <th>3</th>\n",
       "      <td>hose</td>\n",
       "      <td>0.006553</td>\n",
       "      <td>0.898644</td>\n",
       "    </tr>\n",
       "    <tr>\n",
       "      <th>4</th>\n",
       "      <td>rabit</td>\n",
       "      <td>0.167547</td>\n",
       "      <td>0.928878</td>\n",
       "    </tr>\n",
       "  </tbody>\n",
       "</table>\n",
       "</div>"
      ],
      "text/plain": [
       "       A         E         F\n",
       "0    dog  0.644835  0.095182\n",
       "1    cat  0.096865  0.144011\n",
       "2   duck  0.476656  0.077614\n",
       "3   hose  0.006553  0.898644\n",
       "4  rabit  0.167547  0.928878"
      ]
     },
     "execution_count": 57,
     "metadata": {},
     "output_type": "execute_result"
    }
   ],
   "source": [
    "# Let's create DataFrame with 3 columns\n",
    "df2 = pd.DataFrame(np.random.random( (5,3) ), index=range(5), columns=[\"A\",\"E\",\"F\"])\n",
    "df2.loc[:,\"A\"]=[\"dog\",\"cat\",\"duck\", \"hose\",\"rabit\"]\n",
    "df2"
   ]
  },
  {
   "cell_type": "code",
   "execution_count": 58,
   "metadata": {},
   "outputs": [
    {
     "data": {
      "text/html": [
       "<div>\n",
       "<style scoped>\n",
       "    .dataframe tbody tr th:only-of-type {\n",
       "        vertical-align: middle;\n",
       "    }\n",
       "\n",
       "    .dataframe tbody tr th {\n",
       "        vertical-align: top;\n",
       "    }\n",
       "\n",
       "    .dataframe thead th {\n",
       "        text-align: right;\n",
       "    }\n",
       "</style>\n",
       "<table border=\"1\" class=\"dataframe\">\n",
       "  <thead>\n",
       "    <tr style=\"text-align: right;\">\n",
       "      <th></th>\n",
       "      <th>A</th>\n",
       "      <th>B</th>\n",
       "      <th>C</th>\n",
       "      <th>D</th>\n",
       "      <th>E</th>\n",
       "      <th>F</th>\n",
       "    </tr>\n",
       "  </thead>\n",
       "  <tbody>\n",
       "    <tr>\n",
       "      <th>0</th>\n",
       "      <td>dog</td>\n",
       "      <td>0.297622</td>\n",
       "      <td>0.046696</td>\n",
       "      <td>0.990627</td>\n",
       "      <td>0.644835</td>\n",
       "      <td>0.095182</td>\n",
       "    </tr>\n",
       "    <tr>\n",
       "      <th>1</th>\n",
       "      <td>dog</td>\n",
       "      <td>0.928948</td>\n",
       "      <td>0.395454</td>\n",
       "      <td>0.973956</td>\n",
       "      <td>0.644835</td>\n",
       "      <td>0.095182</td>\n",
       "    </tr>\n",
       "    <tr>\n",
       "      <th>2</th>\n",
       "      <td>cat</td>\n",
       "      <td>0.769793</td>\n",
       "      <td>0.746767</td>\n",
       "      <td>0.377439</td>\n",
       "      <td>0.096865</td>\n",
       "      <td>0.144011</td>\n",
       "    </tr>\n",
       "    <tr>\n",
       "      <th>3</th>\n",
       "      <td>cat</td>\n",
       "      <td>0.093613</td>\n",
       "      <td>0.813308</td>\n",
       "      <td>0.211687</td>\n",
       "      <td>0.096865</td>\n",
       "      <td>0.144011</td>\n",
       "    </tr>\n",
       "    <tr>\n",
       "      <th>4</th>\n",
       "      <td>cat</td>\n",
       "      <td>0.292269</td>\n",
       "      <td>0.816142</td>\n",
       "      <td>0.828043</td>\n",
       "      <td>0.096865</td>\n",
       "      <td>0.144011</td>\n",
       "    </tr>\n",
       "  </tbody>\n",
       "</table>\n",
       "</div>"
      ],
      "text/plain": [
       "     A         B         C         D         E         F\n",
       "0  dog  0.297622  0.046696  0.990627  0.644835  0.095182\n",
       "1  dog  0.928948  0.395454  0.973956  0.644835  0.095182\n",
       "2  cat  0.769793  0.746767  0.377439  0.096865  0.144011\n",
       "3  cat  0.093613  0.813308  0.211687  0.096865  0.144011\n",
       "4  cat  0.292269  0.816142  0.828043  0.096865  0.144011"
      ]
     },
     "execution_count": 58,
     "metadata": {},
     "output_type": "execute_result"
    }
   ],
   "source": [
    "#merge on column A\n",
    "pd.merge(df, df2,on=\"A\")"
   ]
  },
  {
   "cell_type": "markdown",
   "metadata": {},
   "source": [
    "Further details you can find here https://pandas.pydata.org/pandas-docs/stable/reference/api/pandas.merge.html "
   ]
  },
  {
   "cell_type": "markdown",
   "metadata": {},
   "source": [
    "# Data Structures used for NetworkX"
   ]
  },
  {
   "cell_type": "markdown",
   "metadata": {},
   "source": [
    "In the following subsection we will create the following graph"
   ]
  },
  {
   "attachments": {
    "grafik.png": {
     "image/png": "[encoded data removed]"
    }
   },
   "cell_type": "markdown",
   "metadata": {},
   "source": [
    "![grafik.png](attachment:grafik.png)"
   ]
  },
  {
   "cell_type": "markdown",
   "metadata": {},
   "source": [
    "To create the graph, we first define it by `nx.Graph()` from the library networkX. Then we will use different methods to add nodes and edges. \n",
    "\n",
    "More detail can be found here https://networkx.github.io/documentation/stable/tutorial.html"
   ]
  },
  {
   "cell_type": "code",
   "execution_count": 59,
   "metadata": {},
   "outputs": [],
   "source": [
    "import networkx as nx\n",
    "\n",
    "G=nx.Graph()"
   ]
  },
  {
   "cell_type": "markdown",
   "metadata": {},
   "source": [
    "Adding nodes:"
   ]
  },
  {
   "cell_type": "code",
   "execution_count": 60,
   "metadata": {},
   "outputs": [],
   "source": [
    "G.add_node(0)\n",
    "\n",
    "G.add_nodes_from([1, 2, 3])"
   ]
  },
  {
   "cell_type": "markdown",
   "metadata": {},
   "source": [
    "To show information about our network, we will use `info()` (the result will contain graph name and type, number of nodes and edges), `nodes()` (to list all the nodes), and `edges()` (to show all the edges).  "
   ]
  },
  {
   "cell_type": "code",
   "execution_count": 61,
   "metadata": {},
   "outputs": [
    {
     "name": "stdout",
     "output_type": "stream",
     "text": [
      "Name: \n",
      "Type: Graph\n",
      "Number of nodes: 4\n",
      "Number of edges: 0\n",
      "Average degree:   0.0000\n",
      "[0, 1, 2, 3]\n",
      "[]\n"
     ]
    }
   ],
   "source": [
    "print(nx.info(G))\n",
    "print(G.nodes())\n",
    "print(G.edges())"
   ]
  },
  {
   "cell_type": "markdown",
   "metadata": {},
   "source": [
    "Adding edges:"
   ]
  },
  {
   "cell_type": "code",
   "execution_count": 62,
   "metadata": {},
   "outputs": [
    {
     "name": "stdout",
     "output_type": "stream",
     "text": [
      "Name: \n",
      "Type: Graph\n",
      "Number of nodes: 4\n",
      "Number of edges: 3\n",
      "Average degree:   1.5000\n",
      "[0, 1, 2, 3]\n",
      "[(0, 1), (0, 2), (2, 3)]\n"
     ]
    }
   ],
   "source": [
    "G.add_edge(0, 1)\n",
    "\n",
    "e = (0, 2)\n",
    "G.add_edge(*e)  # unpack edge tuple*\n",
    "\n",
    "G.add_edges_from([(0, 2), (2, 3)])\n",
    "\n",
    "print(nx.info(G))\n",
    "print(G.nodes())\n",
    "print(G.edges())"
   ]
  },
  {
   "cell_type": "markdown",
   "metadata": {},
   "source": [
    "To clear the graph, we use the method `clear()`"
   ]
  },
  {
   "cell_type": "code",
   "execution_count": 63,
   "metadata": {},
   "outputs": [
    {
     "name": "stdout",
     "output_type": "stream",
     "text": [
      "Name: \n",
      "Type: Graph\n",
      "Number of nodes: 0\n",
      "Number of edges: 0\n",
      "\n",
      "[]\n",
      "[]\n"
     ]
    }
   ],
   "source": [
    "G.clear()\n",
    "\n",
    "print(nx.info(G))\n",
    "print(G.nodes())\n",
    "print(G.edges())"
   ]
  },
  {
   "cell_type": "markdown",
   "metadata": {},
   "source": [
    "## Advanced adding of nodes and edges"
   ]
  },
  {
   "cell_type": "code",
   "execution_count": 64,
   "metadata": {},
   "outputs": [
    {
     "name": "stdout",
     "output_type": "stream",
     "text": [
      "Name: \n",
      "Type: Graph\n",
      "Number of nodes: 10\n",
      "Number of edges: 9\n",
      "Average degree:   1.8000\n",
      "[0, 1, 2, 3, 4, 5, 6, 7, 8, 9]\n",
      "[(0, 1), (1, 2), (2, 3), (3, 4), (4, 5), (5, 6), (6, 7), (7, 8), (8, 9)]\n"
     ]
    }
   ],
   "source": [
    "#adding edges from other graph\n",
    "H = nx.path_graph(10)\n",
    "G.add_edges_from(H.edges)\n",
    "\n",
    "\n",
    "print(nx.info(G))\n",
    "print(G.nodes())\n",
    "print(G.edges())"
   ]
  },
  {
   "cell_type": "code",
   "execution_count": 65,
   "metadata": {},
   "outputs": [
    {
     "name": "stdout",
     "output_type": "stream",
     "text": [
      "Name: \n",
      "Type: Graph\n",
      "Number of nodes: 8\n",
      "Number of edges: 4\n",
      "Average degree:   1.0000\n",
      "[0, 1, 2, 3, 'abc', 'a', 'b', 'c']\n",
      "[(0, 1), (0, 2), (2, 3), (3, 'c')]\n"
     ]
    }
   ],
   "source": [
    "G.clear()\n",
    "\n",
    "#adding edges from list of tuples\n",
    "G.add_edges_from([(0, 1), (0, 2), (2, 3)])\n",
    "#add node from the string\n",
    "G.add_node(\"abc\")        # adds node \"abcd\"\n",
    "G.add_nodes_from(\"abc\")  # adds 4 nodes: 'a', 'b', 'c', 'd'\n",
    "G.add_edge(3, 'c')\n",
    "\n",
    "print(nx.info(G))\n",
    "print(G.nodes())\n",
    "print(G.edges())"
   ]
  },
  {
   "cell_type": "markdown",
   "metadata": {},
   "source": [
    "This graph would look like this: "
   ]
  },
  {
   "attachments": {
    "grafik.png": {
     "image/png": "[encoded data removed]"
    }
   },
   "cell_type": "markdown",
   "metadata": {},
   "source": [
    "![grafik.png](attachment:grafik.png)"
   ]
  },
  {
   "cell_type": "markdown",
   "metadata": {},
   "source": [
    "## Accessing nodes, edges and neighbors"
   ]
  },
  {
   "cell_type": "markdown",
   "metadata": {},
   "source": [
    "More detail here https://networkx.github.io/documentation/stable/tutorial.html#examining-elements-of-a-graph "
   ]
  },
  {
   "cell_type": "code",
   "execution_count": 66,
   "metadata": {},
   "outputs": [
    {
     "name": "stdout",
     "output_type": "stream",
     "text": [
      "[0, 1, 2, 3, 'abc', 'a', 'b', 'c']\n",
      "[(0, 1), (0, 2), (2, 3), (3, 'c')]\n",
      "[(2, 0), (2, 3), (3, 'c')]\n",
      "{1: {}, 2: {}}\n",
      "2\n"
     ]
    },
    {
     "data": {
      "text/plain": [
       "DegreeView({2: 2, 3: 2})"
      ]
     },
     "execution_count": 66,
     "metadata": {},
     "output_type": "execute_result"
    }
   ],
   "source": [
    "print(G.nodes())\n",
    "\n",
    "print(G.edges)\n",
    "\n",
    "print (G.edges([2, 3])) #access edge between 2 and 3\n",
    "\n",
    "print(G.adj[0])  # or list(G.neighbors(0)) show neighbors of the node\n",
    "\n",
    "print(G.degree[0])  # the number of edges incident to 0\n",
    "\n",
    "G.degree([2, 3]) # show degree of the nodes 2 and 3"
   ]
  },
  {
   "cell_type": "markdown",
   "metadata": {},
   "source": [
    "NetworkX uses a “dictionary of dictionaries of dictionaries” as the basic network data structure.\n",
    "\n",
    "`{Node: {neighbor_1: {_attributes_}, neighbor_2: {_attributes_}, ...}`\n",
    "\n",
    "`G[Node]` returns dictionary of neighbors of the node `Node`\n",
    "\n",
    "`G[Node][neighbor_1]` returns dictionary of attributes of `neighbor_1` of the node `Node`\n",
    "\n",
    "\n",
    "From the networkx documentation: \n",
    "> \"This allows fast lookup with reasonable storage for large sparse networks. The keys are nodes so `G[u]` returns an adjacency dictionary keyed by neighbor to the edge attribute dictionary. ... The expression `G[u][v]` returns the edge attribute dictionary itself. ... A dictionary of lists would have also been possible, but not allow fast edge detection nor convenient storage of edge data.\""
   ]
  },
  {
   "cell_type": "code",
   "execution_count": 67,
   "metadata": {},
   "outputs": [
    {
     "name": "stdout",
     "output_type": "stream",
     "text": [
      "{1: {}, 2: {}}\n",
      "{}\n"
     ]
    },
    {
     "data": {
      "text/plain": [
       "{}"
      ]
     },
     "execution_count": 67,
     "metadata": {},
     "output_type": "execute_result"
    }
   ],
   "source": [
    "#access neighbors (adjacent nodes) of node 0\n",
    "print (G[0])  # same as G.adj[0]\n",
    "\n",
    "#access edge 0-2\n",
    "print (G[0][2])\n",
    "#OR\n",
    "G.edges[0, 2]"
   ]
  },
  {
   "cell_type": "markdown",
   "metadata": {},
   "source": [
    "From the networkx documentation: \n",
    "> A view of the adjacency data structure is provided by the dict-like object `G.adj` as e.g. \n",
    "`for node, nbrsdict in G.adj.items():`. "
   ]
  },
  {
   "cell_type": "code",
   "execution_count": 68,
   "metadata": {},
   "outputs": [
    {
     "name": "stdout",
     "output_type": "stream",
     "text": [
      "Node 0 has following neighbors: {1: {}, 2: {}}\n",
      "Node 1 has following neighbors: {0: {}}\n",
      "Node 2 has following neighbors: {0: {}, 3: {}}\n",
      "Node 3 has following neighbors: {2: {}, 'c': {}}\n",
      "Node abc has following neighbors: {}\n",
      "Node a has following neighbors: {}\n",
      "Node b has following neighbors: {}\n",
      "Node c has following neighbors: {3: {}}\n"
     ]
    }
   ],
   "source": [
    "#iterate over the nodes' neighbors\n",
    "for node, neighbors in G.adjacency():# or G.adj.items()\n",
    "    print (\"Node\",node,\"has following neighbors:\",neighbors) "
   ]
  },
  {
   "cell_type": "markdown",
   "metadata": {},
   "source": [
    "To iterate over the edges use `G.edges()`"
   ]
  },
  {
   "cell_type": "markdown",
   "metadata": {},
   "source": [
    "### Remove nodes and edges (Advanced)"
   ]
  },
  {
   "cell_type": "markdown",
   "metadata": {},
   "source": [
    "More details here https://networkx.github.io/documentation/stable/tutorial.html#removing-elements-from-a-graph "
   ]
  },
  {
   "cell_type": "code",
   "execution_count": 69,
   "metadata": {},
   "outputs": [
    {
     "name": "stdout",
     "output_type": "stream",
     "text": [
      "[0, 1, 2, 3]\n",
      "Name: \n",
      "Type: Graph\n",
      "Number of nodes: 4\n",
      "Number of edges: 0\n",
      "Average degree:   0.0000\n",
      "[0, 1, 2, 3]\n",
      "[]\n"
     ]
    }
   ],
   "source": [
    "G.remove_node(\"abc\")\n",
    "G.remove_nodes_from(\"abc\")\n",
    "print (list(G.nodes))\n",
    "\n",
    "G.remove_edge(2, 3)\n",
    "G.remove_edges_from([(0,1),(0,2)])\n",
    "\n",
    "print(nx.info(G))\n",
    "print(G.nodes())\n",
    "print(G.edges())"
   ]
  },
  {
   "cell_type": "markdown",
   "metadata": {},
   "source": [
    "## Using the graph constructors"
   ]
  },
  {
   "cell_type": "markdown",
   "metadata": {},
   "source": [
    "Make a NetworkX graph from a known data structure.\n",
    "\n",
    "More details can be found here https://networkx.github.io/documentation/stable/reference/classes/graph.html "
   ]
  },
  {
   "cell_type": "code",
   "execution_count": 70,
   "metadata": {},
   "outputs": [],
   "source": [
    "data =  {0: {1: {'weight':1}}} # dict-of-dicts single edge (0,1)\n",
    "\n",
    "#G = nx.to_networkx_graph(data)\n",
    "#or\n",
    "G = nx.Graph(data)\n",
    "\n"
   ]
  },
  {
   "cell_type": "markdown",
   "metadata": {},
   "source": [
    "Current known types are:\n",
    "- any NetworkX graph\n",
    "- dict-of-dicts\n",
    "- dict-of-lists\n",
    "- container (e.g. set, list, tuple) of edges\n",
    "-  iterator (e.g. itertools.chain) that produces edges\n",
    "- generator of edges\n",
    "- pandas DataFrame (row per edge)\n",
    "- numpy matrix\n",
    "- numpy ndarray\n",
    "- scipy sparse matrix\n",
    "- pygraphviz agraph."
   ]
  },
  {
   "cell_type": "markdown",
   "metadata": {},
   "source": [
    "### from dictionary"
   ]
  },
  {
   "attachments": {
    "grafik.png": {
     "image/png": "[encoded data removed]"
    }
   },
   "cell_type": "markdown",
   "metadata": {},
   "source": [
    "![grafik.png](attachment:grafik.png)"
   ]
  },
  {
   "cell_type": "markdown",
   "metadata": {},
   "source": [
    "Create a graph from a dictionary of dictionaries."
   ]
  },
  {
   "cell_type": "code",
   "execution_count": 71,
   "metadata": {},
   "outputs": [
    {
     "name": "stdout",
     "output_type": "stream",
     "text": [
      "Name: \n",
      "Type: Graph\n",
      "Number of nodes: 4\n",
      "Number of edges: 3\n",
      "Average degree:   1.5000\n",
      "[0, 2, 1, 3]\n",
      "[(0, 1), (0, 2), (2, 3)]\n"
     ]
    }
   ],
   "source": [
    "d = {0: {1: {} , 2: {}}, 2: {3: {}}}  # dict-of-dicts \n",
    "\n",
    "G = nx.Graph(d)\n",
    "#OR\n",
    "#G = nx.from_dict_of_dicts(d)\n",
    "\n",
    "print(nx.info(G))\n",
    "print(G.nodes())\n",
    "print(G.edges())"
   ]
  },
  {
   "cell_type": "markdown",
   "metadata": {},
   "source": [
    "Returns adjacency representation of graph as a dictionary of dictionaries"
   ]
  },
  {
   "cell_type": "code",
   "execution_count": 72,
   "metadata": {},
   "outputs": [
    {
     "data": {
      "text/plain": [
       "{0: {1: {}, 2: {}}, 2: {0: {}, 3: {}}, 1: {0: {}}, 3: {2: {}}}"
      ]
     },
     "execution_count": 72,
     "metadata": {},
     "output_type": "execute_result"
    }
   ],
   "source": [
    "nx.to_dict_of_dicts(G)"
   ]
  },
  {
   "cell_type": "markdown",
   "metadata": {},
   "source": [
    "### from dictionary of lists\n",
    "\n",
    "Create a graph from a dictionary of lists."
   ]
  },
  {
   "cell_type": "code",
   "execution_count": 73,
   "metadata": {},
   "outputs": [
    {
     "name": "stdout",
     "output_type": "stream",
     "text": [
      "Name: \n",
      "Type: Graph\n",
      "Number of nodes: 4\n",
      "Number of edges: 3\n",
      "Average degree:   1.5000\n",
      "[0, 2, 1, 3]\n",
      "[(0, 1), (0, 2), (2, 3)]\n"
     ]
    }
   ],
   "source": [
    "dol = {0: [1, 2], 2:[3]}  \n",
    "\n",
    "G = nx.Graph(dol)\n",
    "#OR\n",
    "#G = nx.from_dict_of_lists(dol)\n",
    "\n",
    "print(nx.info(G))\n",
    "print(G.nodes())\n",
    "print(G.edges())"
   ]
  },
  {
   "cell_type": "markdown",
   "metadata": {},
   "source": [
    "Returns adjacency representation of graph as a dictionary of lists."
   ]
  },
  {
   "cell_type": "code",
   "execution_count": 74,
   "metadata": {},
   "outputs": [
    {
     "data": {
      "text/plain": [
       "{0: [1, 2], 2: [0, 3], 1: [0], 3: [2]}"
      ]
     },
     "execution_count": 74,
     "metadata": {},
     "output_type": "execute_result"
    }
   ],
   "source": [
    "nx.to_dict_of_lists(G)"
   ]
  },
  {
   "cell_type": "markdown",
   "metadata": {},
   "source": [
    "### from lists of tuples"
   ]
  },
  {
   "cell_type": "markdown",
   "metadata": {},
   "source": [
    "Create a graph from a list of edges. It will be a list of tuples, where each list item represents an edge, and it is a tuple of the form ```(source_node, target_node)```"
   ]
  },
  {
   "cell_type": "code",
   "execution_count": 75,
   "metadata": {},
   "outputs": [
    {
     "name": "stdout",
     "output_type": "stream",
     "text": [
      "Name: \n",
      "Type: Graph\n",
      "Number of nodes: 4\n",
      "Number of edges: 3\n",
      "Average degree:   1.5000\n",
      "[0, 1, 2, 3]\n",
      "[(0, 1), (0, 2), (2, 3)]\n"
     ]
    }
   ],
   "source": [
    "edgelist = [(0, 1), (0, 2), (2, 3)]  \n",
    "\n",
    "G = nx.Graph(edgelist)\n",
    "#OR\n",
    "#G = nx.from_edgelist(edgelist)\n",
    "\n",
    "\n",
    "print(nx.info(G))\n",
    "print(G.nodes())\n",
    "print(G.edges())"
   ]
  },
  {
   "cell_type": "markdown",
   "metadata": {},
   "source": [
    "Converting a graph to a list of edges in the graph."
   ]
  },
  {
   "cell_type": "code",
   "execution_count": 76,
   "metadata": {},
   "outputs": [
    {
     "data": {
      "text/plain": [
       "EdgeDataView([(0, 1, {}), (0, 2, {}), (2, 3, {})])"
      ]
     },
     "execution_count": 76,
     "metadata": {},
     "output_type": "execute_result"
    }
   ],
   "source": [
    "nx.to_edgelist(G)"
   ]
  },
  {
   "cell_type": "code",
   "execution_count": 77,
   "metadata": {},
   "outputs": [
    {
     "data": {
      "text/plain": [
       "EdgeDataView([(1, 0, {})])"
      ]
     },
     "execution_count": 77,
     "metadata": {},
     "output_type": "execute_result"
    }
   ],
   "source": [
    "nx.to_edgelist(G, nodelist=[1])"
   ]
  },
  {
   "cell_type": "markdown",
   "metadata": {},
   "source": [
    "### Types of network (More detail in the next Demo after the lunch)"
   ]
  },
  {
   "cell_type": "markdown",
   "metadata": {},
   "source": [
    "Example with type of network. Set the parameter `create_using` when the network is generated."
   ]
  },
  {
   "cell_type": "code",
   "execution_count": 78,
   "metadata": {},
   "outputs": [
    {
     "name": "stdout",
     "output_type": "stream",
     "text": [
      "Name: \n",
      "Type: DiGraph\n",
      "Number of nodes: 4\n",
      "Number of edges: 3\n",
      "Average in degree:   0.7500\n",
      "Average out degree:   0.7500\n",
      "[0, 1, 2, 3]\n",
      "[(0, 1), (0, 2), (2, 3)]\n"
     ]
    }
   ],
   "source": [
    "# Here, we specify what type of network we want by setting the parameter \"create_using\"\n",
    "\n",
    "G = nx.from_edgelist(edgelist, create_using=nx.DiGraph)\n",
    "print(nx.info(G))\n",
    "print(G.nodes())\n",
    "print(G.edges())"
   ]
  }
 ],
 "metadata": {
  "kernelspec": {
   "display_name": "Python 3",
   "language": "python",
   "name": "python3"
  },
  "language_info": {
   "codemirror_mode": {
    "name": "ipython",
    "version": 3
   },
   "file_extension": ".py",
   "mimetype": "text/x-python",
   "name": "python",
   "nbconvert_exporter": "python",
   "pygments_lexer": "ipython3",
   "version": "3.8.3"
  }
 },
 "nbformat": 4,
 "nbformat_minor": 4
}
