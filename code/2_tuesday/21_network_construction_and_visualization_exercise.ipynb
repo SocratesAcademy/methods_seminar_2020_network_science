{
 "cells": [
  {
   "cell_type": "markdown",
   "metadata": {},
   "source": [
    "### 1st Virtual Methods Seminar: Methods of Computational Social Science\n",
    "## Introduction to Social Network Science with Python\n",
    "# Network Construction & Visualization (Exercise 2.1)\n",
    "Instructors: Haiko Lietz & Olga Zagovora\n",
    "\n",
    "Date: September 23, 2020"
   ]
  },
  {
   "cell_type": "markdown",
   "metadata": {},
   "source": [
    "## Packages"
   ]
  },
  {
   "cell_type": "code",
   "execution_count": null,
   "metadata": {},
   "outputs": [],
   "source": [
    "import sys\n",
    "libs_path = '../libs/'\n",
    "sys.path.append(libs_path)\n",
    "import compsoc as cs"
   ]
  },
  {
   "cell_type": "code",
   "execution_count": null,
   "metadata": {},
   "outputs": [],
   "source": [
    "import networkx as nx\n",
    "import pandas as pd"
   ]
  },
  {
   "cell_type": "markdown",
   "metadata": {},
   "source": [
    "## Introduction"
   ]
  },
  {
   "attachments": {
    "grafik.png": {
     "image/png": "[encoded data removed]"
    }
   },
   "cell_type": "markdown",
   "metadata": {},
   "source": [
    "![grafik.png](attachment:grafik.png)\n",
    "\n",
    "In this exercise, we will take a look at the scholarly field of Social Network Science (1916-2012). It will be our example dataset to learn to get traction on the functions `compsoc` provides to make network analysis easier for us. In particular, we will construct and draw a co-authorship network. Load the dataset using the `sns_collection()` function:"
   ]
  },
  {
   "cell_type": "code",
   "execution_count": null,
   "metadata": {},
   "outputs": [],
   "source": [
    "publications, subfields, authors, authorships, words, usages = cs.sns_collection(path='../../data/sns/')"
   ]
  },
  {
   "cell_type": "markdown",
   "metadata": {},
   "source": [
    "Get familiar with this data collection. Above you see the entity relationship model. **Take a look** at the `publications`, `authors`, and `authorships` tables. See how identifiers are used in these tables and where attributes are stored:"
   ]
  },
  {
   "cell_type": "code",
   "execution_count": null,
   "metadata": {},
   "outputs": [],
   "source": [
    "publications.info()"
   ]
  },
  {
   "cell_type": "markdown",
   "metadata": {},
   "source": [
    "The data needs preprocessing before it can be used.\n",
    "\n",
    "(1) Extract all authorships since 2010. First extract all publications published since 2010, ..."
   ]
  },
  {
   "cell_type": "code",
   "execution_count": null,
   "metadata": {},
   "outputs": [],
   "source": [
    "publications_2010 = publications[publications['time'] >= 2010]['publication_id']\n",
    "publications_2010"
   ]
  },
  {
   "cell_type": "markdown",
   "metadata": {},
   "source": [
    "... then extract all authorships in which those publications were authored:"
   ]
  },
  {
   "cell_type": "code",
   "execution_count": null,
   "metadata": {},
   "outputs": [],
   "source": [
    "authorships_2010 = authorships[authorships['publication_id'].isin(publications_2010)].copy()\n",
    "authorships_2010"
   ]
  },
  {
   "cell_type": "markdown",
   "metadata": {},
   "source": [
    "(2) Remove publications with exceptionally many authors. First identify the team size per publication, ..."
   ]
  },
  {
   "cell_type": "code",
   "execution_count": null,
   "metadata": {},
   "outputs": [],
   "source": [
    "team_size = authorships_2010.groupby('publication_id').size()"
   ]
  },
  {
   "cell_type": "code",
   "execution_count": null,
   "metadata": {},
   "outputs": [],
   "source": [
    "team_size"
   ]
  },
  {
   "cell_type": "markdown",
   "metadata": {},
   "source": [
    "... then remove from this dataframe column those publications with (mean + 3 dtandard deviations) or more authors, ..."
   ]
  },
  {
   "cell_type": "code",
   "execution_count": null,
   "metadata": {},
   "outputs": [],
   "source": [
    "publication_ids = team_size[team_size < team_size.mean()+3*team_size.std()].index"
   ]
  },
  {
   "cell_type": "markdown",
   "metadata": {},
   "source": [
    "... and only keep the respective `authorships`:"
   ]
  },
  {
   "cell_type": "code",
   "execution_count": null,
   "metadata": {},
   "outputs": [],
   "source": [
    "authorships_2010 = authorships_2010[authorships_2010['publication_id'].isin(publication_ids)]"
   ]
  },
  {
   "cell_type": "markdown",
   "metadata": {},
   "source": [
    "(3) Assign a unit weight to be used as cell values for matrix construction. These ones mean that each author authors a publication only once:"
   ]
  },
  {
   "cell_type": "code",
   "execution_count": null,
   "metadata": {},
   "outputs": [],
   "source": [
    "authorships_2010.loc[:, 'weight'] = 1\n",
    "authorships_2010.head()"
   ]
  },
  {
   "cell_type": "markdown",
   "metadata": {},
   "source": [
    "## Exercise 1\n",
    "Project the `authorships_2010` selection matrix to the author `co_authorships_2010` matrix using the `project_selection_matrix()` function. Project to the `'facts'` mode and use normalization. What are the names of the 20 most connected authors?\n",
    "\n",
    "Hints:\n",
    "- Read the description of the `project_selection_matrix()` function in the compsoc.py file.\n",
    "- To find the author names, merge the original `authors` dataframe (where the name is) with the `author_attributes_2010` dataframe (the second dataframe created by the `project_selection_matrix()` function, where the degree is): `pd.merge(left=authors, right=author_attributes_2010, on='author_id', how='left')`\n",
    "\n",
    "## Solution 1"
   ]
  },
  {
   "cell_type": "code",
   "execution_count": null,
   "metadata": {},
   "outputs": [],
   "source": []
  },
  {
   "cell_type": "markdown",
   "metadata": {},
   "source": [
    "---"
   ]
  },
  {
   "cell_type": "markdown",
   "metadata": {},
   "source": [
    "## Exercise 2\n",
    "Construct the undirected co-authorship graph. Use node degree as the default node size. Give a basic description of the whole graph as well as the largest connected component.\n",
    "\n",
    "Hints:\n",
    "- Read the description of the `construct_graph()` function in the compsoc.py file.\n",
    "- The largest connected component of a graph `G` is `G.subgraph(max(nx.connected_components(G), key=len))`.\n",
    "\n",
    "## Solution 2"
   ]
  },
  {
   "cell_type": "code",
   "execution_count": null,
   "metadata": {},
   "outputs": [],
   "source": []
  },
  {
   "cell_type": "markdown",
   "metadata": {},
   "source": [
    "---"
   ]
  },
  {
   "cell_type": "markdown",
   "metadata": {},
   "source": [
    "## Exercise 3\n",
    "Draw the largest connected component of the co-authorship graph. Make sure that node degree is used as the default node size. Compute node positions and store them in a variable.\n",
    "\n",
    "Hint: Read the description of the `draw_graph()` function in the compsoc.py file.\n",
    "## Solution 3"
   ]
  },
  {
   "cell_type": "code",
   "execution_count": null,
   "metadata": {},
   "outputs": [],
   "source": []
  },
  {
   "cell_type": "markdown",
   "metadata": {},
   "source": [
    "---"
   ]
  },
  {
   "cell_type": "markdown",
   "metadata": {},
   "source": [
    "## Exercise 4\n",
    "Change node size from `degree` to `weight` (the number of publications an author has authored).\n",
    "\n",
    "Hint: Read the description of the `draw_graph()` function in the compsoc.py file. What type of object does the `node_size` parameter need as input?\n",
    "## Solution 4"
   ]
  },
  {
   "cell_type": "code",
   "execution_count": null,
   "metadata": {},
   "outputs": [],
   "source": []
  }
 ],
 "metadata": {
  "kernelspec": {
   "display_name": "Python 3",
   "language": "python",
   "name": "python3"
  },
  "language_info": {
   "codemirror_mode": {
    "name": "ipython",
    "version": 3
   },
   "file_extension": ".py",
   "mimetype": "text/x-python",
   "name": "python",
   "nbconvert_exporter": "python",
   "pygments_lexer": "ipython3",
   "version": "3.8.3"
  }
 },
 "nbformat": 4,
 "nbformat_minor": 4
}
