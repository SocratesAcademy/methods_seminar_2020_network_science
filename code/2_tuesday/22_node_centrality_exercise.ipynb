{
 "cells": [
  {
   "cell_type": "markdown",
   "metadata": {},
   "source": [
    "# Exercise 2.2\n",
    "# Node Centrality"
   ]
  },
  {
   "cell_type": "markdown",
   "metadata": {},
   "source": [
    "__Task 1.__\n",
    "\n",
    "You should familiarize yourself with the copenhagen dataset. Copenhagen is a Multiplex network of interactions among 845 university students. It provides four types of the tie: physical proximity (bluetooth), calls, short messages (sms), and Facebook friendships. \n",
    "\n",
    "More details about the dataset you can find here https://github.com/gesiscss/compsoc/blob/master/copenhagen.ipynb  \n",
    "\n",
    "You should read the dataset files, select one type of tie (please, do not select bluetooth data), load it into the networkx graph, and draw it. \n",
    "If you select call or sms data, you should consider some transformations/grouping of the data. For example, you can group all calls for each user pairs per day and use the sum of call duration as a weight of the edge. \n",
    "\n",
    "Answer the following question: Which graph type did you selected for your network, and why? \n",
    "\n",
    "Then you should calculate different centralities and store them as columns to the dataframe. Describe why you have made these choices. What are the minings of those centralities for your network?\n",
    "\n",
    "- Hint: remove users that do not have any ties. We provide you with the code on how to select nodes that are connected with other users. \n",
    "- Hint: think of removing/tranforming 0 weights.\n",
    "- Hint: if you anyways want to select the bluetooth data, you should consider to slice the data to only one day. \n",
    "\n",
    "__Task 2.__\n",
    "\n",
    "Test correlations between different types of centralities. Which classes of centrality are internally correlated but externally uncorrelated?\n",
    "\n",
    " - Hint: you can use DataFrame function `corr()` and _seaborn_ library to visualize correlation coefficients' range."
   ]
  },
  {
   "cell_type": "markdown",
   "metadata": {},
   "source": [
    "# Task 1"
   ]
  },
  {
   "cell_type": "code",
   "execution_count": null,
   "metadata": {},
   "outputs": [],
   "source": [
    "import sys\n",
    "libs_path = '../libs/'\n",
    "sys.path.append(libs_path)\n",
    "import compsoc as cs\n",
    "\n",
    "\n",
    "import matplotlib.pyplot as plt\n",
    "import networkx as nx\n",
    "import pandas as pd"
   ]
  },
  {
   "cell_type": "code",
   "execution_count": null,
   "metadata": {},
   "outputs": [],
   "source": [
    "users, genders, _, calls, sms, facebook_friends = cs.copenhagen_collection(##add your code here ##"
   ]
  },
  {
   "cell_type": "code",
   "execution_count": null,
   "metadata": {},
   "outputs": [],
   "source": [
    "#map gender with colors and add new column node_color to the dataframe\n",
    "#where \"users\" is the name of DataFrame you load the users information from\n",
    "users.loc[:,\"node_color\"] = pd.Series(cs.partition_to_vertex_property(users['gender_id'],\n",
    "                                                                      {0: '#e41a1c', 1: '#377eb8', 2: '#4daf4a'}))"
   ]
  },
  {
   "cell_type": "code",
   "execution_count": null,
   "metadata": {},
   "outputs": [],
   "source": [
    "##add your code here ##\n",
    "\n",
    "\n"
   ]
  },
  {
   "cell_type": "code",
   "execution_count": null,
   "metadata": {},
   "outputs": [],
   "source": [
    "##add your code here ##\n",
    "\n",
    "\n"
   ]
  },
  {
   "cell_type": "code",
   "execution_count": null,
   "metadata": {},
   "outputs": [],
   "source": [
    "#Uncomment the follwing lines if you want to use calls data. This code groups duration of calls. \n",
    "#Function sum is used to sum duration of calls. \n",
    "\n",
    "#calls=calls.groupby([\"user_id_from\",\n",
    "#                     \"user_id_to\"]).sum()[[\"duration\"]].reset_index().rename(columns={\"duration\":\"weight\"})"
   ]
  },
  {
   "cell_type": "code",
   "execution_count": null,
   "metadata": {},
   "outputs": [],
   "source": [
    "#Sometimes there are weights that equal 0\n",
    "#You might want to \n",
    "#- either remove these edges assuming that there were no connections if sum of weights was zero, \n",
    "#- or assign very small values instead of zero values.\n",
    "#calls[calls[\"weight\"]<=0]"
   ]
  },
  {
   "cell_type": "code",
   "execution_count": null,
   "metadata": {},
   "outputs": [],
   "source": [
    "#do not forget to calculate reversed weights, you might need them to calculate certain centralities\n",
    "##add your code here ##\n",
    "\n"
   ]
  },
  {
   "cell_type": "code",
   "execution_count": null,
   "metadata": {},
   "outputs": [],
   "source": [
    "##add your code here ##\n",
    "\n",
    "\n"
   ]
  },
  {
   "cell_type": "code",
   "execution_count": null,
   "metadata": {},
   "outputs": [],
   "source": [
    "#use nice positioning for the node\n",
    "vp_pos = nx.spring_layout(G, iterations=100)"
   ]
  },
  {
   "cell_type": "code",
   "execution_count": null,
   "metadata": {},
   "outputs": [],
   "source": [
    "##add your code here ##\n",
    "\n",
    "\n"
   ]
  },
  {
   "cell_type": "code",
   "execution_count": null,
   "metadata": {},
   "outputs": [],
   "source": [
    "#Here is the simple code that would help you to select only nodes that are connected between each other.\n",
    "#The group of such nodes is called the biggest connected component\n",
    "#G = G.subgraph(max(nx.connected_components(nx.to_undirected(G)), key=len))\n",
    "\n",
    "#If you remove disconnected component, you would need a dataframe with these nodes only. \n",
    "#Afterwards you can use this dataframe to add centralities\n",
    "#users_sms=users[users.user_id.isin(list(G.nodes))]\n",
    "\n",
    "#do not forget to recalculate the pretty positioning again\n",
    "#vp_pos = nx.spring_layout(G, iterations=100)\n"
   ]
  },
  {
   "cell_type": "code",
   "execution_count": null,
   "metadata": {},
   "outputs": [],
   "source": [
    "##add your code here ##\n",
    "\n"
   ]
  },
  {
   "cell_type": "code",
   "execution_count": null,
   "metadata": {},
   "outputs": [],
   "source": [
    "##add your code here ##\n",
    "\n"
   ]
  },
  {
   "cell_type": "markdown",
   "metadata": {},
   "source": [
    "# Task 2"
   ]
  },
  {
   "cell_type": "code",
   "execution_count": null,
   "metadata": {},
   "outputs": [],
   "source": [
    "import numpy as np\n",
    "import pandas as pd\n",
    "import seaborn as sns\n",
    "import matplotlib.pyplot as plt\n",
    "\n",
    "# Compute the correlation matrix\n",
    "corr = df.corr()"
   ]
  },
  {
   "cell_type": "code",
   "execution_count": null,
   "metadata": {},
   "outputs": [],
   "source": [
    "##add your code here ##\n",
    "\n"
   ]
  },
  {
   "cell_type": "code",
   "execution_count": null,
   "metadata": {},
   "outputs": [],
   "source": []
  }
 ],
 "metadata": {
  "kernelspec": {
   "display_name": "Python 3",
   "language": "python",
   "name": "python3"
  },
  "language_info": {
   "codemirror_mode": {
    "name": "ipython",
    "version": 3
   },
   "file_extension": ".py",
   "mimetype": "text/x-python",
   "name": "python",
   "nbconvert_exporter": "python",
   "pygments_lexer": "ipython3",
   "version": "3.8.3"
  }
 },
 "nbformat": 4,
 "nbformat_minor": 4
}
