{
 "cells": [
  {
   "cell_type": "markdown",
   "metadata": {},
   "source": [
    "Version: 27 July 2020\n",
    "### 40. Methodenseminar (Online-Seminar)\n",
    "## Methods of Computational Social Science\n",
    "# Introduction to Social Network Science with Python"
   ]
  },
  {
   "cell_type": "markdown",
   "metadata": {},
   "source": [
    "### Pre-Course Preparation\n",
    "Congratulations, you have successfully installed Anaconda and opened this notebook. You're now ready to do data analyses with a large number of pre-installed packages.\n",
    "#### Getting Acquainted to Jupyter Notebooks\n",
    "Consult [this introduction](https://jupyter-notebook.readthedocs.io/en/stable/notebook.html) to learn what Jupyter Notebooks are.\n",
    "\n",
    "The text you're currently reading is written in a cell which is a \"Markdown\" cell. Double click on this cell to see the markdown code. You will see that (multiple) hash keys are used to create headlines.\n",
    "\n",
    "In markdown cells, you can display maths,"
   ]
  },
  {
   "cell_type": "markdown",
   "metadata": {},
   "source": [
    " $a^2+b^2=c^2$"
   ]
  },
  {
   "cell_type": "markdown",
   "metadata": {},
   "source": [
    "equations,"
   ]
  },
  {
   "cell_type": "markdown",
   "metadata": {},
   "source": [
    "\\begin{equation}\n",
    "p(x)=Cx^{-\\alpha},\n",
    "\\end{equation}"
   ]
  },
  {
   "cell_type": "markdown",
   "metadata": {},
   "source": [
    "tables,"
   ]
  },
  {
   "cell_type": "markdown",
   "metadata": {},
   "source": [
    "| This | is |\n",
    "|-|-|\n",
    "| a | table|"
   ]
  },
  {
   "cell_type": "markdown",
   "metadata": {},
   "source": [
    "and images."
   ]
  },
  {
   "cell_type": "markdown",
   "metadata": {},
   "source": [
    "<img src='images/jupyter.png'/>"
   ]
  },
  {
   "cell_type": "markdown",
   "metadata": {},
   "source": [
    "To switch from markdown code to display, \"run\" the cell, either by clicking the \"Run\" button above or by pushing \"Shift-Enter\".\n",
    "\n",
    "There are many great keyboard shortcuts. Press \"h\" to see a list of shortcuts.\n",
    "\n",
    "Say hello to Anaconda:"
   ]
  },
  {
   "cell_type": "code",
   "execution_count": 1,
   "metadata": {},
   "outputs": [
    {
     "data": {
      "text/plain": [
       "'Hello Anaconda'"
      ]
     },
     "execution_count": 1,
     "metadata": {},
     "output_type": "execute_result"
    }
   ],
   "source": [
    "'Hello Anaconda'"
   ]
  },
  {
   "cell_type": "code",
   "execution_count": 2,
   "metadata": {},
   "outputs": [],
   "source": [
    "x = 'Hello Anaconda'"
   ]
  },
  {
   "cell_type": "code",
   "execution_count": 3,
   "metadata": {},
   "outputs": [
    {
     "data": {
      "text/plain": [
       "'Hello Anaconda'"
      ]
     },
     "execution_count": 3,
     "metadata": {},
     "output_type": "execute_result"
    }
   ],
   "source": [
    "x"
   ]
  },
  {
   "cell_type": "code",
   "execution_count": 4,
   "metadata": {},
   "outputs": [
    {
     "name": "stdout",
     "output_type": "stream",
     "text": [
      "Hello Anaconda\n"
     ]
    }
   ],
   "source": [
    "print(x)"
   ]
  },
  {
   "cell_type": "markdown",
   "metadata": {},
   "source": [
    "#### Importing Packages\n",
    "The Anaconda distribution of Python is handy because it comes with many pre-installed code packages. In principle, such modules or libraries are activated with the ``import`` command:"
   ]
  },
  {
   "cell_type": "code",
   "execution_count": 5,
   "metadata": {},
   "outputs": [],
   "source": [
    "import math"
   ]
  },
  {
   "cell_type": "markdown",
   "metadata": {},
   "source": [
    "Now that the package is ready, you can call one of its methods, e.g., the ``log10()`` method:"
   ]
  },
  {
   "cell_type": "code",
   "execution_count": 6,
   "metadata": {},
   "outputs": [
    {
     "data": {
      "text/plain": [
       "1.0"
      ]
     },
     "execution_count": 6,
     "metadata": {},
     "output_type": "execute_result"
    }
   ],
   "source": [
    "math.log10(10)"
   ]
  },
  {
   "cell_type": "markdown",
   "metadata": {},
   "source": [
    "Sometimes you will want to use a short name for a package:"
   ]
  },
  {
   "cell_type": "code",
   "execution_count": 7,
   "metadata": {},
   "outputs": [],
   "source": [
    "import math as mt"
   ]
  },
  {
   "cell_type": "code",
   "execution_count": 8,
   "metadata": {},
   "outputs": [
    {
     "data": {
      "text/plain": [
       "1.0"
      ]
     },
     "execution_count": 8,
     "metadata": {},
     "output_type": "execute_result"
    }
   ],
   "source": [
    "mt.log10(10)"
   ]
  },
  {
   "cell_type": "markdown",
   "metadata": {},
   "source": [
    "Note that you have to type the package name (``math`` or ``mt``) before each method call. You can also import a specific method of a package. Then the explicit call is not necessary:"
   ]
  },
  {
   "cell_type": "code",
   "execution_count": 9,
   "metadata": {},
   "outputs": [],
   "source": [
    "from math import log10"
   ]
  },
  {
   "cell_type": "code",
   "execution_count": 10,
   "metadata": {},
   "outputs": [
    {
     "data": {
      "text/plain": [
       "1.0"
      ]
     },
     "execution_count": 10,
     "metadata": {},
     "output_type": "execute_result"
    }
   ],
   "source": [
    "log10(10)"
   ]
  },
  {
   "cell_type": "markdown",
   "metadata": {},
   "source": [
    "Now that you know the basics of importing, make sure that the pre-installed packages work. NumPy, Pandas, and NetworkX are the main ones we will be using in the course. Check them out."
   ]
  },
  {
   "cell_type": "markdown",
   "metadata": {},
   "source": [
    "##### NumPy\n",
    "NumPy is the fundamental package for handling vectors, matrices, and tensors. Information and tutorials [here](http://www.numpy.org/)."
   ]
  },
  {
   "cell_type": "code",
   "execution_count": 11,
   "metadata": {},
   "outputs": [],
   "source": [
    "import numpy as np"
   ]
  },
  {
   "cell_type": "markdown",
   "metadata": {},
   "source": [
    "An example command:"
   ]
  },
  {
   "cell_type": "code",
   "execution_count": 12,
   "metadata": {},
   "outputs": [
    {
     "data": {
      "text/plain": [
       "[1, 2, 3, nan, 5, nan, nan, 8]"
      ]
     },
     "execution_count": 12,
     "metadata": {},
     "output_type": "execute_result"
    }
   ],
   "source": [
    "a = [1, 2, 3, np.nan, 5, np.nan, np.nan, 8]\n",
    "a"
   ]
  },
  {
   "cell_type": "code",
   "execution_count": 13,
   "metadata": {},
   "outputs": [
    {
     "data": {
      "text/plain": [
       "nan"
      ]
     },
     "execution_count": 13,
     "metadata": {},
     "output_type": "execute_result"
    }
   ],
   "source": [
    "np.mean(a)"
   ]
  },
  {
   "cell_type": "code",
   "execution_count": 14,
   "metadata": {},
   "outputs": [
    {
     "data": {
      "text/plain": [
       "3.8"
      ]
     },
     "execution_count": 14,
     "metadata": {},
     "output_type": "execute_result"
    }
   ],
   "source": [
    "np.nanmean(a)"
   ]
  },
  {
   "cell_type": "markdown",
   "metadata": {},
   "source": [
    "##### Pandas\n",
    "Pandas provides data structures and data analysis tools (it is the closest Python gets to Excel ;) Information and tutorials [here](http://pandas.pydata.org/)."
   ]
  },
  {
   "cell_type": "code",
   "execution_count": 15,
   "metadata": {},
   "outputs": [],
   "source": [
    "import pandas as pd"
   ]
  },
  {
   "cell_type": "code",
   "execution_count": 16,
   "metadata": {},
   "outputs": [
    {
     "data": {
      "text/plain": [
       "0    1.0\n",
       "1    2.0\n",
       "2    3.0\n",
       "3    NaN\n",
       "4    5.0\n",
       "5    NaN\n",
       "6    NaN\n",
       "7    8.0\n",
       "dtype: float64"
      ]
     },
     "execution_count": 16,
     "metadata": {},
     "output_type": "execute_result"
    }
   ],
   "source": [
    "s = pd.Series(a)\n",
    "s"
   ]
  },
  {
   "cell_type": "code",
   "execution_count": 17,
   "metadata": {},
   "outputs": [
    {
     "data": {
      "text/plain": [
       "3.8"
      ]
     },
     "execution_count": 17,
     "metadata": {},
     "output_type": "execute_result"
    }
   ],
   "source": [
    "s.mean()"
   ]
  },
  {
   "cell_type": "markdown",
   "metadata": {},
   "source": [
    "##### NetworkX\n",
    "NetworkX is the package for the creation, manipulation, and study of networks that we use in class. Information and tutorials [here](https://networkx.github.io/)."
   ]
  },
  {
   "cell_type": "code",
   "execution_count": 18,
   "metadata": {},
   "outputs": [],
   "source": [
    "import networkx as nx"
   ]
  },
  {
   "cell_type": "code",
   "execution_count": 19,
   "metadata": {},
   "outputs": [
    {
     "name": "stdout",
     "output_type": "stream",
     "text": [
      "nodes: ['Mary', 'Peter']\n",
      "edges: [('Mary', 'Peter')]\n"
     ]
    }
   ],
   "source": [
    "g = nx.Graph()\n",
    "g.add_edge('Peter', 'Mary')\n",
    "print('nodes:', list(g.nodes()))\n",
    "print('edges:', list(g.edges()))"
   ]
  },
  {
   "cell_type": "code",
   "execution_count": 20,
   "metadata": {},
   "outputs": [],
   "source": [
    "nx.draw(g)"
   ]
  },
  {
   "cell_type": "markdown",
   "metadata": {},
   "source": [
    "#### Installing Packages (not needed for the course)\n",
    "Even though Anaconda comes with many pre-installed packages, some may be missing. The best way to install packages using the Anaconda Navigator. You can also call ``conda install package-name`` in the terminal following [this user guide](https://docs.anaconda.com/anaconda/user-guide/tasks/install-packages/). Open a terminal in the home screen as shown in the above image. However, some packages are not available for installation using ``conda``. In this case, some packages can be installed using ``pip install package-name``. There is an important difference between ``conda`` and ``pip``, particularly regarding environments and dependencies. Learn more about this [here](https://www.anaconda.com/understanding-conda-and-pip/), if interested."
   ]
  },
  {
   "cell_type": "markdown",
   "metadata": {},
   "source": [
    "#### Practicing Python\n",
    "Finally, you will need to have basic knowledge of coding in Python to benefit from the course. Please do not underestimate this. There are a few ways you can get experience with coding in Python.\n",
    "\n",
    "If you have enrolled in the 2-day [Introduction to Python for Social Scientists](https://training.gesis.org/?site=pDetails&child=full&pID=0x387DA6358EF341928F67355388570B76&subID=0xC6F60AF2989A45BFBFDB2570E677EA1E) you should be fine.\n",
    "\n",
    "If you haven't enrolled -- or if you just want to make sure you're prepared --, please work through notebooks 01 to 06 in the same ILIAS folder as this notebook. These notebooks teach you most elementary Python skills.\n",
    "\n",
    "However, those notebooks still don't teach you about NumPy and Pandas. To get acquainted with those packages, please study the relevant sections of the *Python Data Science Handbook* by Jake VanderPlas, either by\n",
    "\n",
    "- visiting the book's [website](https://jakevdp.github.io/PythonDataScienceHandbook/), clicking on the sections you want to study, and typing the code in a blank local notebook;\n",
    "- visiting the book's [code repository](https://github.com/jakevdp/PythonDataScienceHandbook), cloning or downloading the notebooks, and opening them locally; or\n",
    "- visiting the book's [code repository](https://github.com/jakevdp/PythonDataScienceHandbook) and executing the notebooks on a virtual server (\"Open in Colab\" or \"launch binder\" at the bottom of the page).\n",
    "\n",
    "Check out sections [1](https://jakevdp.github.io/PythonDataScienceHandbook/02.01-understanding-data-types.html), [2](https://jakevdp.github.io/PythonDataScienceHandbook/02.02-the-basics-of-numpy-arrays.html), [3](https://jakevdp.github.io/PythonDataScienceHandbook/02.03-computation-on-arrays-ufuncs.html) on NumPy and sections [1](https://jakevdp.github.io/PythonDataScienceHandbook/03.01-introducing-pandas-objects.html), [2](https://jakevdp.github.io/PythonDataScienceHandbook/03.02-data-indexing-and-selection.html), [3](https://jakevdp.github.io/PythonDataScienceHandbook/03.03-operations-in-pandas.html), [6](https://jakevdp.github.io/PythonDataScienceHandbook/03.05-hierarchical-indexing.html), [7](https://jakevdp.github.io/PythonDataScienceHandbook/03.06-concat-and-append.html) on Pandas."
   ]
  },
  {
   "cell_type": "markdown",
   "metadata": {},
   "source": [
    "### Recommended Readings\n",
    "There are two schools of doing network analysis. Borgatti & Everett (2018) teach the Social Network Analysis way that has been practiced in the social sciences for over fifty years. Menczer et al. (2020) teach the network science way that is being practiced in the interdiciplinary complex networks community for about 20 years. In the course, we will draw on both schools. Zweig (2016) adds important commentary and epistemological guidance to doing better network analysis. We will also make reference to the general social network theory of White (2008). A summary of this theory is available in German (Schmitt & Fuhse, 2015).\n",
    "\n",
    "#### References\n",
    "Borgatti, S.P., M.G. Everett, & J.C. Johnson. 2018. *Analyzing Social Networks*. 2nd Edition. SAGE.\n",
    "\n",
    "White, H.C. 2008. *Identity and Control: How Social Formations Emerge*. Princeton University Press.\n",
    "\n",
    "Schmitt, M. & J. Fuhse. 2015. *Zur Aktualität von Harrison White: Einführung in sein Werk*. Springer VS.\n",
    "\n",
    "Menczer, F., S. Fortunato, & C.A. Davis. 2020. *A First Course in Network Science*. Cambridge University Press. Tutorials, datasets, and other material at: https://github.com/CambridgeUniversityPress/FirstCourseNetworkScience/\n",
    "\n",
    "Zweig, K.A. 2016. *Network Analysis Literacy*. Springer."
   ]
  },
  {
   "cell_type": "code",
   "execution_count": null,
   "metadata": {},
   "outputs": [],
   "source": []
  },
  {
   "cell_type": "code",
   "execution_count": null,
   "metadata": {},
   "outputs": [],
   "source": []
  }
 ],
 "metadata": {
  "kernel_info": {
   "name": "python3"
  },
  "kernelspec": {
   "display_name": "Python 3",
   "language": "python",
   "name": "python3"
  },
  "language_info": {
   "codemirror_mode": {
    "name": "ipython",
    "version": 3
   },
   "file_extension": ".py",
   "mimetype": "text/x-python",
   "name": "python",
   "nbconvert_exporter": "python",
   "pygments_lexer": "ipython3",
   "version": "3.5.2"
  },
  "nav_menu": {},
  "nteract": {
   "version": "0.8.4"
  },
  "toc": {
   "navigate_menu": true,
   "number_sections": true,
   "sideBar": true,
   "threshold": 4,
   "toc_cell": false,
   "toc_section_display": "block",
   "toc_window_display": false
  }
 },
 "nbformat": 4,
 "nbformat_minor": 2
}
